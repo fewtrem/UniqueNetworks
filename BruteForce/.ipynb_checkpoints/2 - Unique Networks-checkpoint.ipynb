{
 "metadata": {
  "name": ""
 },
 "nbformat": 3,
 "nbformat_minor": 0,
 "worksheets": [
  {
   "cells": [
    {
     "cell_type": "heading",
     "level": 2,
     "metadata": {},
     "source": [
      "Philosophy"
     ]
    },
    {
     "cell_type": "markdown",
     "metadata": {},
     "source": [
      "We have several matrices that represent the same network, e.g.:\n",
      "    \\usepackage{amsmath}\n",
      "      a) \\begin{bmatrix}\n",
      "        0 & 1 & 0 & 1 & 0 \\\\\n",
      "        0 & 0 & 1 & 0 & 0 \\\\\n",
      "        0 & 0 & 0 & 0 & 1 \\\\\n",
      "        0 & 0 & 0 & 0 & 1 \\\\\n",
      "        0 & 0 & 0 & 0 & 0 \\\\\n",
      "      \\end{bmatrix}\n",
      "      \\usepackage{amsmath}\n",
      "      b) \\begin{bmatrix}\n",
      "        0 & 1 & 1 & 0 & 0 \\\\\n",
      "        0 & 0 & 0 & 1 & 0 \\\\\n",
      "        0 & 0 & 0 & 0 & 1 \\\\\n",
      "        0 & 0 & 0 & 0 & 1 \\\\\n",
      "        0 & 0 & 0 & 0 & 0 \\\\\n",
      "      \\end{bmatrix}\n",
      "        \\usepackage{amsmath}\n",
      "      c) \\begin{bmatrix}\n",
      "        0 & 1 & 1 & 0 & 0 \\\\\n",
      "        0 & 0 & 0 & 0 & 1 \\\\\n",
      "        0 & 0 & 0 & 1 & 0 \\\\\n",
      "        0 & 0 & 0 & 0 & 1 \\\\\n",
      "        0 & 0 & 0 & 0 & 0 \\\\\n",
      "      \\end{bmatrix}\n",
      "     \n",
      "We want to be able to state a unique way to represent these as we don't want to search a database and compare them... We could state we can start with all possible matrices and then go through the values and drop matrices everytime there is one with a number that is greater still present in the group for each successive value.  The question is, can we easily identify if a matrix we have is this matrix or not?  We could draw them out and calculate its optimal representation, but this might take a while.  Can we use the matrix itself to check this?  We can rearrange the values from each as we go along, among rows, so should be able to simply see if a higher value from each row can take the place of the current one, without creating any values in the void areas, but this does not take account of any suboptimal solution initially.  We do need to take account of order of later nodes in the paths (but this MIGHT actually be easier...)"
     ]
    },
    {
     "cell_type": "heading",
     "level": 2,
     "metadata": {},
     "source": [
      "Writing Functions"
     ]
    },
    {
     "cell_type": "code",
     "collapsed": false,
     "input": [
      "%pylab inline"
     ],
     "language": "python",
     "metadata": {},
     "outputs": [
      {
       "output_type": "stream",
       "stream": "stdout",
       "text": [
        "Populating the interactive namespace from numpy and matplotlib\n"
       ]
      }
     ],
     "prompt_number": 4
    },
    {
     "cell_type": "code",
     "collapsed": false,
     "input": [
      "import datetime"
     ],
     "language": "python",
     "metadata": {},
     "outputs": [],
     "prompt_number": 729
    },
    {
     "cell_type": "code",
     "collapsed": false,
     "input": [
      "testMatrix = np.matrix('0,1,0,1,0;0,0,1,0,0;0,0,0,0,1;0,0,0,0,1;0,0,0,0,0')\n",
      "print testMatrix"
     ],
     "language": "python",
     "metadata": {},
     "outputs": [
      {
       "output_type": "stream",
       "stream": "stdout",
       "text": [
        "[[0 1 0 1 0]\n",
        " [0 0 1 0 0]\n",
        " [0 0 0 0 1]\n",
        " [0 0 0 0 1]\n",
        " [0 0 0 0 0]]\n"
       ]
      }
     ],
     "prompt_number": 20
    },
    {
     "cell_type": "code",
     "collapsed": false,
     "input": [
      "def scanMat(inMat):\n",
      "    n = inMat.shape[0]\n",
      "    # scan through the matrix\n",
      "    i = 1\n",
      "    for x in range(n-1):\n",
      "        for y in range(x+1,n):\n",
      "            # if the value is zero, scan ahead and look for potential replacements.\n",
      "            inMat[x,y] = i\n",
      "            i+=1\n",
      "    return inMat"
     ],
     "language": "python",
     "metadata": {},
     "outputs": [],
     "prompt_number": 6
    },
    {
     "cell_type": "code",
     "collapsed": false,
     "input": [
      "%%timeit -n1 -r1\n",
      "scanMat(testMatrix)"
     ],
     "language": "python",
     "metadata": {},
     "outputs": [
      {
       "output_type": "stream",
       "stream": "stdout",
       "text": [
        "1 loops, best of 1: 14.1 \u00b5s per loop\n"
       ]
      }
     ],
     "prompt_number": 33
    },
    {
     "cell_type": "code",
     "collapsed": false,
     "input": [
      "def getNodeOrderOut(inMat):\n",
      "    return np.asarray(np.transpose(np.sum(inMat,axis=1)))[0,:]"
     ],
     "language": "python",
     "metadata": {},
     "outputs": [],
     "prompt_number": 166
    },
    {
     "cell_type": "markdown",
     "metadata": {},
     "source": [
      "We want to calculate the order of each node, we can do this easily:"
     ]
    },
    {
     "cell_type": "code",
     "collapsed": false,
     "input": [
      "%%timeit -n1 -r1\n",
      "getNodeOrderOut(testMatrix)"
     ],
     "language": "python",
     "metadata": {},
     "outputs": [
      {
       "output_type": "stream",
       "stream": "stdout",
       "text": [
        "1 loops, best of 1: 63.9 \u00b5s per loop\n"
       ]
      }
     ],
     "prompt_number": 167
    },
    {
     "cell_type": "markdown",
     "metadata": {},
     "source": [
      "We now want to make sure that if we are arranging them the higher orders get lower numbers to weight the connections towards the top of the matrix...  Be careful not to mix up the numbers once they start to be re-ordered?"
     ]
    },
    {
     "cell_type": "code",
     "collapsed": false,
     "input": [
      "# returns a list of nodes that have all their incoming connections copied over and thus can be considered for numbering...\n",
      "# Input: reducingMat - set rows (\"from\") to zero when node copied over (old ids)\n",
      "# nodesLeft: list of nodes that still need to be transfered (old ids)\n",
      "# Returns:\n",
      "# a list of the node ids in the old network that have not yet been assigned:\n",
      "def listUnconnectedNodes(reducingMat,nodesDone):\n",
      "    # create return list:\n",
      "    outputList = []\n",
      "    # look through the nodesDone list to see if node has been done or not:\n",
      "    for nL in range(len(nodesDone)):\n",
      "        # pick only undone nodes:\n",
      "        if nodesDone[nL] == 0:\n",
      "            # see if the COLUMN sum (incoming) is zero:\n",
      "            if sum(reducingMat[:,nL]) == 0:\n",
      "                # if yes add to list:\n",
      "                outputList.append(nL)\n",
      "    return outputList\n",
      "# RECURRENT NOTE: will not work as recurrent nodes remove requirement for there to be free nodes..."
     ],
     "language": "python",
     "metadata": {},
     "outputs": [],
     "prompt_number": 1451
    },
    {
     "cell_type": "code",
     "collapsed": false,
     "input": [
      "# Input:\n",
      "# sortedI - order descending of INDEXES of orig sorted by matrix vals.\n",
      "# orig - the original list of node matches new to old that was ambiguous.\n",
      "# tempCol - the values pre sorting of connections!\n",
      "def findNewSplits(sortedI,orig,tempCol):\n",
      "    # groups that we will output that will replace the above ambiguity IN ORDER!\n",
      "    groups = []\n",
      "    # the value in this array- let's start at zero\n",
      "    thisV = tempCol[sortedI[0]]\n",
      "    # the group that this ambiguity becomes (as it MIGHT split a larger ambiguity into, say two smaller ones)\n",
      "    thisG = [orig[sortedI[0]]]\n",
      "    # go through the members of the group in the new order,\n",
      "    for i in range(1,len(orig)):\n",
      "        # if the connection value matches then keep it in this group\n",
      "        if tempCol[sortedI[i]] == thisV:\n",
      "            thisG.append(orig[sortedI[i]])\n",
      "        # if the value differs, then end the group by appending it and start a new one:\n",
      "        else:\n",
      "            #for j in range(len(thisG)):\n",
      "            groups.append(thisG)\n",
      "            # new values:\n",
      "            thisG = [orig[sortedI[i]]]\n",
      "            thisV = tempCol[sortedI[i]]\n",
      "    # append the last group:\n",
      "    #for j in range(len(thisG)):\n",
      "    groups.append(thisG)\n",
      "    # return the original to search for in the main matrix new to old index list with the replacements:\n",
      "    #print \"running on \",sortedI,\" on\",tempCol, \" to fix \",orig\n",
      "    #print \"result is\",groups\n",
      "    return orig,groups"
     ],
     "language": "python",
     "metadata": {},
     "outputs": [],
     "prompt_number": 1452
    },
    {
     "cell_type": "code",
     "collapsed": false,
     "input": [
      "# Make the new potential column:\n",
      "# returns new column vector that would exist obeying maximising top-left rule, with resolutions to ambiguity that would occur.\n",
      "def getColToAdd(numNodesDone,nodeMatchesNO,nTC,origMat,ambigStoreIn):\n",
      "    nodeMatchesNO = copy.deepcopy(nodeMatchesNO)\n",
      "    ambigStoreIn = copy.deepcopy(ambigStoreIn)\n",
      "    # new column vector to return:\n",
      "    newCol = np.zeros(numNodesDone)\n",
      "    # populate the column for this one that would be added:\n",
      "    # store the connection to prior nodes that we are on (blocks occur in loop if ambiguity needs to be resolved):\n",
      "    i = 0\n",
      "    while i < numNodesDone:\n",
      "        # get length of the matching node\n",
      "        lenToAdd = len(nodeMatchesNO[i])\n",
      "        # if not ambiguous just update column vector with value:\n",
      "        if lenToAdd==1:\n",
      "            newCol[i] = origMat[nodeMatchesNO[i][0],nTC]\n",
      "        # if ambiguous, then resolve ambiguity to our advantage:\n",
      "        else:\n",
      "            # If there is ambiguity then make sure that the pairing is resolved (if necessary) at least partially to give maximum score...\n",
      "            # create a temporary column subset for this ambiguity bit:\n",
      "            tempCol = -np.ones(lenToAdd)\n",
      "            # go through the ambiguous bits and add them to our temporary storage:\n",
      "            for j in range(lenToAdd):\n",
      "                # add to temp the value\n",
      "                tempCol[j] = origMat[nodeMatchesNO[i][j],nTC]\n",
      "            # sort it based on colvalues (to get INDICES!)\n",
      "            sortedTempI = np.argsort(tempCol)[::-1]\n",
      "            # find the splits that this would create in the ambiguity:\n",
      "            # AND MAKE A NOTE OF THE RESOLUTION REQUIRED (if any)\n",
      "            # of the form [old pairing] > [new higher pairing, new lower pairing]\n",
      "            resToApp = findNewSplits(sortedTempI,nodeMatchesNO[i],tempCol)\n",
      "            # add the sorted subvector to the overall column vector:\n",
      "            for j in range(lenToAdd):\n",
      "                # note index lookup in sortedTempI\n",
      "                newCol[i+j] = tempCol[sortedTempI[j]]\n",
      "            # Update the local nodeMatchesNO for later with these assigned values from above:\n",
      "            nodeMatchesNO,ambigStore = resolveAmbig(resToApp,nodeMatchesNO,ambigStoreIn,numNodesDone)\n",
      "        # increment i to look at next lot.\n",
      "        i += lenToAdd\n",
      "    # return\n",
      "    return newCol,nodeMatchesNO[0:numNodesDone]"
     ],
     "language": "python",
     "metadata": {},
     "outputs": [],
     "prompt_number": 1453
    },
    {
     "cell_type": "code",
     "collapsed": false,
     "input": [
      "# take in the column in and multiply each entry by the corresponding wMAT entry and sum them.\n",
      "def scoreCalc(colIn,wMAT):\n",
      "    return np.sum(np.multiply(colIn,wMAT[0:len(colIn)]))"
     ],
     "language": "python",
     "metadata": {},
     "outputs": [],
     "prompt_number": 1454
    },
    {
     "cell_type": "code",
     "collapsed": false,
     "input": [
      "# returns a list of nodes that the assigning of which would produce maximally weighted towards zero additions to the matrix.\n",
      "# origMat - the original matrix\n",
      "# nodesToCons - nodes being inspected in OLD matrix\n",
      "# numNodesDone - number of nodes assigned (length of column)\n",
      "# nodeMatchesNO - mapping new to old indices, as list of arrays...\n",
      "# wMAT - weight matrix for sum function (to save calculations of this)\n",
      "# tried to minimise the amount of list appending etc.\n",
      "def getMaxes(origMat,nodesToCons,numNodesDone,nodeMatchesNO,wMAT,ambigStore):\n",
      "    nodeMatchesNO = copy.deepcopy(nodeMatchesNO)\n",
      "    ambigStoreIn = copy.deepcopy(ambigStore)\n",
      "    # store temp nMNO:\n",
      "    nodeMatchesNOList = []\n",
      "    # make the new adding majig (column):\n",
      "    # a place to store the scores...\n",
      "    scores = np.zeros(len(nodesToCons))\n",
      "    # a place to store the maximum column vectors for each node being considered\n",
      "    cold = np.zeros((len(nodesToCons),numNodesDone))\n",
      "    # go through all the nodes we are considering\n",
      "    for k in range(len(nodesToCons)):\n",
      "        # get the ID of this node in the old matrix:\n",
      "        nTC = nodesToCons[k]\n",
      "        # get the maximised column if we were to add this new node and the resolutions that would be required for it to work.\n",
      "        newCol,nodeMatchesNONew = getColToAdd(numNodesDone,nodeMatchesNO,nTC,origMat,ambigStore)\n",
      "        # if there are resolutions to do then make sure that we add them to the list:\n",
      "        nodeMatchesNOList.append(nodeMatchesNONew)\n",
      "        # get the score for this block:\n",
      "        scores[k] = scoreCalc(newCol,wMAT)\n",
      "        # save this new vector in case it useful:\n",
      "        cold[k,:] = newCol\n",
      "    # find the maximum score (simples)\n",
      "    maxScore = max(scores)\n",
      "    # start a list to return of maxes (using old indices)\n",
      "    maxes = []\n",
      "    # The subset index so we can extract from the vector store the appropriate vector:\n",
      "    nodeLi = 0\n",
      "    # Go through and find maxes:\n",
      "    # A place to store the maximum's nodeMatchesNO list:\n",
      "    nodeMatchesNONewList = []\n",
      "    for i in range(len(scores)):\n",
      "        if scores[i] == maxScore:\n",
      "            # append nMNOL+max ref:\n",
      "            nodeMatchesNONewList.append([nodesToCons[i],nodeMatchesNOList[i]])\n",
      "            # update index storer\n",
      "            nodeLi = i\n",
      "    # return:\n",
      "    return nodeMatchesNONewList"
     ],
     "language": "python",
     "metadata": {},
     "outputs": [],
     "prompt_number": 1455
    },
    {
     "cell_type": "code",
     "collapsed": false,
     "input": [
      "# this function checks that the nodeMatchesNO is consistent with the ambigStore\n",
      "def checkPriorAmbig(nodeMatchesNO,nodesDoneNum,ambigStore,additions):\n",
      "    #print \"cPA\"\n",
      "    #print \"ambigStore\",ambigStore\n",
      "    #print \"nodeMatchesNOIn:\",nodeMatchesNO\n",
      "    # go through and see if the updated ambiguityStore means that we can remove some ambiguity:\n",
      "    NOi = 0\n",
      "    while NOi<nodesDoneNum:\n",
      "        # we are looking at this possible ambiguity:\n",
      "        thisCheck = nodeMatchesNO[NOi]\n",
      "        if len(thisCheck)>1:\n",
      "            # store the new ambiguities:\n",
      "            newAmS = []\n",
      "            # flag for resolving:\n",
      "            resolveIt = False\n",
      "            # go through the positions that the 1st ambig takes up in NO:\n",
      "            for i in range(len(thisCheck)):\n",
      "                # go through the old nodes in the ambiguity at this pos:\n",
      "                newNodeAm = []\n",
      "                for j in range (len(thisCheck)):\n",
      "                    # we must check that this ambiguity is valid for all following ambiguities.....(yes,seriously)\n",
      "                    NOj = NOi+len(thisCheck)\n",
      "                    # flag for going through all the ambiguities:\n",
      "                    isValid = True\n",
      "                    while NOj<nodesDoneNum+len(additions) and isValid == True:\n",
      "                        newLocAm = []\n",
      "                        if NOj==nodesDoneNum:\n",
      "                            thisCheck2=additions\n",
      "                        else:\n",
      "                            thisCheck2 = nodeMatchesNO[NOj]                           \n",
      "                        #print \"checking \",thisCheck,\"with \",thisCheck2\n",
      "                    # go through the ambiguities in the store and look in each that is part of this ambiguity:\n",
      "                        found = False\n",
      "                        aSi = 0\n",
      "                        while aSi <len(ambigStore) and found == False:                       \n",
      "                            # see if the AS entry has in its ambiguity for this new node the old node in question:\n",
      "                            #print maxesInfo[nNOi][1]\n",
      "                            #print \"nodesDoneNum: \",nodesDoneNum\n",
      "                            #print \"thisCheck\", thisCheck\n",
      "                            if len(ambigStore[aSi][1]) > NOi+i and ambigStore[aSi][0] in thisCheck2:\n",
      "                                for l in ambigStore[aSi][1][NOi+i]:\n",
      "                                    if l == thisCheck[j]:\n",
      "                                        found = True\n",
      "                            aSi+=1\n",
      "                        # if it can't be found its not okay...!\n",
      "                        if found != True:\n",
      "                            isValid = False\n",
      "                        NOj += len(thisCheck2)\n",
      "                    if isValid == True:\n",
      "                        newNodeAm.append(thisCheck[j])\n",
      "                # unless it isn't referenced anywhere at all!\n",
      "                if newNodeAm != thisCheck and  newNodeAm != []:\n",
      "                    resolveIt = True\n",
      "                # append to new ambiguity\n",
      "                newAmS.append(newNodeAm)\n",
      "            # now go through and get splits:\n",
      "            newAm = []\n",
      "            lastAm = None\n",
      "            for ai in range(len(newAmS)):\n",
      "                if newAmS[ai] != lastAm:\n",
      "                    newAm.append(newAmS[ai])\n",
      "                    lastAm=newAmS[ai]\n",
      "            # see if it is different:\n",
      "            if resolveIt == True:\n",
      "                # output this as a \"resToApp\":\n",
      "                resToApp = [thisCheck,newAmS]\n",
      "                # Note we need to run an update of the ambiguity for each ambiguity where we reorder stuff properly if required!\n",
      "                nodeMatchesNO,ambigStore = resolveAmbig(resToApp,nodeMatchesNO,ambigStore,nodesDoneNum)\n",
      "        NOi += len(thisCheck)\n",
      "    #print nodeMatchesNO\n",
      "    return nodeMatchesNO,ambigStore"
     ],
     "language": "python",
     "metadata": {},
     "outputs": [],
     "prompt_number": 1456
    },
    {
     "cell_type": "code",
     "collapsed": false,
     "input": [
      "# can only update one ambiguity at a time!\n",
      "def resolveAmbig(thisResolution,nodeMatchesNOIn,ambigStore,noDoneNodes):\n",
      "    # new one is a copy\n",
      "    nodeMatchesNO = copy.deepcopy(nodeMatchesNOIn)\n",
      "    # thisResolution:  [old,[[new1],[new2]]], use j for list of news, and k for new list\n",
      "    \n",
      "    print \"no1\",nodeMatchesNO\n",
      "    # add a check through ambiguityStore to see what we can set in this\n",
      "    # then update the ambiguityStore with the new knowledge (only keep valid ones)\n",
      "    # REORDER(possible) + CORRECT(possible) FURTHER AMBIGUITIES BY USING THE AMBIGSTORE TO MAP THEM!\n",
      "    \n",
      "    # better labels:\n",
      "    oldMapping = thisResolution[0]\n",
      "    newMapping = thisResolution[1]\n",
      "    # go through list of nodes and match ambiguities and then resolve them, with counter (k) at zero for the start of each one:\n",
      "    j=0\n",
      "    # counter for number set to new ambiguity:\n",
      "    k=0\n",
      "    doneThis = False\n",
      "    newOrder = -np.ones(len(oldMapping))\n",
      "    NOi = 0\n",
      "    while NOi < noDoneNodes and doneThis == False:\n",
      "        print \"NOi\",NOi\n",
      "        # if this node has this ambiguity (match old):\n",
      "        if np.array_equal(nodeMatchesNO[NOi],oldMapping):\n",
      "            thisLen = len(nodeMatchesNO[NOi])\n",
      "            # go through this old list (with i as counter)\n",
      "            for i in range(len(oldMapping)):\n",
      "                # then update it with the appropriate one from this list:\n",
      "                nodeMatchesNO[NOi+i] = thisResolution[1][j]\n",
      "                newOrder[i] = thisResolution[1][j][k]\n",
      "                # increment counter.\n",
      "                k+=1\n",
      "                # if the counter has maxed out the new ambiguous list one then increment to get next one!\n",
      "                if k==len(thisResolution[1][j]):\n",
      "                    k=0\n",
      "                    # increment counter:\n",
      "                    j+=1\n",
      "            doneThis = True\n",
      "        # increment this counter:\n",
      "        NOi += len(thisLen)\n",
      "    # create a map from the oldMapping to the new one for ease of retrieving the order:\n",
      "    onMap = {}\n",
      "    for oMi in range(len(oldMapping)):\n",
      "        onMap[oldMapping[oMi]] = int(newOrder[oMi])\n",
      "        \n",
      "    # Go through the ambiguity store and recreate it such that it fits the new resolved ambiguities (order etc.):\n",
      "    if len(thisResolution[0])!=len(thisResolution[1]):\n",
      "        # go through the 2nd order resolutions...\n",
      "        # place to store what we must append to the end of the ambig stores:\n",
      "        toAppend = []\n",
      "        for ap in thisResolution[1][0]:\n",
      "            toAppend.append(thisResolution[1][0])\n",
      "        # now to go through the rest of the new resolutions and find them:\n",
      "        for tRi in range(1,len(thisResolution[1])):\n",
      "            # search the ambigStore for this:\n",
      "            for ambig in ambigStore:\n",
      "                if ambig[0] in thisResolution[1][tRi]:\n",
      "                    ambig[1] += toAppend\n",
      "            for ap in thisResolution[1][tRi]:\n",
      "                toAppend.append(thisResolution[1][tRi])    \n",
      "    # now scan through the ambigStore and recreate the NO mapping...:\n",
      "    nodeMatchesNO,ambigStore = checkPriorAmbig(nodeMatchesNO,noDoneNodes,ambigStore,[])\n",
      "        \n",
      "    # for later beginning:\n",
      "    NOj = np.copy(NOi)\n",
      "    # Now look at the remaining ambiguities, and see if they need to be reordered:\n",
      "    while NOi < noDoneNodes:\n",
      "        print \"NOi2\",NOi\n",
      "        # see if is ambiguous:\n",
      "        thisAmbig = list(np.copy(nodeMatchesNO[NOi]))\n",
      "        lenThis = len(thisAmbig)\n",
      "        if lenThis > 1:\n",
      "            # place to store this ambiguities Ambiguous Store results:\n",
      "            aSCheck = []\n",
      "            # go through the nodes in the ambiguity:\n",
      "            for i in range(lenThis):\n",
      "                # get the ones that we need by going through the store:\n",
      "                for aS in ambigStore:\n",
      "                    # and seeing if their old node ID is equal to the node in the ambiguity:\n",
      "                    if aS[0]==thisAmbig[i]:\n",
      "                        # append to our subset of the Ambiguity Store in order\n",
      "                        aSCheck.append(copy.deepcopy(aS))\n",
      "            # Store a copy:\n",
      "            aSCheckNoChange = copy.deepcopy(aSCheck)\n",
      "            # update the old prior by going through aSCheck and changing old to new:\n",
      "            for tC in aSCheck:\n",
      "                # go through each entry in the mapping in this ambigStore entry:\n",
      "                for tCmi in range(len(tC[1])):\n",
      "                    # go through each entry in this and replace with the updated ambiguity:\n",
      "                    for tCei in range(len(tC[1][tCmi])):\n",
      "                        # replace it:\n",
      "                        if tC[1][tCmi][tCei] in oldMapping:\n",
      "                            tC[1][tCmi][tCei]  = onMap[tC[1][tCmi][tCei] ]\n",
      "                    # now reorder them by node number:\n",
      "                    tC[1][tCmi] = list(np.sort(tC[1][tCmi]))\n",
      "            # work out what the new order is:\n",
      "            thisANO = []\n",
      "            # a place to store the new order as related to the subset (for later):\n",
      "            thisSorted = []\n",
      "            # go through the unchanged subset of the ambiguity store:\n",
      "            aSCheckToReorder = copy.deepcopy(aSCheckNoChange)\n",
      "            \n",
      "            for tC in aSCheckToReorder:\n",
      "                # reorder by number for comparrisons\n",
      "                for tCmi in range(len(tC[1])):\n",
      "                    tC[1][tCmi] = list(np.sort(tC[1][tCmi]))\n",
      "            print thisResolution\n",
      "            print \"aSR\",aSCheckToReorder\n",
      "            print NOi\n",
      "            print aSCheck\n",
      "            print \"NO:\",nodeMatchesNO\n",
      "            # go through the mapped version and if they match the old but reordered one then store node id:\n",
      "            for aS in aSCheck: # ordered\n",
      "                for aRi in range(len(aSCheckToReorder)): # matchable\n",
      "                    # if a match then we know that the old poisition aRi now has this value:\n",
      "                    if np.array_equal(aS[1],aSCheckToReorder[aRi][1]):\n",
      "                        # store mapping number new>old\n",
      "                        thisSorted.append(aRi)\n",
      "                        # unasign so we can't assign again!!!\n",
      "                        aSCheckToReorder[aRi][1] = None\n",
      "            # now find any splits in this ambiguity:\n",
      "            # we need to go through and relabel the nodes:\n",
      "            gffMAP = {}\n",
      "            NOl = 0\n",
      "            gff = -1\n",
      "            aSCheckREALChange = copy.deepcopy(aSCheckNoChange)\n",
      "            while NOl < noDoneNodes:\n",
      "                thisGFF = nodeMatchesNO[NOl]\n",
      "                for gffi in range(len(thisGFF)):\n",
      "                    gffMAP[nodeMatchesNO[NOl][gffi]] = gff\n",
      "                NOl += len(thisGFF)\n",
      "                gff -= 1\n",
      "            for ASCi in range(len(aSCheckREALChange)):\n",
      "                for ASCj in range(len(aSCheckREALChange[ASCi][1])):\n",
      "                    for ASCk in range(len(aSCheckREALChange[ASCi][1][ASCj])):\n",
      "                            aSCheckREALChange[ASCi][1][ASCj][ASCk] = gffMAP[aSCheckNoChange[ASCi][1][ASCj][ASCk]]\n",
      "            # last checked aS column:\n",
      "            print \"REAL\",aSCheckREALChange\n",
      "            print thisSorted\n",
      "            tCPast = aSCheckREALChange[thisSorted[0]][1]\n",
      "            # this current node list:\n",
      "            tCThis = [aSCheckREALChange[thisSorted[0]][0]]\n",
      "            # place to store new ambiguity:\n",
      "            newtC = []\n",
      "            for tCi in range(1,len(aSCheckNoChange)):\n",
      "                if np.array_equal(tCPast,aSCheckREALChange[thisSorted[tCi]][1]):\n",
      "                    tCThis.append(aSCheckREALChange[thisSorted[tCi]][0])\n",
      "                else:\n",
      "                    newtC.append(tCThis)\n",
      "                    tCThis = [aSCheckREALChange[thisSorted[tCi]][0]]\n",
      "                    tCPast = aSCheckREALChange[thisSorted[tCi]][1]\n",
      "            newtC.append(tCThis)\n",
      "            # Append this to the oldMapping and newMapping and set as the new one:\n",
      "            #print [list(thisAmbig)],newtC\n",
      "            if not np.array_equal([thisAmbig],newtC):\n",
      "                nodeMatchesNO,ambigStore = resolveAmbig([thisAmbig,newtC],nodeMatchesNO,ambigStore,noDoneNodes)\n",
      "        NOi += len(thisAmbig)\n",
      "    # Remember: the order of ambiguities is important!\n",
      "    return nodeMatchesNO,ambigStore"
     ],
     "language": "python",
     "metadata": {},
     "outputs": [],
     "prompt_number": 1475
    },
    {
     "cell_type": "code",
     "collapsed": false,
     "input": [
      "print h\n",
      "r = reorderMat(h,3)\n",
      "print r[0].astype('int')\n",
      "print r[1]"
     ],
     "language": "python",
     "metadata": {},
     "outputs": [
      {
       "ename": "IndexError",
       "evalue": "list index out of range",
       "output_type": "pyerr",
       "traceback": [
        "\u001b[1;31m---------------------------------------------------------------------------\u001b[0m\n\u001b[1;31mIndexError\u001b[0m                                Traceback (most recent call last)",
        "\u001b[1;32m<ipython-input-1476-08086dc0e035>\u001b[0m in \u001b[0;36m<module>\u001b[1;34m()\u001b[0m\n\u001b[0;32m      1\u001b[0m \u001b[1;32mprint\u001b[0m \u001b[0mh\u001b[0m\u001b[1;33m\u001b[0m\u001b[0m\n\u001b[1;32m----> 2\u001b[1;33m \u001b[0mr\u001b[0m \u001b[1;33m=\u001b[0m \u001b[0mreorderMat\u001b[0m\u001b[1;33m(\u001b[0m\u001b[0mh\u001b[0m\u001b[1;33m,\u001b[0m\u001b[1;36m3\u001b[0m\u001b[1;33m)\u001b[0m\u001b[1;33m\u001b[0m\u001b[0m\n\u001b[0m\u001b[0;32m      3\u001b[0m \u001b[1;32mprint\u001b[0m \u001b[0mr\u001b[0m\u001b[1;33m[\u001b[0m\u001b[1;36m0\u001b[0m\u001b[1;33m]\u001b[0m\u001b[1;33m.\u001b[0m\u001b[0mastype\u001b[0m\u001b[1;33m(\u001b[0m\u001b[1;34m'int'\u001b[0m\u001b[1;33m)\u001b[0m\u001b[1;33m\u001b[0m\u001b[0m\n\u001b[0;32m      4\u001b[0m \u001b[1;32mprint\u001b[0m \u001b[0mr\u001b[0m\u001b[1;33m[\u001b[0m\u001b[1;36m1\u001b[0m\u001b[1;33m]\u001b[0m\u001b[1;33m\u001b[0m\u001b[0m\n",
        "\u001b[1;32m<ipython-input-1449-4f513cf3e591>\u001b[0m in \u001b[0;36mreorderMat\u001b[1;34m(inMat, w)\u001b[0m\n\u001b[0;32m     40\u001b[0m             \u001b[1;31m# maxesInfo - [[old ids of node(s) that produce maximum output, the new mapping for this to work]]\u001b[0m\u001b[1;33m\u001b[0m\u001b[1;33m\u001b[0m\u001b[0m\n\u001b[0;32m     41\u001b[0m             \u001b[1;31m# colToAdd - the column of length number of connected nodes that can be added to the matrix now.\u001b[0m\u001b[1;33m\u001b[0m\u001b[1;33m\u001b[0m\u001b[0m\n\u001b[1;32m---> 42\u001b[1;33m             \u001b[0mmaxesInfo\u001b[0m \u001b[1;33m=\u001b[0m \u001b[0mgetMaxes\u001b[0m\u001b[1;33m(\u001b[0m\u001b[0minMat\u001b[0m\u001b[1;33m,\u001b[0m\u001b[0munConnNodes\u001b[0m\u001b[1;33m,\u001b[0m\u001b[0mnodesDoneNum\u001b[0m\u001b[1;33m,\u001b[0m\u001b[0mnodeMatchesNO\u001b[0m\u001b[1;33m,\u001b[0m\u001b[0mwMAT\u001b[0m\u001b[1;33m,\u001b[0m\u001b[0mambigStore\u001b[0m\u001b[1;33m)\u001b[0m\u001b[1;33m\u001b[0m\u001b[0m\n\u001b[0m\u001b[0;32m     43\u001b[0m             \u001b[1;31m# get the new mapping...\u001b[0m\u001b[1;33m\u001b[0m\u001b[1;33m\u001b[0m\u001b[0m\n\u001b[0;32m     44\u001b[0m             \u001b[0mambigStore\u001b[0m \u001b[1;33m=\u001b[0m \u001b[0mambigStore\u001b[0m\u001b[1;33m+\u001b[0m\u001b[0mmaxesInfo\u001b[0m\u001b[1;33m\u001b[0m\u001b[0m\n",
        "\u001b[1;32m<ipython-input-1455-91e735631c74>\u001b[0m in \u001b[0;36mgetMaxes\u001b[1;34m(origMat, nodesToCons, numNodesDone, nodeMatchesNO, wMAT, ambigStore)\u001b[0m\n\u001b[0;32m     21\u001b[0m         \u001b[0mnTC\u001b[0m \u001b[1;33m=\u001b[0m \u001b[0mnodesToCons\u001b[0m\u001b[1;33m[\u001b[0m\u001b[0mk\u001b[0m\u001b[1;33m]\u001b[0m\u001b[1;33m\u001b[0m\u001b[0m\n\u001b[0;32m     22\u001b[0m         \u001b[1;31m# get the maximised column if we were to add this new node and the resolutions that would be required for it to work.\u001b[0m\u001b[1;33m\u001b[0m\u001b[1;33m\u001b[0m\u001b[0m\n\u001b[1;32m---> 23\u001b[1;33m         \u001b[0mnewCol\u001b[0m\u001b[1;33m,\u001b[0m\u001b[0mnodeMatchesNONew\u001b[0m \u001b[1;33m=\u001b[0m \u001b[0mgetColToAdd\u001b[0m\u001b[1;33m(\u001b[0m\u001b[0mnumNodesDone\u001b[0m\u001b[1;33m,\u001b[0m\u001b[0mnodeMatchesNO\u001b[0m\u001b[1;33m,\u001b[0m\u001b[0mnTC\u001b[0m\u001b[1;33m,\u001b[0m\u001b[0morigMat\u001b[0m\u001b[1;33m,\u001b[0m\u001b[0mambigStore\u001b[0m\u001b[1;33m)\u001b[0m\u001b[1;33m\u001b[0m\u001b[0m\n\u001b[0m\u001b[0;32m     24\u001b[0m         \u001b[1;31m# if there are resolutions to do then make sure that we add them to the list:\u001b[0m\u001b[1;33m\u001b[0m\u001b[1;33m\u001b[0m\u001b[0m\n\u001b[0;32m     25\u001b[0m         \u001b[0mnodeMatchesNOList\u001b[0m\u001b[1;33m.\u001b[0m\u001b[0mappend\u001b[0m\u001b[1;33m(\u001b[0m\u001b[0mnodeMatchesNONew\u001b[0m\u001b[1;33m)\u001b[0m\u001b[1;33m\u001b[0m\u001b[0m\n",
        "\u001b[1;32m<ipython-input-1453-8d78ee1de9ff>\u001b[0m in \u001b[0;36mgetColToAdd\u001b[1;34m(numNodesDone, nodeMatchesNO, nTC, origMat, ambigStoreIn)\u001b[0m\n\u001b[0;32m     35\u001b[0m                 \u001b[0mnewCol\u001b[0m\u001b[1;33m[\u001b[0m\u001b[0mi\u001b[0m\u001b[1;33m+\u001b[0m\u001b[0mj\u001b[0m\u001b[1;33m]\u001b[0m \u001b[1;33m=\u001b[0m \u001b[0mtempCol\u001b[0m\u001b[1;33m[\u001b[0m\u001b[0msortedTempI\u001b[0m\u001b[1;33m[\u001b[0m\u001b[0mj\u001b[0m\u001b[1;33m]\u001b[0m\u001b[1;33m]\u001b[0m\u001b[1;33m\u001b[0m\u001b[0m\n\u001b[0;32m     36\u001b[0m             \u001b[1;31m# Update the local nodeMatchesNO for later with these assigned values from above:\u001b[0m\u001b[1;33m\u001b[0m\u001b[1;33m\u001b[0m\u001b[0m\n\u001b[1;32m---> 37\u001b[1;33m             \u001b[0mnodeMatchesNO\u001b[0m\u001b[1;33m,\u001b[0m\u001b[0mambigStore\u001b[0m \u001b[1;33m=\u001b[0m \u001b[0mresolveAmbig\u001b[0m\u001b[1;33m(\u001b[0m\u001b[0mresToApp\u001b[0m\u001b[1;33m,\u001b[0m\u001b[0mnodeMatchesNO\u001b[0m\u001b[1;33m,\u001b[0m\u001b[0mambigStoreIn\u001b[0m\u001b[1;33m,\u001b[0m\u001b[0mnumNodesDone\u001b[0m\u001b[1;33m)\u001b[0m\u001b[1;33m\u001b[0m\u001b[0m\n\u001b[0m\u001b[0;32m     38\u001b[0m         \u001b[1;31m# increment i to look at next lot.\u001b[0m\u001b[1;33m\u001b[0m\u001b[1;33m\u001b[0m\u001b[0m\n\u001b[0;32m     39\u001b[0m         \u001b[0mi\u001b[0m \u001b[1;33m+=\u001b[0m \u001b[0mlenToAdd\u001b[0m\u001b[1;33m\u001b[0m\u001b[0m\n",
        "\u001b[1;32m<ipython-input-1475-b33c50346e2b>\u001b[0m in \u001b[0;36mresolveAmbig\u001b[1;34m(thisResolution, nodeMatchesNOIn, ambigStore, noDoneNodes)\u001b[0m\n\u001b[0;32m    138\u001b[0m             \u001b[1;32mprint\u001b[0m \u001b[1;34m\"REAL\"\u001b[0m\u001b[1;33m,\u001b[0m\u001b[0maSCheckREALChange\u001b[0m\u001b[1;33m\u001b[0m\u001b[0m\n\u001b[0;32m    139\u001b[0m             \u001b[1;32mprint\u001b[0m \u001b[0mthisSorted\u001b[0m\u001b[1;33m\u001b[0m\u001b[0m\n\u001b[1;32m--> 140\u001b[1;33m             \u001b[0mtCPast\u001b[0m \u001b[1;33m=\u001b[0m \u001b[0maSCheckREALChange\u001b[0m\u001b[1;33m[\u001b[0m\u001b[0mthisSorted\u001b[0m\u001b[1;33m[\u001b[0m\u001b[1;36m0\u001b[0m\u001b[1;33m]\u001b[0m\u001b[1;33m]\u001b[0m\u001b[1;33m[\u001b[0m\u001b[1;36m1\u001b[0m\u001b[1;33m]\u001b[0m\u001b[1;33m\u001b[0m\u001b[0m\n\u001b[0m\u001b[0;32m    141\u001b[0m             \u001b[1;31m# this current node list:\u001b[0m\u001b[1;33m\u001b[0m\u001b[1;33m\u001b[0m\u001b[0m\n\u001b[0;32m    142\u001b[0m             \u001b[0mtCThis\u001b[0m \u001b[1;33m=\u001b[0m \u001b[1;33m[\u001b[0m\u001b[0maSCheckREALChange\u001b[0m\u001b[1;33m[\u001b[0m\u001b[0mthisSorted\u001b[0m\u001b[1;33m[\u001b[0m\u001b[1;36m0\u001b[0m\u001b[1;33m]\u001b[0m\u001b[1;33m]\u001b[0m\u001b[1;33m[\u001b[0m\u001b[1;36m0\u001b[0m\u001b[1;33m]\u001b[0m\u001b[1;33m]\u001b[0m\u001b[1;33m\u001b[0m\u001b[0m\n",
        "\u001b[1;31mIndexError\u001b[0m: list index out of range"
       ]
      },
      {
       "output_type": "stream",
       "stream": "stdout",
       "text": [
        "[[0 1 1 1 2 1 1 0]\n",
        " [0 0 0 0 2 0 1 1]\n",
        " [0 0 0 0 0 1 2 2]\n",
        " [0 0 0 0 0 1 2 2]\n",
        " [0 0 0 0 0 0 1 1]\n",
        " [0 0 0 0 0 0 1 1]\n",
        " [0 0 0 0 0 0 0 1]\n",
        " [0 0 0 0 0 0 0 0]]\n",
        "no1 [[0], [3, 2, 1], [3, 2, 1], [3, 2, 1], None, None, None, None]\n",
        "NOi 0\n",
        "NOi 1\n",
        "NOi2 2\n",
        "([3, 2, 1], [[1], [2, 3]])\n",
        "aSR [[2, [[0], [1]]], [3, [[0], [1]]]]\n",
        "2\n",
        "[[2, [[0], [3]]], [3, [[0], [3]]]]\n",
        "NO: [[0], [1], [2, 3], [2, 3], None, None, None, None]\n",
        "REAL [[2, [[-1], [-2]]], [3, [[-1], [-2]]]]\n",
        "[]\n"
       ]
      }
     ],
     "prompt_number": 1476
    },
    {
     "cell_type": "code",
     "collapsed": false,
     "input": [
      "# input matrix to reorder, with weights 0,1,...,w-2,w-1\n",
      "# input number of weights.\n",
      "def reorderMat(inMat,w):\n",
      "    # a place to store the amibguious possibilities:\n",
      "    # store as nodeMatchesNO, we will know when it was used by when -1s appear...\n",
      "    ambigStore = []\n",
      "    # The number of nodes in this matrix:\n",
      "    numNodes = inMat.shape[0]\n",
      "    # The weight matrix for calculating a unique sum for each column:\n",
      "    # Calculate it here to save processing time:\n",
      "    wMAT = np.zeros(numNodes)\n",
      "    for i in range(numNodes):\n",
      "        wMAT[i] = pow(w,i)\n",
      "    wMAT=wMAT[::-1]\n",
      "    # The nodes that have already been done (1), those not (0) using OLD indices\n",
      "    nodesDone = zeros(numNodes)\n",
      "    # a storage place for our node references:\n",
      "    # nodeMatches[newIndex] = oldIndex\n",
      "    nodeMatchesNO = [None] * numNodes\n",
      "    # a matrix we will set rows to zero in once that node has been included:\n",
      "    reducingMat = inMat.copy()\n",
      "    # a place to store the new matrix we will return at the end.\n",
      "    newMat = np.asmatrix(np.zeros(inMat.shape))\n",
      "    # pre assign zero to save some running costs:\n",
      "    # Done one Node:\n",
      "    nodesDoneNum = 1\n",
      "    # Done node zero:\n",
      "    nodesDone[0] = 1\n",
      "    # node zero matches node zero (always):\n",
      "    nodeMatchesNO[0] = [0]\n",
      "    # set all outgoing connections for zero in reducing matrix:\n",
      "    reducingMat[0,:]=0\n",
      "    # Now let's go through and assign each node to the new matrix:\n",
      "    while nodesDoneNum != numNodes:\n",
      "        # get the list of unconnected nodes (old ids):\n",
      "        unConnNodes = listUnconnectedNodes(reducingMat,nodesDone)\n",
      "        # get the maxes for this stage:\n",
      "        # if more than one node then we need to find which one(s) maximises the matrix towards the top-left:\n",
      "        if len(unConnNodes) > 1:\n",
      "            # maxesInfo - [[old ids of node(s) that produce maximum output, the new mapping for this to work]]\n",
      "            # colToAdd - the column of length number of connected nodes that can be added to the matrix now.\n",
      "            maxesInfo = getMaxes(inMat,unConnNodes,nodesDoneNum,nodeMatchesNO,wMAT,ambigStore)\n",
      "            # get the new mapping...\n",
      "            ambigStore = ambigStore+maxesInfo\n",
      "            additions = []\n",
      "            for ins in range(len(maxesInfo)):\n",
      "                additions.append(maxesInfo[ins][0])\n",
      "            nodeMatchesNO,ambigStore = checkPriorAmbig(nodeMatchesNO,nodesDoneNum,ambigStore,additions)\n",
      "            # now we know the new mapping do some ordering:\n",
      "            colToAddScores = []\n",
      "            colToAddList = []\n",
      "            for hh in range(len(maxesInfo)):\n",
      "                # now manipulate colToAdd to match this:\n",
      "                colToAdd2 = -np.ones(nodesDoneNum)\n",
      "                # we know what the order for this is already:\n",
      "                # for each pos in the column, get from the NO the lable:\n",
      "                NOi = 0\n",
      "                while NOi < nodesDoneNum:\n",
      "                    # go through nodes IN ORDER (v. important):\n",
      "                    for NodeToFill in nodeMatchesNO[NOi]:\n",
      "                        # We can just fill it from the original matrix:\n",
      "                        colToAdd2[NOi] = inMat[NodeToFill,maxesInfo[hh][0]]\n",
      "                        NOi += 1\n",
      "                colToAddList.append(colToAdd2)\n",
      "                colToAddScores.append(scoreCalc(colToAdd2,wMAT))\n",
      "                #print colToAdd, \"=?\", colToAdd2\n",
      "                #print nodeMatchesNO, \"=?\",newNO\n",
      "                #print resToDo[0], \"=?\",thisResolution\n",
      "            # sort by score:\n",
      "            sortedByScore = np.argsort(colToAddScores)[::-1]\n",
      "        # if less than one then we just need to find the column that we need to add to the new matrix (non-trivial as might resolve ambiguities in previous assignments)\n",
      "        else:\n",
      "            # as above, with resToAdd a boolean to tell whether there is adding required.\n",
      "            colToAdd,nodeMatchesNONew = getColToAdd(nodesDoneNum,nodeMatchesNO,unConnNodes[0],inMat,ambigStore)\n",
      "            # format it as if it is a list:\n",
      "            maxesInfo = [[unConnNodes[0],nodeMatchesNONew]]\n",
      "            # what if the new mapping reorders prior ambiguities?\n",
      "            ambigStore = ambigStore+ maxesInfo\n",
      "            nodeMatchesNO,ambigStore = checkPriorAmbig(nodeMatchesNO,nodesDoneNum,ambigStore,[unConnNodes[0]])\n",
      "            colToAddList = [colToAdd]\n",
      "            sortedByScore = [0]\n",
      "        # increment to store the column we are addressing...\n",
      "        for inh in range(len(maxesInfo)):\n",
      "            # m is ref in OLD matrix, so set node as done:\n",
      "            nodesDone[maxesInfo[sortedByScore[inh]][0]] = 1\n",
      "            # set columns in this row to be zero as incomings from this node all done.\n",
      "            reducingMat[maxesInfo[sortedByScore[inh]][0],:]=0\n",
      "            # actually update the columns in the new matrix!\n",
      "            # note that the update is for the first column only... others might need nodes switching around...\n",
      "            newMat[0:nodesDoneNum,nodesDoneNum+inh] = np.swapaxes([colToAddList[sortedByScore[inh]]],1,0)\n",
      "            # note any extra length would be zero as additional identical ones cannot talk to each other?\n",
      "        # then don't forget to add the new ambiguities in the CORRECT order..\n",
      "        toAdd = []\n",
      "        for inh in range(len(maxesInfo)):\n",
      "            toAdd.append(maxesInfo[sortedByScore[inh]][0])\n",
      "        for inh in range(len(maxesInfo)):\n",
      "            nodeMatchesNO[nodesDoneNum+inh]=toAdd\n",
      "        # set number of nodes done:\n",
      "        nodesDoneNum = int(sum(nodesDone))\n",
      "    # return the new matrix:\n",
      "    return newMat,nodeMatchesNO "
     ],
     "language": "python",
     "metadata": {},
     "outputs": [],
     "prompt_number": 1449
    },
    {
     "cell_type": "heading",
     "level": 2,
     "metadata": {},
     "source": [
      "Testing"
     ]
    },
    {
     "cell_type": "code",
     "collapsed": false,
     "input": [
      "h = np.matrix(\"0  1  1  1  2  1  1  0;  0  0  0  0  2  0  1  1;  0  0  0  0  0  1  2  2;  0  0  0  0  0  1  2  2;  0  0  0  0  0  0  1  1;  0  0  0  0  0  0  1  1;  0  0  0  0  0  0  0  1;  0  0  0  0  0  0  0  0\")"
     ],
     "language": "python",
     "metadata": {},
     "outputs": [],
     "prompt_number": 1460
    },
    {
     "cell_type": "code",
     "collapsed": false,
     "input": [
      "t = np.matrix(\" 0  2  2  0  2  2  1  1;  0  0  0  1  1  2  0  2;  0  0  0  2  1  0  0  0;  0  0  0  0  0  2  0  2;  0  0  0  0  0  2  0  2;  0  0  0  0  0  0  2  2;  0  0  0  0  0  0  0  1;  0  0  0  0  0  0  0  0\")"
     ],
     "language": "python",
     "metadata": {},
     "outputs": [],
     "prompt_number": 1157
    },
    {
     "cell_type": "code",
     "collapsed": false,
     "input": [],
     "language": "python",
     "metadata": {},
     "outputs": [],
     "prompt_number": 1155
    },
    {
     "cell_type": "code",
     "collapsed": false,
     "input": [
      "listUnconnectedNodes(testMatrix,[0,0,0,0,0])"
     ],
     "language": "python",
     "metadata": {},
     "outputs": [
      {
       "metadata": {},
       "output_type": "pyout",
       "prompt_number": 595,
       "text": [
        "[0]"
       ]
      }
     ],
     "prompt_number": 595
    },
    {
     "cell_type": "code",
     "collapsed": false,
     "input": [
      "%%timeit -n1 -r1\n",
      "print reorderMat(testMatrix,2)"
     ],
     "language": "python",
     "metadata": {},
     "outputs": [
      {
       "output_type": "stream",
       "stream": "stdout",
       "text": [
        "[[ 0.  1.  1.  0.  0.]\n",
        " [ 0.  0.  0.  1.  0.]\n",
        " [ 0.  0.  0.  0.  1.]\n",
        " [ 0.  0.  0.  0.  1.]\n",
        " [ 0.  0.  0.  0.  0.]]\n",
        "1 loops, best of 1: 2 ms per loop\n"
       ]
      }
     ],
     "prompt_number": 28
    },
    {
     "cell_type": "markdown",
     "metadata": {},
     "source": [
      "Further testing needs to be done, and we can do this by seeing if simply re-arranging the numbers of the new one will give us the original."
     ]
    },
    {
     "cell_type": "markdown",
     "metadata": {},
     "source": [
      "> 1. Generate a random matrix\n",
      "\n",
      "> 2. Permutate the rows to get all combinations\n",
      "\n",
      "> 3. Check it satisfies the criteria we need for feed forward only and does not just equal the initial one!\n",
      "\n",
      "> 4. run the reorderMat command\n",
      "\n",
      "> 5. check that the reorder is a permutation by running an elementwise comparrison using New>Old reference\n",
      "\n",
      "> 6. check that all of the satisfactory permutations end up at the same network"
     ]
    },
    {
     "cell_type": "code",
     "collapsed": false,
     "input": [
      "import sys\n",
      "sys.version_info"
     ],
     "language": "python",
     "metadata": {},
     "outputs": [
      {
       "metadata": {},
       "output_type": "pyout",
       "prompt_number": 113,
       "text": [
        "sys.version_info(major=2, minor=7, micro=6, releaselevel='final', serial=0)"
       ]
      }
     ],
     "prompt_number": 113
    },
    {
     "cell_type": "code",
     "collapsed": false,
     "input": [
      "t = [0,0]\n",
      "for i in range(10000000):\n",
      "    t[random.randint(0,1)] += 1\n",
      "print t"
     ],
     "language": "python",
     "metadata": {},
     "outputs": [
      {
       "output_type": "stream",
       "stream": "stdout",
       "text": [
        "[10000000, 0]\n"
       ]
      }
     ],
     "prompt_number": 114
    },
    {
     "cell_type": "code",
     "collapsed": false,
     "input": [
      "import random"
     ],
     "language": "python",
     "metadata": {},
     "outputs": [],
     "prompt_number": 115
    },
    {
     "cell_type": "code",
     "collapsed": false,
     "input": [
      "# check that each row + col has something in it except first + last to be \"fully connected\".\n",
      "def checkConn(inMat):\n",
      "    isValid = True\n",
      "    n = inMat.shape[0]\n",
      "    for y in range(1,n):\n",
      "        if sum(inMat[0:y,y]) == 0:\n",
      "            isValid = False\n",
      "    for x in range(0,n-1):\n",
      "        if sum(inMat[x,x+1:n]) == 0:\n",
      "            isValid = False\n",
      "    return isValid"
     ],
     "language": "python",
     "metadata": {},
     "outputs": [],
     "prompt_number": 547
    },
    {
     "cell_type": "code",
     "collapsed": false,
     "input": [
      "# generate a random matrix where all are connected\n",
      "def genRandMat(n,w):\n",
      "    newMat = np.asmatrix(np.zeros((n,n)))\n",
      "    checkValid = False\n",
      "    ints = 0\n",
      "    while checkValid == False and ints < 200:\n",
      "        for y in range(n):\n",
      "            for x in range(y):\n",
      "                newMat[x,y] = np.random.randint(0,w)\n",
      "        # set some specifics:\n",
      "        newMat[0,1] = np.random.randint(1,w)\n",
      "        newMat[n-2,n-1] = np.random.randint(1,w)\n",
      "        # check it is fully connected\n",
      "        checkValid = checkConn(newMat)\n",
      "        ints += 1\n",
      "    return newMat"
     ],
     "language": "python",
     "metadata": {},
     "outputs": [],
     "prompt_number": 736
    },
    {
     "cell_type": "code",
     "collapsed": false,
     "input": [
      "genRandMat(5,2)"
     ],
     "language": "python",
     "metadata": {},
     "outputs": [
      {
       "metadata": {},
       "output_type": "pyout",
       "prompt_number": 535,
       "text": [
        "matrix([[ 0.,  1.,  1.,  0.,  0.],\n",
        "        [ 0.,  0.,  1.,  0.,  1.],\n",
        "        [ 0.,  0.,  0.,  1.,  1.],\n",
        "        [ 0.,  0.,  0.,  0.,  1.],\n",
        "        [ 0.,  0.,  0.,  0.,  0.]])"
       ]
      }
     ],
     "prompt_number": 535
    },
    {
     "cell_type": "code",
     "collapsed": false,
     "input": [
      "# permutate the matrix\n",
      "def permutateMat(origMat,w):\n",
      "    found = False\n",
      "    firstOne = np.zeros((1,1))\n",
      "    n = origMat.shape[0]\n",
      "    rowsToDo = np.ones(n)\n",
      "    perm = -np.ones(n)\n",
      "    [found,firstOne] = permutateRows(origMat,rowsToDo,perm,found,firstOne,w)"
     ],
     "language": "python",
     "metadata": {},
     "outputs": [],
     "prompt_number": 854
    },
    {
     "cell_type": "code",
     "collapsed": false,
     "input": [
      "# permutate the matrix rows recursively:\n",
      "def permutateRows(origMat,rowsToDo,perm,found,firstOne,w):\n",
      "    n = len(rowsToDo)\n",
      "    if sum(rowsToDo)==0:\n",
      "        newMat = np.asmatrix(np.zeros((n,n)))\n",
      "        #print perm\n",
      "        for i in perm:\n",
      "            for j in perm:\n",
      "                newMat[i,j]=origMat[perm[i],perm[j]]\n",
      "        #print newMat\n",
      "        [found,firstOne] = checkMat(newMat,origMat,perm,found,firstOne,w)\n",
      "    else:\n",
      "        leftR = np.where(rowsToDo==1)[0]\n",
      "        nleft = len(leftR)\n",
      "        doneN = n-nleft\n",
      "        for i in leftR:\n",
      "            rowsToDo[i] = 0\n",
      "            perm[doneN] = i\n",
      "            [found,firstOne] = permutateRows(origMat,rowsToDo,perm,found,firstOne,w)\n",
      "            rowsToDo[i] = 1\n",
      "    return [found,firstOne]"
     ],
     "language": "python",
     "metadata": {},
     "outputs": [],
     "prompt_number": 856
    },
    {
     "cell_type": "code",
     "collapsed": false,
     "input": [
      "# make sure the new permutation is still valid (wrt being feed forward)\n",
      "def checkForZeros(inMat):\n",
      "    sumTot = 0\n",
      "    n = inMat.shape[0]\n",
      "    for y in range(n):\n",
      "        sumTot += sum(inMat[y:n,y])\n",
      "    if sumTot == 0:\n",
      "        return True\n",
      "    else:\n",
      "        return False"
     ],
     "language": "python",
     "metadata": {},
     "outputs": [],
     "prompt_number": 822
    },
    {
     "cell_type": "code",
     "collapsed": false,
     "input": [
      "# check the new permutation is still valid:\n",
      "def checkMat(newMat,origMat,perm,found,firstOne,w):\n",
      "    if np.sum(np.abs(newMat-origMat)) == 0:\n",
      "        #print \"same as original\"\n",
      "        return [found,firstOne]\n",
      "    elif checkForZeros(newMat)==False:\n",
      "        #print \"invalid arrangement\"\n",
      "        return [found,firstOne]\n",
      "    else:\n",
      "        a = datetime.datetime.now()\n",
      "        try:\n",
      "            reOrder = reorderMat(newMat,w)\n",
      "        except:\n",
      "            print newMat\n",
      "            raise\n",
      "        b = datetime.datetime.now()\n",
      "        #print \"reordered in \",b-a,\" seconds\"\n",
      "        vaXl = checkIsPermutation(reOrder[0],newMat,reOrder[1])\n",
      "        if found == False:\n",
      "            found = True\n",
      "            firstOne = reOrder[0]\n",
      "            print firstOne\n",
      "            # print firstOne\n",
      "        else:\n",
      "            if np.sum(np.abs(reOrder[0]-firstOne))!=0:\n",
      "                print \"Error\"\n",
      "                print \"genMat:\",newMat\n",
      "                print \"reordered:\",reOrder[0]\n",
      "                print \"!=\"\n",
      "                print \"orig:\",origMat\n",
      "                print \"first reordered:\",firstOne\n",
      "            else:\n",
      "               print \"matched\\n\\n\"\n",
      "        '''\n",
      "        if vaXl == False:\n",
      "            print \"EEEK! may not be a permutation\"\n",
      "            print reOrder[1]\n",
      "            print newMat\n",
      "            print reOrder[0]\n",
      "        else:\n",
      "            print newMat,\"\\n to\\n\",reOrder[0],\"\\n\\n\"\n",
      "        '''\n",
      "        return [found,firstOne]"
     ],
     "language": "python",
     "metadata": {},
     "outputs": []
    },
    {
     "cell_type": "code",
     "collapsed": false,
     "input": [
      "# Check if the new matrix is a permutation of the original\n",
      "def checkIsPermutation(newMat,origMat,permNO):\n",
      "    isValid = True\n",
      "    n = origMat.shape[0]\n",
      "    # check the perm assignment if symetric matrix...\n",
      "    \n",
      "    # check this using a better system\n",
      "    # something that tries all combinations to find one that is correct!\n",
      "    c = 0\n",
      "    while c < len(permNO):\n",
      "        tc = permNO[c]\n",
      "        l = len(tc)\n",
      "        if l !=1:\n",
      "            for c2 in range(l):\n",
      "                permNO[c+c2]=[tc[c2]]\n",
      "        # case to possibly get stuck...:\n",
      "        c+=l\n",
      "        \n",
      "    for x in range(n):\n",
      "        for y in range(n):\n",
      "            if newMat[x,y] != origMat[permNO[x],permNO[y]]:\n",
      "                isValid = False\n",
      "    return isValid"
     ],
     "language": "python",
     "metadata": {},
     "outputs": [],
     "prompt_number": 723
    },
    {
     "cell_type": "code",
     "collapsed": false,
     "input": [
      "for i in range(10000):\n",
      "    if i%100 == 0:\n",
      "        print i\n",
      "    permutateMat(genRandMat(8,3),3)"
     ],
     "language": "python",
     "metadata": {},
     "outputs": [
      {
       "output_type": "stream",
       "stream": "stdout",
       "text": [
        "0\n",
        "matched\n",
        "\n",
        "\n",
        "matched\n",
        "\n"
       ]
      },
      {
       "output_type": "stream",
       "stream": "stdout",
       "text": [
        "\n",
        "matched\n",
        "\n"
       ]
      },
      {
       "output_type": "stream",
       "stream": "stdout",
       "text": [
        "\n",
        "matched\n",
        "\n",
        "\n",
        "matched\n",
        "\n",
        "\n",
        "matched\n",
        "\n"
       ]
      },
      {
       "output_type": "stream",
       "stream": "stdout",
       "text": [
        "\n",
        "matched\n",
        "\n"
       ]
      },
      {
       "output_type": "stream",
       "stream": "stdout",
       "text": [
        "\n",
        "matched\n",
        "\n",
        "\n",
        "matched\n",
        "\n"
       ]
      },
      {
       "output_type": "stream",
       "stream": "stdout",
       "text": [
        "\n",
        "matched\n",
        "\n",
        "\n",
        "matched\n",
        "\n",
        "\n",
        "matched\n",
        "\n"
       ]
      },
      {
       "output_type": "stream",
       "stream": "stdout",
       "text": [
        "\n",
        "matched\n",
        "\n"
       ]
      },
      {
       "output_type": "stream",
       "stream": "stdout",
       "text": [
        "\n",
        "matched\n",
        "\n"
       ]
      },
      {
       "output_type": "stream",
       "stream": "stdout",
       "text": [
        "\n",
        "matched\n",
        "\n",
        "\n",
        "matched\n",
        "\n",
        "\n",
        "matched\n",
        "\n",
        "\n",
        "matched\n",
        "\n",
        "\n",
        "matched\n",
        "\n"
       ]
      },
      {
       "output_type": "stream",
       "stream": "stdout",
       "text": [
        "\n",
        "matched\n",
        "\n",
        "\n",
        "matched\n",
        "\n"
       ]
      },
      {
       "output_type": "stream",
       "stream": "stdout",
       "text": [
        "\n",
        "matched\n",
        "\n",
        "\n",
        "matched\n",
        "\n"
       ]
      },
      {
       "output_type": "stream",
       "stream": "stdout",
       "text": [
        "\n",
        "matched\n",
        "\n",
        "\n",
        "matched\n",
        "\n"
       ]
      },
      {
       "output_type": "stream",
       "stream": "stdout",
       "text": [
        "\n",
        "matched\n",
        "\n"
       ]
      },
      {
       "output_type": "stream",
       "stream": "stdout",
       "text": [
        "\n",
        "matched\n",
        "\n",
        "\n",
        "matched\n",
        "\n"
       ]
      },
      {
       "output_type": "stream",
       "stream": "stdout",
       "text": [
        "\n",
        "matched\n",
        "\n",
        "\n",
        "matched\n",
        "\n"
       ]
      },
      {
       "output_type": "stream",
       "stream": "stdout",
       "text": [
        "\n",
        "matched\n",
        "\n"
       ]
      },
      {
       "output_type": "stream",
       "stream": "stdout",
       "text": [
        "\n",
        "matched\n",
        "\n"
       ]
      },
      {
       "output_type": "stream",
       "stream": "stdout",
       "text": [
        "\n",
        "matched\n",
        "\n",
        "\n",
        "matched\n",
        "\n",
        "\n",
        "matched\n",
        "\n"
       ]
      },
      {
       "output_type": "stream",
       "stream": "stdout",
       "text": [
        "\n",
        "matched\n",
        "\n"
       ]
      },
      {
       "output_type": "stream",
       "stream": "stdout",
       "text": [
        "\n",
        "matched\n",
        "\n",
        "\n",
        "matched\n",
        "\n",
        "\n",
        "matched\n",
        "\n"
       ]
      },
      {
       "output_type": "stream",
       "stream": "stdout",
       "text": [
        "\n",
        "matched\n",
        "\n"
       ]
      },
      {
       "output_type": "stream",
       "stream": "stdout",
       "text": [
        "\n",
        "matched\n",
        "\n"
       ]
      },
      {
       "output_type": "stream",
       "stream": "stdout",
       "text": [
        "\n",
        "matched\n",
        "\n",
        "\n",
        "matched\n",
        "\n"
       ]
      },
      {
       "output_type": "stream",
       "stream": "stdout",
       "text": [
        "\n",
        "matched\n",
        "\n",
        "\n",
        "matched\n",
        "\n",
        "\n",
        "matched\n",
        "\n",
        "\n",
        "matched\n",
        "\n"
       ]
      },
      {
       "output_type": "stream",
       "stream": "stdout",
       "text": [
        "\n",
        "matched\n",
        "\n",
        "\n",
        "matched\n",
        "\n"
       ]
      },
      {
       "output_type": "stream",
       "stream": "stdout",
       "text": [
        "\n",
        "matched\n",
        "\n"
       ]
      },
      {
       "output_type": "stream",
       "stream": "stdout",
       "text": [
        "\n",
        "matched\n",
        "\n",
        "\n",
        "matched\n",
        "\n",
        "\n",
        "matched\n",
        "\n",
        "\n",
        "matched\n",
        "\n",
        "\n",
        "matched\n",
        "\n",
        "\n",
        "matched\n",
        "\n",
        "\n",
        "matched\n",
        "\n",
        "\n",
        "matched\n",
        "\n"
       ]
      },
      {
       "output_type": "stream",
       "stream": "stdout",
       "text": [
        "\n",
        "matched\n",
        "\n",
        "\n",
        "matched\n",
        "\n",
        "\n",
        "matched\n",
        "\n",
        "\n",
        "matched\n",
        "\n"
       ]
      },
      {
       "output_type": "stream",
       "stream": "stdout",
       "text": [
        "\n",
        "matched\n",
        "\n"
       ]
      },
      {
       "output_type": "stream",
       "stream": "stdout",
       "text": [
        "\n",
        "matched\n",
        "\n"
       ]
      },
      {
       "output_type": "stream",
       "stream": "stdout",
       "text": [
        "\n",
        "matched\n",
        "\n",
        "\n",
        "matched\n",
        "\n",
        "\n",
        "matched\n",
        "\n"
       ]
      },
      {
       "output_type": "stream",
       "stream": "stdout",
       "text": [
        "\n",
        "matched\n",
        "\n"
       ]
      },
      {
       "output_type": "stream",
       "stream": "stdout",
       "text": [
        "\n",
        "matched\n",
        "\n"
       ]
      },
      {
       "output_type": "stream",
       "stream": "stdout",
       "text": [
        "\n",
        "matched\n",
        "\n"
       ]
      },
      {
       "output_type": "stream",
       "stream": "stdout",
       "text": [
        "\n",
        "matched\n",
        "\n"
       ]
      },
      {
       "output_type": "stream",
       "stream": "stdout",
       "text": [
        "\n",
        "matched\n",
        "\n"
       ]
      },
      {
       "output_type": "stream",
       "stream": "stdout",
       "text": [
        "\n",
        "matched\n",
        "\n",
        "\n",
        "matched\n",
        "\n"
       ]
      },
      {
       "output_type": "stream",
       "stream": "stdout",
       "text": [
        "\n",
        "matched\n",
        "\n"
       ]
      },
      {
       "output_type": "stream",
       "stream": "stdout",
       "text": [
        "\n",
        "matched\n",
        "\n"
       ]
      },
      {
       "output_type": "stream",
       "stream": "stdout",
       "text": [
        "\n",
        "matched\n",
        "\n",
        "\n",
        "matched\n",
        "\n"
       ]
      },
      {
       "output_type": "stream",
       "stream": "stdout",
       "text": [
        "\n",
        "matched\n",
        "\n",
        "\n",
        "matched\n",
        "\n"
       ]
      },
      {
       "output_type": "stream",
       "stream": "stdout",
       "text": [
        "\n",
        "matched\n",
        "\n",
        "\n",
        "matched\n",
        "\n"
       ]
      },
      {
       "output_type": "stream",
       "stream": "stdout",
       "text": [
        "\n",
        "matched\n",
        "\n",
        "\n",
        "matched\n",
        "\n"
       ]
      },
      {
       "output_type": "stream",
       "stream": "stdout",
       "text": [
        "\n",
        "matched\n",
        "\n",
        "\n",
        "matched\n",
        "\n"
       ]
      },
      {
       "output_type": "stream",
       "stream": "stdout",
       "text": [
        "\n",
        "matched\n",
        "\n",
        "\n",
        "matched\n",
        "\n"
       ]
      },
      {
       "output_type": "stream",
       "stream": "stdout",
       "text": [
        "\n",
        "matched\n",
        "\n",
        "\n",
        "matched\n",
        "\n"
       ]
      },
      {
       "output_type": "stream",
       "stream": "stdout",
       "text": [
        "\n",
        "matched\n",
        "\n",
        "\n",
        "matched\n",
        "\n",
        "\n",
        "matched\n",
        "\n",
        "\n",
        "matched\n",
        "\n"
       ]
      },
      {
       "output_type": "stream",
       "stream": "stdout",
       "text": [
        "\n",
        "matched\n",
        "\n",
        "\n",
        "matched\n",
        "\n"
       ]
      },
      {
       "output_type": "stream",
       "stream": "stdout",
       "text": [
        "\n",
        "matched\n",
        "\n"
       ]
      },
      {
       "output_type": "stream",
       "stream": "stdout",
       "text": [
        "\n",
        "matched\n",
        "\n",
        "\n",
        "matched\n",
        "\n",
        "\n",
        "matched\n",
        "\n"
       ]
      },
      {
       "output_type": "stream",
       "stream": "stdout",
       "text": [
        "\n",
        "matched\n",
        "\n",
        "\n",
        "matched\n",
        "\n",
        "\n",
        "matched\n",
        "\n"
       ]
      },
      {
       "output_type": "stream",
       "stream": "stdout",
       "text": [
        "\n",
        "matched\n",
        "\n"
       ]
      },
      {
       "output_type": "stream",
       "stream": "stdout",
       "text": [
        "\n",
        "matched\n",
        "\n",
        "\n",
        "matched\n",
        "\n",
        "\n",
        "matched\n",
        "\n"
       ]
      },
      {
       "output_type": "stream",
       "stream": "stdout",
       "text": [
        "\n",
        "matched\n",
        "\n",
        "\n",
        "matched\n",
        "\n"
       ]
      },
      {
       "output_type": "stream",
       "stream": "stdout",
       "text": [
        "\n",
        "matched\n",
        "\n",
        "\n",
        "matched\n",
        "\n"
       ]
      },
      {
       "output_type": "stream",
       "stream": "stdout",
       "text": [
        "\n",
        "matched\n",
        "\n"
       ]
      },
      {
       "output_type": "stream",
       "stream": "stdout",
       "text": [
        "\n",
        "matched\n",
        "\n",
        "\n",
        "matched\n",
        "\n",
        "\n",
        "matched\n",
        "\n"
       ]
      },
      {
       "output_type": "stream",
       "stream": "stdout",
       "text": [
        "\n",
        "matched\n",
        "\n",
        "\n",
        "matched\n",
        "\n"
       ]
      },
      {
       "output_type": "stream",
       "stream": "stdout",
       "text": [
        "\n",
        "matched\n",
        "\n",
        "\n",
        "matched\n",
        "\n",
        "\n",
        "matched\n",
        "\n"
       ]
      },
      {
       "output_type": "stream",
       "stream": "stdout",
       "text": [
        "\n",
        "matched\n",
        "\n",
        "\n",
        "matched\n",
        "\n",
        "\n",
        "matched\n",
        "\n",
        "\n",
        "matched\n",
        "\n"
       ]
      },
      {
       "output_type": "stream",
       "stream": "stdout",
       "text": [
        "\n",
        "matched\n",
        "\n",
        "\n",
        "matched\n",
        "\n",
        "\n",
        "matched\n",
        "\n",
        "\n",
        "matched\n",
        "\n"
       ]
      },
      {
       "output_type": "stream",
       "stream": "stdout",
       "text": [
        "\n",
        "matched\n",
        "\n",
        "\n",
        "matched\n",
        "\n"
       ]
      },
      {
       "output_type": "stream",
       "stream": "stdout",
       "text": [
        "\n",
        "matched\n",
        "\n"
       ]
      },
      {
       "output_type": "stream",
       "stream": "stdout",
       "text": [
        "\n",
        "matched\n",
        "\n",
        "\n",
        "matched\n",
        "\n"
       ]
      },
      {
       "output_type": "stream",
       "stream": "stdout",
       "text": [
        "\n",
        "matched\n",
        "\n"
       ]
      },
      {
       "output_type": "stream",
       "stream": "stdout",
       "text": [
        "\n",
        "matched\n",
        "\n",
        "\n",
        "matched\n",
        "\n"
       ]
      },
      {
       "output_type": "stream",
       "stream": "stdout",
       "text": [
        "\n",
        "matched\n",
        "\n"
       ]
      },
      {
       "output_type": "stream",
       "stream": "stdout",
       "text": [
        "\n",
        "matched\n",
        "\n",
        "\n",
        "matched\n",
        "\n",
        "\n",
        "matched\n",
        "\n"
       ]
      },
      {
       "output_type": "stream",
       "stream": "stdout",
       "text": [
        "\n",
        "matched\n",
        "\n"
       ]
      },
      {
       "output_type": "stream",
       "stream": "stdout",
       "text": [
        "\n",
        "matched\n",
        "\n",
        "\n",
        "matched\n",
        "\n"
       ]
      },
      {
       "output_type": "stream",
       "stream": "stdout",
       "text": [
        "\n",
        "matched\n",
        "\n"
       ]
      },
      {
       "output_type": "stream",
       "stream": "stdout",
       "text": [
        "\n",
        "matched\n",
        "\n",
        "\n",
        "matched\n",
        "\n"
       ]
      },
      {
       "output_type": "stream",
       "stream": "stdout",
       "text": [
        "\n",
        "matched\n",
        "\n",
        "\n",
        "matched\n",
        "\n",
        "\n",
        "matched\n",
        "\n",
        "\n",
        "matched\n",
        "\n",
        "\n",
        "matched\n",
        "\n",
        "\n",
        "matched\n",
        "\n"
       ]
      },
      {
       "output_type": "stream",
       "stream": "stdout",
       "text": [
        "\n",
        "matched\n",
        "\n",
        "\n",
        "matched\n",
        "\n",
        "\n",
        "matched\n",
        "\n"
       ]
      },
      {
       "output_type": "stream",
       "stream": "stdout",
       "text": [
        "\n",
        "matched\n",
        "\n",
        "\n",
        "matched\n",
        "\n",
        "\n",
        "matched\n",
        "\n",
        "\n",
        "matched\n",
        "\n"
       ]
      },
      {
       "output_type": "stream",
       "stream": "stdout",
       "text": [
        "\n",
        "matched\n",
        "\n",
        "\n",
        "matched\n",
        "\n",
        "\n",
        "matched\n",
        "\n",
        "\n",
        "matched\n",
        "\n",
        "\n",
        "matched\n",
        "\n",
        "\n",
        "matched\n",
        "\n"
       ]
      },
      {
       "output_type": "stream",
       "stream": "stdout",
       "text": [
        "\n",
        "matched\n",
        "\n",
        "\n",
        "matched\n",
        "\n",
        "\n",
        "matched\n",
        "\n"
       ]
      },
      {
       "output_type": "stream",
       "stream": "stdout",
       "text": [
        "\n",
        "matched\n",
        "\n"
       ]
      },
      {
       "output_type": "stream",
       "stream": "stdout",
       "text": [
        "\n",
        "matched\n",
        "\n"
       ]
      },
      {
       "output_type": "stream",
       "stream": "stdout",
       "text": [
        "\n",
        "matched\n",
        "\n"
       ]
      },
      {
       "output_type": "stream",
       "stream": "stdout",
       "text": [
        "\n",
        "matched\n",
        "\n",
        "\n",
        "matched\n",
        "\n",
        "\n",
        "matched\n",
        "\n"
       ]
      },
      {
       "output_type": "stream",
       "stream": "stdout",
       "text": [
        "\n",
        "matched\n",
        "\n"
       ]
      },
      {
       "output_type": "stream",
       "stream": "stdout",
       "text": [
        "\n",
        "matched\n",
        "\n"
       ]
      },
      {
       "output_type": "stream",
       "stream": "stdout",
       "text": [
        "\n",
        "matched\n",
        "\n",
        "\n",
        "matched\n",
        "\n"
       ]
      },
      {
       "output_type": "stream",
       "stream": "stdout",
       "text": [
        "\n",
        "matched\n",
        "\n"
       ]
      },
      {
       "output_type": "stream",
       "stream": "stdout",
       "text": [
        "\n",
        "matched\n",
        "\n",
        "\n",
        "matched\n",
        "\n",
        "\n",
        "matched\n",
        "\n"
       ]
      },
      {
       "output_type": "stream",
       "stream": "stdout",
       "text": [
        "\n",
        "matched\n",
        "\n",
        "\n",
        "matched\n",
        "\n",
        "\n",
        "matched\n",
        "\n"
       ]
      },
      {
       "output_type": "stream",
       "stream": "stdout",
       "text": [
        "\n",
        "matched\n",
        "\n",
        "\n",
        "matched\n",
        "\n"
       ]
      },
      {
       "output_type": "stream",
       "stream": "stdout",
       "text": [
        "\n",
        "matched\n",
        "\n",
        "\n",
        "matched\n",
        "\n"
       ]
      },
      {
       "output_type": "stream",
       "stream": "stdout",
       "text": [
        "\n",
        "matched\n",
        "\n"
       ]
      },
      {
       "output_type": "stream",
       "stream": "stdout",
       "text": [
        "\n",
        "matched\n",
        "\n",
        "\n",
        "matched\n",
        "\n",
        "\n",
        "matched\n",
        "\n",
        "\n",
        "matched\n",
        "\n"
       ]
      },
      {
       "output_type": "stream",
       "stream": "stdout",
       "text": [
        "\n",
        "matched\n",
        "\n",
        "\n",
        "matched\n",
        "\n",
        "\n",
        "matched\n",
        "\n"
       ]
      },
      {
       "output_type": "stream",
       "stream": "stdout",
       "text": [
        "\n",
        "matched\n",
        "\n",
        "\n",
        "matched\n",
        "\n",
        "\n",
        "matched\n",
        "\n"
       ]
      },
      {
       "output_type": "stream",
       "stream": "stdout",
       "text": [
        "\n",
        "matched\n",
        "\n",
        "\n",
        "matched\n",
        "\n",
        "\n",
        "matched\n",
        "\n",
        "\n",
        "matched\n",
        "\n"
       ]
      },
      {
       "output_type": "stream",
       "stream": "stdout",
       "text": [
        "\n",
        "matched\n",
        "\n",
        "\n",
        "matched\n",
        "\n"
       ]
      },
      {
       "output_type": "stream",
       "stream": "stdout",
       "text": [
        "\n",
        "matched\n",
        "\n",
        "\n",
        "matched\n",
        "\n"
       ]
      },
      {
       "output_type": "stream",
       "stream": "stdout",
       "text": [
        "\n",
        "matched\n",
        "\n"
       ]
      },
      {
       "output_type": "stream",
       "stream": "stdout",
       "text": [
        "\n",
        "matched\n",
        "\n",
        "\n",
        "matched\n",
        "\n",
        "\n",
        "matched\n",
        "\n"
       ]
      },
      {
       "output_type": "stream",
       "stream": "stdout",
       "text": [
        "\n",
        "matched\n",
        "\n",
        "\n",
        "matched\n",
        "\n"
       ]
      },
      {
       "output_type": "stream",
       "stream": "stdout",
       "text": [
        "\n",
        "matched\n",
        "\n",
        "\n",
        "matched\n",
        "\n",
        "\n",
        "matched\n",
        "\n"
       ]
      },
      {
       "output_type": "stream",
       "stream": "stdout",
       "text": [
        "\n",
        "matched\n",
        "\n",
        "\n",
        "matched\n",
        "\n",
        "\n",
        "matched\n",
        "\n"
       ]
      },
      {
       "output_type": "stream",
       "stream": "stdout",
       "text": [
        "\n",
        "matched\n",
        "\n",
        "\n",
        "matched\n",
        "\n",
        "\n",
        "matched\n",
        "\n"
       ]
      },
      {
       "output_type": "stream",
       "stream": "stdout",
       "text": [
        "\n",
        "matched\n",
        "\n"
       ]
      },
      {
       "output_type": "stream",
       "stream": "stdout",
       "text": [
        "\n",
        "matched\n",
        "\n",
        "\n",
        "matched\n",
        "\n"
       ]
      },
      {
       "output_type": "stream",
       "stream": "stdout",
       "text": [
        "\n",
        "matched\n",
        "\n",
        "\n",
        "matched\n",
        "\n"
       ]
      },
      {
       "output_type": "stream",
       "stream": "stdout",
       "text": [
        "\n",
        "matched\n",
        "\n",
        "\n",
        "matched\n",
        "\n",
        "\n",
        "matched\n",
        "\n",
        "\n",
        "matched\n",
        "\n",
        "\n",
        "matched\n",
        "\n"
       ]
      },
      {
       "output_type": "stream",
       "stream": "stdout",
       "text": [
        "\n",
        "matched\n",
        "\n",
        "\n",
        "matched\n",
        "\n",
        "\n",
        "matched\n",
        "\n",
        "\n",
        "matched\n",
        "\n",
        "\n",
        "matched\n",
        "\n"
       ]
      },
      {
       "output_type": "stream",
       "stream": "stdout",
       "text": [
        "\n",
        "matched\n",
        "\n",
        "\n",
        "matched\n",
        "\n",
        "\n",
        "matched\n",
        "\n"
       ]
      },
      {
       "output_type": "stream",
       "stream": "stdout",
       "text": [
        "\n",
        "matched\n",
        "\n"
       ]
      },
      {
       "output_type": "stream",
       "stream": "stdout",
       "text": [
        "\n",
        "matched\n",
        "\n",
        "\n",
        "matched\n",
        "\n",
        "\n",
        "matched\n",
        "\n"
       ]
      },
      {
       "output_type": "stream",
       "stream": "stdout",
       "text": [
        "\n",
        "matched\n",
        "\n"
       ]
      },
      {
       "output_type": "stream",
       "stream": "stdout",
       "text": [
        "\n",
        "matched\n",
        "\n"
       ]
      },
      {
       "output_type": "stream",
       "stream": "stdout",
       "text": [
        "\n",
        "matched\n",
        "\n"
       ]
      },
      {
       "output_type": "stream",
       "stream": "stdout",
       "text": [
        "\n",
        "matched\n",
        "\n"
       ]
      },
      {
       "output_type": "stream",
       "stream": "stdout",
       "text": [
        "\n",
        "matched\n",
        "\n",
        "\n",
        "matched\n",
        "\n",
        "\n",
        "matched\n",
        "\n",
        "\n",
        "matched\n",
        "\n"
       ]
      },
      {
       "output_type": "stream",
       "stream": "stdout",
       "text": [
        "\n",
        "matched\n",
        "\n",
        "\n",
        "matched\n",
        "\n",
        "\n",
        "matched\n",
        "\n"
       ]
      },
      {
       "output_type": "stream",
       "stream": "stdout",
       "text": [
        "\n",
        "matched\n",
        "\n",
        "\n",
        "matched\n",
        "\n",
        "\n",
        "matched\n",
        "\n",
        "\n",
        "matched\n",
        "\n"
       ]
      },
      {
       "output_type": "stream",
       "stream": "stdout",
       "text": [
        "\n",
        "matched\n",
        "\n",
        "\n",
        "matched\n",
        "\n"
       ]
      },
      {
       "output_type": "stream",
       "stream": "stdout",
       "text": [
        "\n",
        "matched\n",
        "\n",
        "\n",
        "matched\n",
        "\n"
       ]
      },
      {
       "output_type": "stream",
       "stream": "stdout",
       "text": [
        "\n",
        "matched\n",
        "\n",
        "\n",
        "matched\n",
        "\n"
       ]
      },
      {
       "output_type": "stream",
       "stream": "stdout",
       "text": [
        "\n",
        "matched\n",
        "\n"
       ]
      },
      {
       "output_type": "stream",
       "stream": "stdout",
       "text": [
        "\n",
        "matched\n",
        "\n",
        "\n",
        "matched\n",
        "\n"
       ]
      },
      {
       "output_type": "stream",
       "stream": "stdout",
       "text": [
        "\n",
        "matched\n",
        "\n"
       ]
      },
      {
       "output_type": "stream",
       "stream": "stdout",
       "text": [
        "\n",
        "matched\n",
        "\n"
       ]
      },
      {
       "output_type": "stream",
       "stream": "stdout",
       "text": [
        "\n",
        "matched\n",
        "\n"
       ]
      },
      {
       "output_type": "stream",
       "stream": "stdout",
       "text": [
        "\n",
        "matched\n",
        "\n",
        "\n",
        "matched\n",
        "\n"
       ]
      },
      {
       "output_type": "stream",
       "stream": "stdout",
       "text": [
        "\n",
        "matched\n",
        "\n"
       ]
      },
      {
       "output_type": "stream",
       "stream": "stdout",
       "text": [
        "\n",
        "matched\n",
        "\n",
        "\n",
        "matched\n",
        "\n"
       ]
      },
      {
       "output_type": "stream",
       "stream": "stdout",
       "text": [
        "\n",
        "matched\n",
        "\n"
       ]
      },
      {
       "output_type": "stream",
       "stream": "stdout",
       "text": [
        "\n",
        "matched\n",
        "\n"
       ]
      },
      {
       "output_type": "stream",
       "stream": "stdout",
       "text": [
        "\n",
        "matched\n",
        "\n",
        "\n",
        "matched\n",
        "\n",
        "\n",
        "matched\n",
        "\n"
       ]
      },
      {
       "output_type": "stream",
       "stream": "stdout",
       "text": [
        "\n",
        "100"
       ]
      },
      {
       "output_type": "stream",
       "stream": "stdout",
       "text": [
        "\n",
        "matched\n",
        "\n",
        "\n",
        "matched\n",
        "\n"
       ]
      },
      {
       "output_type": "stream",
       "stream": "stdout",
       "text": [
        "\n",
        "matched\n",
        "\n",
        "\n",
        "matched\n",
        "\n",
        "\n",
        "matched\n",
        "\n",
        "\n",
        "matched\n",
        "\n",
        "\n",
        "matched\n",
        "\n"
       ]
      },
      {
       "output_type": "stream",
       "stream": "stdout",
       "text": [
        "\n",
        "matched\n",
        "\n"
       ]
      },
      {
       "output_type": "stream",
       "stream": "stdout",
       "text": [
        "\n",
        "matched\n",
        "\n",
        "\n",
        "matched\n",
        "\n",
        "\n",
        "matched\n",
        "\n"
       ]
      },
      {
       "output_type": "stream",
       "stream": "stdout",
       "text": [
        "\n",
        "matched\n",
        "\n",
        "\n",
        "matched\n",
        "\n"
       ]
      },
      {
       "output_type": "stream",
       "stream": "stdout",
       "text": [
        "\n",
        "matched\n",
        "\n",
        "\n",
        "matched\n",
        "\n"
       ]
      },
      {
       "output_type": "stream",
       "stream": "stdout",
       "text": [
        "\n",
        "matched\n",
        "\n",
        "\n",
        "matched\n",
        "\n",
        "\n",
        "matched\n",
        "\n"
       ]
      },
      {
       "output_type": "stream",
       "stream": "stdout",
       "text": [
        "\n",
        "matched\n",
        "\n"
       ]
      },
      {
       "output_type": "stream",
       "stream": "stdout",
       "text": [
        "\n",
        "matched\n",
        "\n"
       ]
      },
      {
       "output_type": "stream",
       "stream": "stdout",
       "text": [
        "\n",
        "matched\n",
        "\n"
       ]
      },
      {
       "output_type": "stream",
       "stream": "stdout",
       "text": [
        "\n",
        "matched\n",
        "\n"
       ]
      },
      {
       "output_type": "stream",
       "stream": "stdout",
       "text": [
        "\n",
        "matched\n",
        "\n",
        "\n",
        "matched\n",
        "\n"
       ]
      },
      {
       "output_type": "stream",
       "stream": "stdout",
       "text": [
        "\n",
        "matched\n",
        "\n",
        "\n",
        "matched\n",
        "\n",
        "\n",
        "matched\n",
        "\n"
       ]
      },
      {
       "output_type": "stream",
       "stream": "stdout",
       "text": [
        "\n",
        "matched\n",
        "\n",
        "\n",
        "matched\n",
        "\n"
       ]
      },
      {
       "output_type": "stream",
       "stream": "stdout",
       "text": [
        "\n",
        "matched\n",
        "\n",
        "\n",
        "matched\n",
        "\n"
       ]
      },
      {
       "output_type": "stream",
       "stream": "stdout",
       "text": [
        "\n",
        "matched\n",
        "\n"
       ]
      },
      {
       "output_type": "stream",
       "stream": "stdout",
       "text": [
        "\n",
        "matched\n",
        "\n"
       ]
      },
      {
       "output_type": "stream",
       "stream": "stdout",
       "text": [
        "\n",
        "matched\n",
        "\n",
        "\n",
        "matched\n",
        "\n",
        "\n",
        "matched\n",
        "\n"
       ]
      },
      {
       "output_type": "stream",
       "stream": "stdout",
       "text": [
        "\n",
        "matched\n",
        "\n",
        "\n",
        "matched\n",
        "\n",
        "\n",
        "matched\n",
        "\n"
       ]
      },
      {
       "output_type": "stream",
       "stream": "stdout",
       "text": [
        "\n",
        "matched\n",
        "\n"
       ]
      },
      {
       "output_type": "stream",
       "stream": "stdout",
       "text": [
        "\n",
        "matched\n",
        "\n"
       ]
      },
      {
       "output_type": "stream",
       "stream": "stdout",
       "text": [
        "\n",
        "matched\n",
        "\n",
        "\n",
        "matched\n",
        "\n",
        "\n",
        "matched\n",
        "\n",
        "\n",
        "matched\n",
        "\n"
       ]
      },
      {
       "output_type": "stream",
       "stream": "stdout",
       "text": [
        "\n",
        "matched\n",
        "\n",
        "\n",
        "matched\n",
        "\n"
       ]
      },
      {
       "output_type": "stream",
       "stream": "stdout",
       "text": [
        "\n",
        "matched\n",
        "\n",
        "\n",
        "matched\n",
        "\n",
        "\n",
        "matched\n",
        "\n",
        "\n",
        "matched\n",
        "\n",
        "\n",
        "matched\n",
        "\n",
        "\n",
        "matched\n",
        "\n"
       ]
      },
      {
       "output_type": "stream",
       "stream": "stdout",
       "text": [
        "\n",
        "matched\n",
        "\n",
        "\n",
        "matched\n",
        "\n",
        "\n",
        "matched\n",
        "\n",
        "\n",
        "matched\n",
        "\n"
       ]
      },
      {
       "output_type": "stream",
       "stream": "stdout",
       "text": [
        "\n",
        "matched\n",
        "\n"
       ]
      },
      {
       "output_type": "stream",
       "stream": "stdout",
       "text": [
        "\n",
        "matched\n",
        "\n"
       ]
      },
      {
       "output_type": "stream",
       "stream": "stdout",
       "text": [
        "\n",
        "matched\n",
        "\n",
        "\n",
        "matched\n",
        "\n"
       ]
      },
      {
       "output_type": "stream",
       "stream": "stdout",
       "text": [
        "\n",
        "matched\n",
        "\n",
        "\n",
        "matched\n",
        "\n",
        "\n",
        "matched\n",
        "\n"
       ]
      },
      {
       "output_type": "stream",
       "stream": "stdout",
       "text": [
        "\n",
        "matched\n",
        "\n"
       ]
      },
      {
       "output_type": "stream",
       "stream": "stdout",
       "text": [
        "\n",
        "matched\n",
        "\n",
        "\n",
        "matched\n",
        "\n"
       ]
      },
      {
       "output_type": "stream",
       "stream": "stdout",
       "text": [
        "\n",
        "matched\n",
        "\n",
        "\n",
        "matched\n",
        "\n",
        "\n",
        "matched\n",
        "\n",
        "\n",
        "matched\n",
        "\n"
       ]
      },
      {
       "output_type": "stream",
       "stream": "stdout",
       "text": [
        "\n",
        "matched\n",
        "\n"
       ]
      },
      {
       "output_type": "stream",
       "stream": "stdout",
       "text": [
        "\n",
        "matched\n",
        "\n"
       ]
      },
      {
       "output_type": "stream",
       "stream": "stdout",
       "text": [
        "\n",
        "matched\n",
        "\n"
       ]
      },
      {
       "output_type": "stream",
       "stream": "stdout",
       "text": [
        "\n",
        "matched\n",
        "\n",
        "\n",
        "matched\n",
        "\n"
       ]
      },
      {
       "output_type": "stream",
       "stream": "stdout",
       "text": [
        "\n",
        "matched\n",
        "\n",
        "\n",
        "matched\n",
        "\n"
       ]
      },
      {
       "output_type": "stream",
       "stream": "stdout",
       "text": [
        "\n",
        "matched\n",
        "\n"
       ]
      },
      {
       "output_type": "stream",
       "stream": "stdout",
       "text": [
        "\n",
        "matched\n",
        "\n"
       ]
      },
      {
       "output_type": "stream",
       "stream": "stdout",
       "text": [
        "\n",
        "matched\n",
        "\n"
       ]
      },
      {
       "output_type": "stream",
       "stream": "stdout",
       "text": [
        "\n",
        "matched\n",
        "\n"
       ]
      },
      {
       "output_type": "stream",
       "stream": "stdout",
       "text": [
        "\n",
        "matched\n",
        "\n"
       ]
      },
      {
       "output_type": "stream",
       "stream": "stdout",
       "text": [
        "\n",
        "matched\n",
        "\n",
        "\n",
        "matched\n",
        "\n"
       ]
      },
      {
       "output_type": "stream",
       "stream": "stdout",
       "text": [
        "\n",
        "matched\n",
        "\n",
        "\n",
        "matched\n",
        "\n"
       ]
      },
      {
       "output_type": "stream",
       "stream": "stdout",
       "text": [
        "\n",
        "matched\n",
        "\n",
        "\n",
        "matched\n",
        "\n"
       ]
      },
      {
       "output_type": "stream",
       "stream": "stdout",
       "text": [
        "\n",
        "matched\n",
        "\n",
        "\n",
        "matched\n",
        "\n",
        "\n",
        "matched\n",
        "\n"
       ]
      },
      {
       "output_type": "stream",
       "stream": "stdout",
       "text": [
        "\n",
        "matched\n",
        "\n",
        "\n",
        "matched\n",
        "\n"
       ]
      },
      {
       "output_type": "stream",
       "stream": "stdout",
       "text": [
        "\n",
        "matched\n",
        "\n"
       ]
      },
      {
       "output_type": "stream",
       "stream": "stdout",
       "text": [
        "\n",
        "matched\n",
        "\n",
        "\n",
        "matched\n",
        "\n",
        "\n",
        "matched\n",
        "\n",
        "\n",
        "matched\n",
        "\n",
        "\n",
        "matched\n",
        "\n"
       ]
      },
      {
       "output_type": "stream",
       "stream": "stdout",
       "text": [
        "\n",
        "matched\n",
        "\n",
        "\n",
        "matched\n",
        "\n",
        "\n",
        "matched\n",
        "\n",
        "\n",
        "matched\n",
        "\n",
        "\n",
        "matched\n",
        "\n"
       ]
      },
      {
       "output_type": "stream",
       "stream": "stdout",
       "text": [
        "\n",
        "matched\n",
        "\n",
        "\n",
        "matched\n",
        "\n"
       ]
      },
      {
       "output_type": "stream",
       "stream": "stdout",
       "text": [
        "\n",
        "matched\n",
        "\n"
       ]
      },
      {
       "output_type": "stream",
       "stream": "stdout",
       "text": [
        "\n",
        "matched\n",
        "\n",
        "\n",
        "matched\n",
        "\n"
       ]
      },
      {
       "output_type": "stream",
       "stream": "stdout",
       "text": [
        "\n",
        "matched\n",
        "\n",
        "\n",
        "matched\n",
        "\n"
       ]
      },
      {
       "output_type": "stream",
       "stream": "stdout",
       "text": [
        "\n",
        "matched\n",
        "\n"
       ]
      },
      {
       "output_type": "stream",
       "stream": "stdout",
       "text": [
        "\n",
        "matched\n",
        "\n"
       ]
      },
      {
       "output_type": "stream",
       "stream": "stdout",
       "text": [
        "\n",
        "matched\n",
        "\n",
        "\n",
        "matched\n",
        "\n",
        "\n",
        "matched\n",
        "\n",
        "\n",
        "matched\n",
        "\n"
       ]
      },
      {
       "output_type": "stream",
       "stream": "stdout",
       "text": [
        "\n",
        "matched\n",
        "\n"
       ]
      },
      {
       "output_type": "stream",
       "stream": "stdout",
       "text": [
        "\n",
        "matched\n",
        "\n"
       ]
      },
      {
       "output_type": "stream",
       "stream": "stdout",
       "text": [
        "\n",
        "matched\n",
        "\n"
       ]
      },
      {
       "output_type": "stream",
       "stream": "stdout",
       "text": [
        "\n",
        "matched\n",
        "\n",
        "\n",
        "matched\n",
        "\n",
        "\n",
        "matched\n",
        "\n",
        "\n",
        "matched\n",
        "\n",
        "\n",
        "matched\n",
        "\n",
        "\n",
        "matched\n",
        "\n",
        "\n",
        "matched\n",
        "\n"
       ]
      },
      {
       "output_type": "stream",
       "stream": "stdout",
       "text": [
        "\n",
        "matched\n",
        "\n",
        "\n",
        "matched\n",
        "\n",
        "\n",
        "matched\n",
        "\n"
       ]
      },
      {
       "output_type": "stream",
       "stream": "stdout",
       "text": [
        "\n",
        "matched\n",
        "\n",
        "\n",
        "matched\n",
        "\n",
        "\n",
        "matched\n",
        "\n",
        "\n",
        "matched\n",
        "\n",
        "\n",
        "matched\n",
        "\n"
       ]
      },
      {
       "output_type": "stream",
       "stream": "stdout",
       "text": [
        "\n",
        "matched\n",
        "\n"
       ]
      },
      {
       "output_type": "stream",
       "stream": "stdout",
       "text": [
        "\n",
        "matched\n",
        "\n",
        "\n",
        "matched\n",
        "\n",
        "\n",
        "matched\n",
        "\n",
        "\n",
        "matched\n",
        "\n",
        "\n",
        "matched\n",
        "\n",
        "\n",
        "matched\n",
        "\n"
       ]
      },
      {
       "output_type": "stream",
       "stream": "stdout",
       "text": [
        "\n",
        "matched\n",
        "\n",
        "\n",
        "matched\n",
        "\n",
        "\n",
        "matched\n",
        "\n",
        "\n",
        "matched\n",
        "\n",
        "\n",
        "matched\n",
        "\n",
        "\n",
        "matched\n",
        "\n"
       ]
      },
      {
       "output_type": "stream",
       "stream": "stdout",
       "text": [
        "\n",
        "matched\n",
        "\n",
        "\n",
        "matched\n",
        "\n",
        "\n",
        "matched\n",
        "\n",
        "\n",
        "matched\n",
        "\n",
        "\n",
        "matched\n",
        "\n",
        "\n",
        "matched\n",
        "\n"
       ]
      },
      {
       "output_type": "stream",
       "stream": "stdout",
       "text": [
        "\n",
        "matched\n",
        "\n"
       ]
      },
      {
       "output_type": "stream",
       "stream": "stdout",
       "text": [
        "\n",
        "matched\n",
        "\n",
        "\n",
        "matched\n",
        "\n"
       ]
      },
      {
       "output_type": "stream",
       "stream": "stdout",
       "text": [
        "\n",
        "matched\n",
        "\n"
       ]
      },
      {
       "output_type": "stream",
       "stream": "stdout",
       "text": [
        "\n",
        "matched\n",
        "\n",
        "\n",
        "matched\n",
        "\n"
       ]
      },
      {
       "output_type": "stream",
       "stream": "stdout",
       "text": [
        "\n",
        "matched\n",
        "\n",
        "\n",
        "matched\n",
        "\n",
        "\n",
        "matched\n",
        "\n"
       ]
      },
      {
       "output_type": "stream",
       "stream": "stdout",
       "text": [
        "\n",
        "matched\n",
        "\n"
       ]
      },
      {
       "output_type": "stream",
       "stream": "stdout",
       "text": [
        "\n",
        "matched\n",
        "\n"
       ]
      },
      {
       "output_type": "stream",
       "stream": "stdout",
       "text": [
        "\n",
        "matched\n",
        "\n",
        "\n",
        "matched\n",
        "\n",
        "\n",
        "matched\n",
        "\n"
       ]
      },
      {
       "output_type": "stream",
       "stream": "stdout",
       "text": [
        "\n",
        "matched\n",
        "\n",
        "\n",
        "matched\n",
        "\n"
       ]
      },
      {
       "output_type": "stream",
       "stream": "stdout",
       "text": [
        "\n",
        "matched\n",
        "\n",
        "\n",
        "matched\n",
        "\n",
        "\n",
        "matched\n",
        "\n"
       ]
      },
      {
       "output_type": "stream",
       "stream": "stdout",
       "text": [
        "\n",
        "matched\n",
        "\n",
        "\n",
        "matched\n",
        "\n"
       ]
      },
      {
       "output_type": "stream",
       "stream": "stdout",
       "text": [
        "\n",
        "matched\n",
        "\n",
        "\n",
        "matched\n",
        "\n"
       ]
      },
      {
       "output_type": "stream",
       "stream": "stdout",
       "text": [
        "\n",
        "matched\n",
        "\n",
        "\n",
        "matched\n",
        "\n",
        "\n",
        "matched\n",
        "\n"
       ]
      },
      {
       "output_type": "stream",
       "stream": "stdout",
       "text": [
        "\n",
        "matched\n",
        "\n",
        "\n",
        "matched\n",
        "\n",
        "\n",
        "matched\n",
        "\n"
       ]
      },
      {
       "output_type": "stream",
       "stream": "stdout",
       "text": [
        "\n",
        "matched\n",
        "\n",
        "\n",
        "matched\n",
        "\n",
        "\n",
        "matched\n",
        "\n",
        "\n",
        "matched\n",
        "\n",
        "\n",
        "matched\n",
        "\n"
       ]
      },
      {
       "output_type": "stream",
       "stream": "stdout",
       "text": [
        "\n",
        "matched\n",
        "\n",
        "\n",
        "matched\n",
        "\n",
        "\n",
        "matched\n",
        "\n",
        "\n",
        "matched\n",
        "\n"
       ]
      },
      {
       "output_type": "stream",
       "stream": "stdout",
       "text": [
        "\n",
        "matched\n",
        "\n"
       ]
      },
      {
       "output_type": "stream",
       "stream": "stdout",
       "text": [
        "\n",
        "matched\n",
        "\n"
       ]
      },
      {
       "output_type": "stream",
       "stream": "stdout",
       "text": [
        "\n",
        "matched\n",
        "\n"
       ]
      },
      {
       "output_type": "stream",
       "stream": "stdout",
       "text": [
        "\n",
        "matched\n",
        "\n",
        "\n",
        "matched\n",
        "\n"
       ]
      },
      {
       "output_type": "stream",
       "stream": "stdout",
       "text": [
        "\n",
        "matched\n",
        "\n"
       ]
      },
      {
       "output_type": "stream",
       "stream": "stdout",
       "text": [
        "\n",
        "matched\n",
        "\n"
       ]
      },
      {
       "output_type": "stream",
       "stream": "stdout",
       "text": [
        "\n",
        "matched\n",
        "\n"
       ]
      },
      {
       "output_type": "stream",
       "stream": "stdout",
       "text": [
        "\n",
        "matched\n",
        "\n"
       ]
      },
      {
       "output_type": "stream",
       "stream": "stdout",
       "text": [
        "\n",
        "matched\n",
        "\n"
       ]
      },
      {
       "output_type": "stream",
       "stream": "stdout",
       "text": [
        "\n",
        "matched\n",
        "\n",
        "\n",
        "matched\n",
        "\n"
       ]
      },
      {
       "output_type": "stream",
       "stream": "stdout",
       "text": [
        "\n",
        "matched\n",
        "\n"
       ]
      },
      {
       "output_type": "stream",
       "stream": "stdout",
       "text": [
        "\n",
        "matched\n",
        "\n"
       ]
      },
      {
       "output_type": "stream",
       "stream": "stdout",
       "text": [
        "\n",
        "matched\n",
        "\n",
        "\n",
        "matched\n",
        "\n",
        "\n",
        "matched\n",
        "\n"
       ]
      },
      {
       "output_type": "stream",
       "stream": "stdout",
       "text": [
        "\n",
        "matched\n",
        "\n",
        "\n",
        "matched\n",
        "\n",
        "\n",
        "matched\n",
        "\n"
       ]
      },
      {
       "output_type": "stream",
       "stream": "stdout",
       "text": [
        "\n",
        "matched\n",
        "\n",
        "\n",
        "matched\n",
        "\n",
        "\n",
        "matched\n",
        "\n",
        "\n",
        "matched\n",
        "\n",
        "\n",
        "matched\n",
        "\n"
       ]
      },
      {
       "output_type": "stream",
       "stream": "stdout",
       "text": [
        "\n",
        "matched\n",
        "\n",
        "\n",
        "matched\n",
        "\n",
        "\n",
        "matched\n",
        "\n",
        "\n",
        "matched\n",
        "\n"
       ]
      },
      {
       "output_type": "stream",
       "stream": "stdout",
       "text": [
        "\n",
        "matched\n",
        "\n",
        "\n",
        "matched\n",
        "\n",
        "\n",
        "matched\n",
        "\n",
        "\n",
        "matched\n",
        "\n",
        "\n",
        "matched\n",
        "\n"
       ]
      },
      {
       "output_type": "stream",
       "stream": "stdout",
       "text": [
        "\n",
        "matched\n",
        "\n"
       ]
      },
      {
       "output_type": "stream",
       "stream": "stdout",
       "text": [
        "\n",
        "matched\n",
        "\n",
        "\n",
        "matched\n",
        "\n"
       ]
      },
      {
       "output_type": "stream",
       "stream": "stdout",
       "text": [
        "\n",
        "matched\n",
        "\n"
       ]
      },
      {
       "output_type": "stream",
       "stream": "stdout",
       "text": [
        "\n",
        "matched\n",
        "\n",
        "\n",
        "matched\n",
        "\n",
        "\n",
        "matched\n",
        "\n",
        "\n",
        "matched\n",
        "\n",
        "\n",
        "matched\n",
        "\n"
       ]
      },
      {
       "output_type": "stream",
       "stream": "stdout",
       "text": [
        "\n",
        "matched\n",
        "\n"
       ]
      },
      {
       "output_type": "stream",
       "stream": "stdout",
       "text": [
        "\n",
        "matched\n",
        "\n",
        "\n",
        "matched\n",
        "\n",
        "\n",
        "matched\n",
        "\n"
       ]
      },
      {
       "output_type": "stream",
       "stream": "stdout",
       "text": [
        "\n",
        "matched\n",
        "\n",
        "\n",
        "matched\n",
        "\n"
       ]
      },
      {
       "output_type": "stream",
       "stream": "stdout",
       "text": [
        "\n",
        "matched\n",
        "\n"
       ]
      },
      {
       "output_type": "stream",
       "stream": "stdout",
       "text": [
        "\n",
        "matched\n",
        "\n"
       ]
      },
      {
       "output_type": "stream",
       "stream": "stdout",
       "text": [
        "\n",
        "matched\n",
        "\n",
        "\n",
        "matched\n",
        "\n"
       ]
      },
      {
       "output_type": "stream",
       "stream": "stdout",
       "text": [
        "\n",
        "matched\n",
        "\n",
        "\n",
        "matched\n",
        "\n"
       ]
      },
      {
       "output_type": "stream",
       "stream": "stdout",
       "text": [
        "\n",
        "matched\n",
        "\n",
        "\n",
        "matched\n",
        "\n"
       ]
      },
      {
       "output_type": "stream",
       "stream": "stdout",
       "text": [
        "\n",
        "matched\n",
        "\n"
       ]
      },
      {
       "output_type": "stream",
       "stream": "stdout",
       "text": [
        "\n",
        "matched\n",
        "\n",
        "\n",
        "matched\n",
        "\n"
       ]
      },
      {
       "output_type": "stream",
       "stream": "stdout",
       "text": [
        "\n",
        "matched\n",
        "\n"
       ]
      },
      {
       "output_type": "stream",
       "stream": "stdout",
       "text": [
        "\n",
        "200"
       ]
      },
      {
       "output_type": "stream",
       "stream": "stdout",
       "text": [
        "\n",
        "matched\n",
        "\n"
       ]
      },
      {
       "output_type": "stream",
       "stream": "stdout",
       "text": [
        "\n",
        "matched\n",
        "\n"
       ]
      },
      {
       "output_type": "stream",
       "stream": "stdout",
       "text": [
        "\n",
        "matched\n",
        "\n",
        "\n",
        "matched\n",
        "\n",
        "\n",
        "matched\n",
        "\n"
       ]
      },
      {
       "output_type": "stream",
       "stream": "stdout",
       "text": [
        "\n",
        "matched\n",
        "\n"
       ]
      },
      {
       "output_type": "stream",
       "stream": "stdout",
       "text": [
        "\n",
        "matched\n",
        "\n",
        "\n",
        "matched\n",
        "\n"
       ]
      },
      {
       "output_type": "stream",
       "stream": "stdout",
       "text": [
        "\n",
        "matched\n",
        "\n"
       ]
      },
      {
       "output_type": "stream",
       "stream": "stdout",
       "text": [
        "\n",
        "matched\n",
        "\n"
       ]
      },
      {
       "output_type": "stream",
       "stream": "stdout",
       "text": [
        "\n",
        "matched\n",
        "\n"
       ]
      },
      {
       "output_type": "stream",
       "stream": "stdout",
       "text": [
        "\n",
        "matched\n",
        "\n",
        "\n",
        "matched\n",
        "\n"
       ]
      },
      {
       "output_type": "stream",
       "stream": "stdout",
       "text": [
        "\n",
        "matched\n",
        "\n",
        "\n",
        "matched\n",
        "\n"
       ]
      },
      {
       "output_type": "stream",
       "stream": "stdout",
       "text": [
        "\n",
        "matched\n",
        "\n"
       ]
      },
      {
       "output_type": "stream",
       "stream": "stdout",
       "text": [
        "\n",
        "matched\n",
        "\n",
        "\n",
        "matched\n",
        "\n"
       ]
      },
      {
       "output_type": "stream",
       "stream": "stdout",
       "text": [
        "\n",
        "matched\n",
        "\n"
       ]
      },
      {
       "output_type": "stream",
       "stream": "stdout",
       "text": [
        "\n",
        "matched\n",
        "\n",
        "\n",
        "matched\n",
        "\n"
       ]
      },
      {
       "output_type": "stream",
       "stream": "stdout",
       "text": [
        "\n",
        "matched\n",
        "\n",
        "\n",
        "matched\n",
        "\n"
       ]
      },
      {
       "output_type": "stream",
       "stream": "stdout",
       "text": [
        "\n",
        "matched\n",
        "\n",
        "\n",
        "matched\n",
        "\n"
       ]
      },
      {
       "output_type": "stream",
       "stream": "stdout",
       "text": [
        "\n",
        "matched\n",
        "\n"
       ]
      },
      {
       "output_type": "stream",
       "stream": "stdout",
       "text": [
        "\n",
        "matched\n",
        "\n",
        "\n",
        "matched\n",
        "\n",
        "\n",
        "matched\n",
        "\n"
       ]
      },
      {
       "output_type": "stream",
       "stream": "stdout",
       "text": [
        "\n",
        "matched\n",
        "\n",
        "\n",
        "matched\n",
        "\n",
        "\n",
        "matched\n",
        "\n"
       ]
      },
      {
       "output_type": "stream",
       "stream": "stdout",
       "text": [
        "\n",
        "matched\n",
        "\n",
        "\n",
        "matched\n",
        "\n",
        "\n",
        "matched\n",
        "\n"
       ]
      },
      {
       "output_type": "stream",
       "stream": "stdout",
       "text": [
        "\n",
        "matched\n",
        "\n",
        "\n",
        "matched\n",
        "\n",
        "\n",
        "matched\n",
        "\n"
       ]
      },
      {
       "output_type": "stream",
       "stream": "stdout",
       "text": [
        "\n",
        "matched\n",
        "\n",
        "\n",
        "matched\n",
        "\n"
       ]
      },
      {
       "output_type": "stream",
       "stream": "stdout",
       "text": [
        "\n",
        "matched\n",
        "\n"
       ]
      },
      {
       "output_type": "stream",
       "stream": "stdout",
       "text": [
        "\n",
        "matched\n",
        "\n",
        "\n",
        "matched\n",
        "\n",
        "\n",
        "matched\n",
        "\n"
       ]
      },
      {
       "output_type": "stream",
       "stream": "stdout",
       "text": [
        "\n",
        "matched\n",
        "\n",
        "\n",
        "matched\n",
        "\n",
        "\n",
        "matched\n",
        "\n"
       ]
      },
      {
       "output_type": "stream",
       "stream": "stdout",
       "text": [
        "\n",
        "matched\n",
        "\n"
       ]
      },
      {
       "output_type": "stream",
       "stream": "stdout",
       "text": [
        "\n",
        "matched\n",
        "\n",
        "\n",
        "matched\n",
        "\n"
       ]
      },
      {
       "output_type": "stream",
       "stream": "stdout",
       "text": [
        "\n",
        "matched\n",
        "\n"
       ]
      },
      {
       "output_type": "stream",
       "stream": "stdout",
       "text": [
        "\n",
        "matched\n",
        "\n"
       ]
      },
      {
       "output_type": "stream",
       "stream": "stdout",
       "text": [
        "\n",
        "matched\n",
        "\n"
       ]
      },
      {
       "output_type": "stream",
       "stream": "stdout",
       "text": [
        "\n",
        "matched\n",
        "\n"
       ]
      },
      {
       "output_type": "stream",
       "stream": "stdout",
       "text": [
        "\n",
        "matched\n",
        "\n",
        "\n",
        "matched\n",
        "\n"
       ]
      },
      {
       "output_type": "stream",
       "stream": "stdout",
       "text": [
        "\n",
        "matched\n",
        "\n"
       ]
      },
      {
       "output_type": "stream",
       "stream": "stdout",
       "text": [
        "\n",
        "matched\n",
        "\n"
       ]
      },
      {
       "output_type": "stream",
       "stream": "stdout",
       "text": [
        "\n",
        "matched\n",
        "\n"
       ]
      },
      {
       "output_type": "stream",
       "stream": "stdout",
       "text": [
        "\n",
        "matched\n",
        "\n",
        "\n",
        "matched\n",
        "\n"
       ]
      },
      {
       "output_type": "stream",
       "stream": "stdout",
       "text": [
        "\n",
        "matched\n",
        "\n",
        "\n",
        "matched\n",
        "\n"
       ]
      },
      {
       "output_type": "stream",
       "stream": "stdout",
       "text": [
        "\n",
        "matched\n",
        "\n",
        "\n",
        "matched\n",
        "\n"
       ]
      },
      {
       "output_type": "stream",
       "stream": "stdout",
       "text": [
        "\n",
        "matched\n",
        "\n"
       ]
      },
      {
       "output_type": "stream",
       "stream": "stdout",
       "text": [
        "\n",
        "matched\n",
        "\n"
       ]
      },
      {
       "output_type": "stream",
       "stream": "stdout",
       "text": [
        "\n",
        "matched\n",
        "\n",
        "\n",
        "matched\n",
        "\n",
        "\n",
        "matched\n",
        "\n",
        "\n",
        "matched\n",
        "\n"
       ]
      },
      {
       "output_type": "stream",
       "stream": "stdout",
       "text": [
        "\n",
        "matched\n",
        "\n",
        "\n",
        "matched\n",
        "\n",
        "\n",
        "matched\n",
        "\n",
        "\n",
        "matched\n",
        "\n",
        "\n",
        "matched\n",
        "\n"
       ]
      },
      {
       "output_type": "stream",
       "stream": "stdout",
       "text": [
        "\n",
        "matched\n",
        "\n"
       ]
      },
      {
       "output_type": "stream",
       "stream": "stdout",
       "text": [
        "\n",
        "matched\n",
        "\n",
        "\n",
        "matched\n",
        "\n"
       ]
      },
      {
       "output_type": "stream",
       "stream": "stdout",
       "text": [
        "\n",
        "matched\n",
        "\n"
       ]
      },
      {
       "output_type": "stream",
       "stream": "stdout",
       "text": [
        "\n",
        "matched\n",
        "\n"
       ]
      },
      {
       "output_type": "stream",
       "stream": "stdout",
       "text": [
        "\n",
        "matched\n",
        "\n"
       ]
      },
      {
       "output_type": "stream",
       "stream": "stdout",
       "text": [
        "\n",
        "matched\n",
        "\n"
       ]
      },
      {
       "output_type": "stream",
       "stream": "stdout",
       "text": [
        "\n",
        "matched\n",
        "\n",
        "\n",
        "matched\n",
        "\n"
       ]
      },
      {
       "output_type": "stream",
       "stream": "stdout",
       "text": [
        "\n",
        "matched\n",
        "\n",
        "\n",
        "matched\n",
        "\n",
        "\n",
        "matched\n",
        "\n"
       ]
      },
      {
       "output_type": "stream",
       "stream": "stdout",
       "text": [
        "\n",
        "matched\n",
        "\n",
        "\n",
        "matched\n",
        "\n"
       ]
      },
      {
       "output_type": "stream",
       "stream": "stdout",
       "text": [
        "\n",
        "matched\n",
        "\n"
       ]
      },
      {
       "output_type": "stream",
       "stream": "stdout",
       "text": [
        "\n",
        "matched\n",
        "\n",
        "\n",
        "matched\n",
        "\n",
        "\n",
        "matched\n",
        "\n",
        "\n",
        "matched\n",
        "\n"
       ]
      },
      {
       "output_type": "stream",
       "stream": "stdout",
       "text": [
        "\n",
        "matched\n",
        "\n",
        "\n",
        "matched\n",
        "\n"
       ]
      },
      {
       "output_type": "stream",
       "stream": "stdout",
       "text": [
        "\n",
        "matched\n",
        "\n"
       ]
      },
      {
       "output_type": "stream",
       "stream": "stdout",
       "text": [
        "\n",
        "matched\n",
        "\n"
       ]
      },
      {
       "output_type": "stream",
       "stream": "stdout",
       "text": [
        "\n",
        "matched\n",
        "\n"
       ]
      },
      {
       "output_type": "stream",
       "stream": "stdout",
       "text": [
        "\n",
        "matched\n",
        "\n",
        "\n",
        "matched\n",
        "\n",
        "\n",
        "matched\n",
        "\n"
       ]
      },
      {
       "output_type": "stream",
       "stream": "stdout",
       "text": [
        "\n",
        "matched\n",
        "\n",
        "\n",
        "matched\n",
        "\n",
        "\n",
        "matched\n",
        "\n"
       ]
      },
      {
       "output_type": "stream",
       "stream": "stdout",
       "text": [
        "\n",
        "matched\n",
        "\n",
        "\n",
        "matched\n",
        "\n",
        "\n",
        "matched\n",
        "\n",
        "\n",
        "matched\n",
        "\n",
        "\n",
        "matched\n",
        "\n"
       ]
      },
      {
       "output_type": "stream",
       "stream": "stdout",
       "text": [
        "\n",
        "matched\n",
        "\n"
       ]
      },
      {
       "output_type": "stream",
       "stream": "stdout",
       "text": [
        "\n",
        "matched\n",
        "\n"
       ]
      },
      {
       "output_type": "stream",
       "stream": "stdout",
       "text": [
        "\n",
        "matched\n",
        "\n"
       ]
      },
      {
       "output_type": "stream",
       "stream": "stdout",
       "text": [
        "\n",
        "matched\n",
        "\n",
        "\n",
        "matched\n",
        "\n"
       ]
      },
      {
       "output_type": "stream",
       "stream": "stdout",
       "text": [
        "\n",
        "matched\n",
        "\n",
        "\n",
        "matched\n",
        "\n",
        "\n",
        "matched\n",
        "\n"
       ]
      },
      {
       "output_type": "stream",
       "stream": "stdout",
       "text": [
        "\n",
        "matched\n",
        "\n",
        "\n",
        "matched\n",
        "\n",
        "\n",
        "matched\n",
        "\n"
       ]
      },
      {
       "output_type": "stream",
       "stream": "stdout",
       "text": [
        "\n",
        "matched\n",
        "\n",
        "\n",
        "matched\n",
        "\n"
       ]
      },
      {
       "output_type": "stream",
       "stream": "stdout",
       "text": [
        "\n",
        "matched\n",
        "\n",
        "\n",
        "matched\n",
        "\n",
        "\n",
        "matched\n",
        "\n"
       ]
      },
      {
       "output_type": "stream",
       "stream": "stdout",
       "text": [
        "\n",
        "matched\n",
        "\n",
        "\n",
        "matched\n",
        "\n",
        "\n",
        "matched\n",
        "\n",
        "\n",
        "matched\n",
        "\n",
        "\n",
        "matched\n",
        "\n"
       ]
      },
      {
       "output_type": "stream",
       "stream": "stdout",
       "text": [
        "\n",
        "matched\n",
        "\n",
        "\n",
        "matched\n",
        "\n",
        "\n",
        "matched\n",
        "\n"
       ]
      },
      {
       "output_type": "stream",
       "stream": "stdout",
       "text": [
        "\n",
        "matched\n",
        "\n",
        "\n",
        "matched\n",
        "\n",
        "\n",
        "matched\n",
        "\n"
       ]
      },
      {
       "output_type": "stream",
       "stream": "stdout",
       "text": [
        "\n",
        "matched\n",
        "\n"
       ]
      },
      {
       "output_type": "stream",
       "stream": "stdout",
       "text": [
        "\n",
        "matched\n",
        "\n",
        "\n",
        "matched\n",
        "\n"
       ]
      },
      {
       "output_type": "stream",
       "stream": "stdout",
       "text": [
        "\n",
        "matched\n",
        "\n"
       ]
      },
      {
       "output_type": "stream",
       "stream": "stdout",
       "text": [
        "\n",
        "matched\n",
        "\n"
       ]
      },
      {
       "output_type": "stream",
       "stream": "stdout",
       "text": [
        "\n",
        "matched\n",
        "\n",
        "\n",
        "matched\n",
        "\n",
        "\n",
        "matched\n",
        "\n"
       ]
      },
      {
       "output_type": "stream",
       "stream": "stdout",
       "text": [
        "\n",
        "matched\n",
        "\n",
        "\n",
        "matched\n",
        "\n",
        "\n",
        "[[ 0.  1.  1.  1.  2.  1.  1.  0.]\n",
        " [ 0.  0.  0.  0.  2.  0.  1.  1.]\n",
        " [ 0.  0.  0.  0.  0.  1.  2.  2.]\n",
        " [ 0.  0.  0.  0.  0.  1.  2.  2.]\n",
        " [ 0.  0.  0.  0.  0.  0.  1.  1.]\n",
        " [ 0.  0.  0.  0.  0.  0.  1.  1.]\n",
        " [ 0.  0.  0.  0.  0.  0.  0.  1.]\n",
        " [ 0.  0.  0.  0.  0.  0.  0.  0.]]"
       ]
      },
      {
       "ename": "IndexError",
       "evalue": "list index out of range",
       "output_type": "pyerr",
       "traceback": [
        "\u001b[1;31m---------------------------------------------------------------------------\u001b[0m\n\u001b[1;31mIndexError\u001b[0m                                Traceback (most recent call last)",
        "\u001b[1;32m<ipython-input-1459-e888271596da>\u001b[0m in \u001b[0;36m<module>\u001b[1;34m()\u001b[0m\n\u001b[0;32m      2\u001b[0m     \u001b[1;32mif\u001b[0m \u001b[0mi\u001b[0m\u001b[1;33m%\u001b[0m\u001b[1;36m100\u001b[0m \u001b[1;33m==\u001b[0m \u001b[1;36m0\u001b[0m\u001b[1;33m:\u001b[0m\u001b[1;33m\u001b[0m\u001b[0m\n\u001b[0;32m      3\u001b[0m         \u001b[1;32mprint\u001b[0m \u001b[0mi\u001b[0m\u001b[1;33m\u001b[0m\u001b[0m\n\u001b[1;32m----> 4\u001b[1;33m     \u001b[0mpermutateMat\u001b[0m\u001b[1;33m(\u001b[0m\u001b[0mgenRandMat\u001b[0m\u001b[1;33m(\u001b[0m\u001b[1;36m8\u001b[0m\u001b[1;33m,\u001b[0m\u001b[1;36m3\u001b[0m\u001b[1;33m)\u001b[0m\u001b[1;33m,\u001b[0m\u001b[1;36m3\u001b[0m\u001b[1;33m)\u001b[0m\u001b[1;33m\u001b[0m\u001b[0m\n\u001b[0m",
        "\u001b[1;32m<ipython-input-854-5deee260180a>\u001b[0m in \u001b[0;36mpermutateMat\u001b[1;34m(origMat, w)\u001b[0m\n\u001b[0;32m      6\u001b[0m     \u001b[0mrowsToDo\u001b[0m \u001b[1;33m=\u001b[0m \u001b[0mnp\u001b[0m\u001b[1;33m.\u001b[0m\u001b[0mones\u001b[0m\u001b[1;33m(\u001b[0m\u001b[0mn\u001b[0m\u001b[1;33m)\u001b[0m\u001b[1;33m\u001b[0m\u001b[0m\n\u001b[0;32m      7\u001b[0m     \u001b[0mperm\u001b[0m \u001b[1;33m=\u001b[0m \u001b[1;33m-\u001b[0m\u001b[0mnp\u001b[0m\u001b[1;33m.\u001b[0m\u001b[0mones\u001b[0m\u001b[1;33m(\u001b[0m\u001b[0mn\u001b[0m\u001b[1;33m)\u001b[0m\u001b[1;33m\u001b[0m\u001b[0m\n\u001b[1;32m----> 8\u001b[1;33m     \u001b[1;33m[\u001b[0m\u001b[0mfound\u001b[0m\u001b[1;33m,\u001b[0m\u001b[0mfirstOne\u001b[0m\u001b[1;33m]\u001b[0m \u001b[1;33m=\u001b[0m \u001b[0mpermutateRows\u001b[0m\u001b[1;33m(\u001b[0m\u001b[0morigMat\u001b[0m\u001b[1;33m,\u001b[0m\u001b[0mrowsToDo\u001b[0m\u001b[1;33m,\u001b[0m\u001b[0mperm\u001b[0m\u001b[1;33m,\u001b[0m\u001b[0mfound\u001b[0m\u001b[1;33m,\u001b[0m\u001b[0mfirstOne\u001b[0m\u001b[1;33m,\u001b[0m\u001b[0mw\u001b[0m\u001b[1;33m)\u001b[0m\u001b[1;33m\u001b[0m\u001b[0m\n\u001b[0m",
        "\u001b[1;32m<ipython-input-856-11fd06b917f5>\u001b[0m in \u001b[0;36mpermutateRows\u001b[1;34m(origMat, rowsToDo, perm, found, firstOne, w)\u001b[0m\n\u001b[0;32m     17\u001b[0m             \u001b[0mrowsToDo\u001b[0m\u001b[1;33m[\u001b[0m\u001b[0mi\u001b[0m\u001b[1;33m]\u001b[0m \u001b[1;33m=\u001b[0m \u001b[1;36m0\u001b[0m\u001b[1;33m\u001b[0m\u001b[0m\n\u001b[0;32m     18\u001b[0m             \u001b[0mperm\u001b[0m\u001b[1;33m[\u001b[0m\u001b[0mdoneN\u001b[0m\u001b[1;33m]\u001b[0m \u001b[1;33m=\u001b[0m \u001b[0mi\u001b[0m\u001b[1;33m\u001b[0m\u001b[0m\n\u001b[1;32m---> 19\u001b[1;33m             \u001b[1;33m[\u001b[0m\u001b[0mfound\u001b[0m\u001b[1;33m,\u001b[0m\u001b[0mfirstOne\u001b[0m\u001b[1;33m]\u001b[0m \u001b[1;33m=\u001b[0m \u001b[0mpermutateRows\u001b[0m\u001b[1;33m(\u001b[0m\u001b[0morigMat\u001b[0m\u001b[1;33m,\u001b[0m\u001b[0mrowsToDo\u001b[0m\u001b[1;33m,\u001b[0m\u001b[0mperm\u001b[0m\u001b[1;33m,\u001b[0m\u001b[0mfound\u001b[0m\u001b[1;33m,\u001b[0m\u001b[0mfirstOne\u001b[0m\u001b[1;33m,\u001b[0m\u001b[0mw\u001b[0m\u001b[1;33m)\u001b[0m\u001b[1;33m\u001b[0m\u001b[0m\n\u001b[0m\u001b[0;32m     20\u001b[0m             \u001b[0mrowsToDo\u001b[0m\u001b[1;33m[\u001b[0m\u001b[0mi\u001b[0m\u001b[1;33m]\u001b[0m \u001b[1;33m=\u001b[0m \u001b[1;36m1\u001b[0m\u001b[1;33m\u001b[0m\u001b[0m\n\u001b[0;32m     21\u001b[0m     \u001b[1;32mreturn\u001b[0m \u001b[1;33m[\u001b[0m\u001b[0mfound\u001b[0m\u001b[1;33m,\u001b[0m\u001b[0mfirstOne\u001b[0m\u001b[1;33m]\u001b[0m\u001b[1;33m\u001b[0m\u001b[0m\n",
        "\u001b[1;32m<ipython-input-856-11fd06b917f5>\u001b[0m in \u001b[0;36mpermutateRows\u001b[1;34m(origMat, rowsToDo, perm, found, firstOne, w)\u001b[0m\n\u001b[0;32m     17\u001b[0m             \u001b[0mrowsToDo\u001b[0m\u001b[1;33m[\u001b[0m\u001b[0mi\u001b[0m\u001b[1;33m]\u001b[0m \u001b[1;33m=\u001b[0m \u001b[1;36m0\u001b[0m\u001b[1;33m\u001b[0m\u001b[0m\n\u001b[0;32m     18\u001b[0m             \u001b[0mperm\u001b[0m\u001b[1;33m[\u001b[0m\u001b[0mdoneN\u001b[0m\u001b[1;33m]\u001b[0m \u001b[1;33m=\u001b[0m \u001b[0mi\u001b[0m\u001b[1;33m\u001b[0m\u001b[0m\n\u001b[1;32m---> 19\u001b[1;33m             \u001b[1;33m[\u001b[0m\u001b[0mfound\u001b[0m\u001b[1;33m,\u001b[0m\u001b[0mfirstOne\u001b[0m\u001b[1;33m]\u001b[0m \u001b[1;33m=\u001b[0m \u001b[0mpermutateRows\u001b[0m\u001b[1;33m(\u001b[0m\u001b[0morigMat\u001b[0m\u001b[1;33m,\u001b[0m\u001b[0mrowsToDo\u001b[0m\u001b[1;33m,\u001b[0m\u001b[0mperm\u001b[0m\u001b[1;33m,\u001b[0m\u001b[0mfound\u001b[0m\u001b[1;33m,\u001b[0m\u001b[0mfirstOne\u001b[0m\u001b[1;33m,\u001b[0m\u001b[0mw\u001b[0m\u001b[1;33m)\u001b[0m\u001b[1;33m\u001b[0m\u001b[0m\n\u001b[0m\u001b[0;32m     20\u001b[0m             \u001b[0mrowsToDo\u001b[0m\u001b[1;33m[\u001b[0m\u001b[0mi\u001b[0m\u001b[1;33m]\u001b[0m \u001b[1;33m=\u001b[0m \u001b[1;36m1\u001b[0m\u001b[1;33m\u001b[0m\u001b[0m\n\u001b[0;32m     21\u001b[0m     \u001b[1;32mreturn\u001b[0m \u001b[1;33m[\u001b[0m\u001b[0mfound\u001b[0m\u001b[1;33m,\u001b[0m\u001b[0mfirstOne\u001b[0m\u001b[1;33m]\u001b[0m\u001b[1;33m\u001b[0m\u001b[0m\n",
        "\u001b[1;32m<ipython-input-856-11fd06b917f5>\u001b[0m in \u001b[0;36mpermutateRows\u001b[1;34m(origMat, rowsToDo, perm, found, firstOne, w)\u001b[0m\n\u001b[0;32m     17\u001b[0m             \u001b[0mrowsToDo\u001b[0m\u001b[1;33m[\u001b[0m\u001b[0mi\u001b[0m\u001b[1;33m]\u001b[0m \u001b[1;33m=\u001b[0m \u001b[1;36m0\u001b[0m\u001b[1;33m\u001b[0m\u001b[0m\n\u001b[0;32m     18\u001b[0m             \u001b[0mperm\u001b[0m\u001b[1;33m[\u001b[0m\u001b[0mdoneN\u001b[0m\u001b[1;33m]\u001b[0m \u001b[1;33m=\u001b[0m \u001b[0mi\u001b[0m\u001b[1;33m\u001b[0m\u001b[0m\n\u001b[1;32m---> 19\u001b[1;33m             \u001b[1;33m[\u001b[0m\u001b[0mfound\u001b[0m\u001b[1;33m,\u001b[0m\u001b[0mfirstOne\u001b[0m\u001b[1;33m]\u001b[0m \u001b[1;33m=\u001b[0m \u001b[0mpermutateRows\u001b[0m\u001b[1;33m(\u001b[0m\u001b[0morigMat\u001b[0m\u001b[1;33m,\u001b[0m\u001b[0mrowsToDo\u001b[0m\u001b[1;33m,\u001b[0m\u001b[0mperm\u001b[0m\u001b[1;33m,\u001b[0m\u001b[0mfound\u001b[0m\u001b[1;33m,\u001b[0m\u001b[0mfirstOne\u001b[0m\u001b[1;33m,\u001b[0m\u001b[0mw\u001b[0m\u001b[1;33m)\u001b[0m\u001b[1;33m\u001b[0m\u001b[0m\n\u001b[0m\u001b[0;32m     20\u001b[0m             \u001b[0mrowsToDo\u001b[0m\u001b[1;33m[\u001b[0m\u001b[0mi\u001b[0m\u001b[1;33m]\u001b[0m \u001b[1;33m=\u001b[0m \u001b[1;36m1\u001b[0m\u001b[1;33m\u001b[0m\u001b[0m\n\u001b[0;32m     21\u001b[0m     \u001b[1;32mreturn\u001b[0m \u001b[1;33m[\u001b[0m\u001b[0mfound\u001b[0m\u001b[1;33m,\u001b[0m\u001b[0mfirstOne\u001b[0m\u001b[1;33m]\u001b[0m\u001b[1;33m\u001b[0m\u001b[0m\n",
        "\u001b[1;32m<ipython-input-856-11fd06b917f5>\u001b[0m in \u001b[0;36mpermutateRows\u001b[1;34m(origMat, rowsToDo, perm, found, firstOne, w)\u001b[0m\n\u001b[0;32m     17\u001b[0m             \u001b[0mrowsToDo\u001b[0m\u001b[1;33m[\u001b[0m\u001b[0mi\u001b[0m\u001b[1;33m]\u001b[0m \u001b[1;33m=\u001b[0m \u001b[1;36m0\u001b[0m\u001b[1;33m\u001b[0m\u001b[0m\n\u001b[0;32m     18\u001b[0m             \u001b[0mperm\u001b[0m\u001b[1;33m[\u001b[0m\u001b[0mdoneN\u001b[0m\u001b[1;33m]\u001b[0m \u001b[1;33m=\u001b[0m \u001b[0mi\u001b[0m\u001b[1;33m\u001b[0m\u001b[0m\n\u001b[1;32m---> 19\u001b[1;33m             \u001b[1;33m[\u001b[0m\u001b[0mfound\u001b[0m\u001b[1;33m,\u001b[0m\u001b[0mfirstOne\u001b[0m\u001b[1;33m]\u001b[0m \u001b[1;33m=\u001b[0m \u001b[0mpermutateRows\u001b[0m\u001b[1;33m(\u001b[0m\u001b[0morigMat\u001b[0m\u001b[1;33m,\u001b[0m\u001b[0mrowsToDo\u001b[0m\u001b[1;33m,\u001b[0m\u001b[0mperm\u001b[0m\u001b[1;33m,\u001b[0m\u001b[0mfound\u001b[0m\u001b[1;33m,\u001b[0m\u001b[0mfirstOne\u001b[0m\u001b[1;33m,\u001b[0m\u001b[0mw\u001b[0m\u001b[1;33m)\u001b[0m\u001b[1;33m\u001b[0m\u001b[0m\n\u001b[0m\u001b[0;32m     20\u001b[0m             \u001b[0mrowsToDo\u001b[0m\u001b[1;33m[\u001b[0m\u001b[0mi\u001b[0m\u001b[1;33m]\u001b[0m \u001b[1;33m=\u001b[0m \u001b[1;36m1\u001b[0m\u001b[1;33m\u001b[0m\u001b[0m\n\u001b[0;32m     21\u001b[0m     \u001b[1;32mreturn\u001b[0m \u001b[1;33m[\u001b[0m\u001b[0mfound\u001b[0m\u001b[1;33m,\u001b[0m\u001b[0mfirstOne\u001b[0m\u001b[1;33m]\u001b[0m\u001b[1;33m\u001b[0m\u001b[0m\n",
        "\u001b[1;32m<ipython-input-856-11fd06b917f5>\u001b[0m in \u001b[0;36mpermutateRows\u001b[1;34m(origMat, rowsToDo, perm, found, firstOne, w)\u001b[0m\n\u001b[0;32m     17\u001b[0m             \u001b[0mrowsToDo\u001b[0m\u001b[1;33m[\u001b[0m\u001b[0mi\u001b[0m\u001b[1;33m]\u001b[0m \u001b[1;33m=\u001b[0m \u001b[1;36m0\u001b[0m\u001b[1;33m\u001b[0m\u001b[0m\n\u001b[0;32m     18\u001b[0m             \u001b[0mperm\u001b[0m\u001b[1;33m[\u001b[0m\u001b[0mdoneN\u001b[0m\u001b[1;33m]\u001b[0m \u001b[1;33m=\u001b[0m \u001b[0mi\u001b[0m\u001b[1;33m\u001b[0m\u001b[0m\n\u001b[1;32m---> 19\u001b[1;33m             \u001b[1;33m[\u001b[0m\u001b[0mfound\u001b[0m\u001b[1;33m,\u001b[0m\u001b[0mfirstOne\u001b[0m\u001b[1;33m]\u001b[0m \u001b[1;33m=\u001b[0m \u001b[0mpermutateRows\u001b[0m\u001b[1;33m(\u001b[0m\u001b[0morigMat\u001b[0m\u001b[1;33m,\u001b[0m\u001b[0mrowsToDo\u001b[0m\u001b[1;33m,\u001b[0m\u001b[0mperm\u001b[0m\u001b[1;33m,\u001b[0m\u001b[0mfound\u001b[0m\u001b[1;33m,\u001b[0m\u001b[0mfirstOne\u001b[0m\u001b[1;33m,\u001b[0m\u001b[0mw\u001b[0m\u001b[1;33m)\u001b[0m\u001b[1;33m\u001b[0m\u001b[0m\n\u001b[0m\u001b[0;32m     20\u001b[0m             \u001b[0mrowsToDo\u001b[0m\u001b[1;33m[\u001b[0m\u001b[0mi\u001b[0m\u001b[1;33m]\u001b[0m \u001b[1;33m=\u001b[0m \u001b[1;36m1\u001b[0m\u001b[1;33m\u001b[0m\u001b[0m\n\u001b[0;32m     21\u001b[0m     \u001b[1;32mreturn\u001b[0m \u001b[1;33m[\u001b[0m\u001b[0mfound\u001b[0m\u001b[1;33m,\u001b[0m\u001b[0mfirstOne\u001b[0m\u001b[1;33m]\u001b[0m\u001b[1;33m\u001b[0m\u001b[0m\n",
        "\u001b[1;32m<ipython-input-856-11fd06b917f5>\u001b[0m in \u001b[0;36mpermutateRows\u001b[1;34m(origMat, rowsToDo, perm, found, firstOne, w)\u001b[0m\n\u001b[0;32m     17\u001b[0m             \u001b[0mrowsToDo\u001b[0m\u001b[1;33m[\u001b[0m\u001b[0mi\u001b[0m\u001b[1;33m]\u001b[0m \u001b[1;33m=\u001b[0m \u001b[1;36m0\u001b[0m\u001b[1;33m\u001b[0m\u001b[0m\n\u001b[0;32m     18\u001b[0m             \u001b[0mperm\u001b[0m\u001b[1;33m[\u001b[0m\u001b[0mdoneN\u001b[0m\u001b[1;33m]\u001b[0m \u001b[1;33m=\u001b[0m \u001b[0mi\u001b[0m\u001b[1;33m\u001b[0m\u001b[0m\n\u001b[1;32m---> 19\u001b[1;33m             \u001b[1;33m[\u001b[0m\u001b[0mfound\u001b[0m\u001b[1;33m,\u001b[0m\u001b[0mfirstOne\u001b[0m\u001b[1;33m]\u001b[0m \u001b[1;33m=\u001b[0m \u001b[0mpermutateRows\u001b[0m\u001b[1;33m(\u001b[0m\u001b[0morigMat\u001b[0m\u001b[1;33m,\u001b[0m\u001b[0mrowsToDo\u001b[0m\u001b[1;33m,\u001b[0m\u001b[0mperm\u001b[0m\u001b[1;33m,\u001b[0m\u001b[0mfound\u001b[0m\u001b[1;33m,\u001b[0m\u001b[0mfirstOne\u001b[0m\u001b[1;33m,\u001b[0m\u001b[0mw\u001b[0m\u001b[1;33m)\u001b[0m\u001b[1;33m\u001b[0m\u001b[0m\n\u001b[0m\u001b[0;32m     20\u001b[0m             \u001b[0mrowsToDo\u001b[0m\u001b[1;33m[\u001b[0m\u001b[0mi\u001b[0m\u001b[1;33m]\u001b[0m \u001b[1;33m=\u001b[0m \u001b[1;36m1\u001b[0m\u001b[1;33m\u001b[0m\u001b[0m\n\u001b[0;32m     21\u001b[0m     \u001b[1;32mreturn\u001b[0m \u001b[1;33m[\u001b[0m\u001b[0mfound\u001b[0m\u001b[1;33m,\u001b[0m\u001b[0mfirstOne\u001b[0m\u001b[1;33m]\u001b[0m\u001b[1;33m\u001b[0m\u001b[0m\n",
        "\u001b[1;32m<ipython-input-856-11fd06b917f5>\u001b[0m in \u001b[0;36mpermutateRows\u001b[1;34m(origMat, rowsToDo, perm, found, firstOne, w)\u001b[0m\n\u001b[0;32m     17\u001b[0m             \u001b[0mrowsToDo\u001b[0m\u001b[1;33m[\u001b[0m\u001b[0mi\u001b[0m\u001b[1;33m]\u001b[0m \u001b[1;33m=\u001b[0m \u001b[1;36m0\u001b[0m\u001b[1;33m\u001b[0m\u001b[0m\n\u001b[0;32m     18\u001b[0m             \u001b[0mperm\u001b[0m\u001b[1;33m[\u001b[0m\u001b[0mdoneN\u001b[0m\u001b[1;33m]\u001b[0m \u001b[1;33m=\u001b[0m \u001b[0mi\u001b[0m\u001b[1;33m\u001b[0m\u001b[0m\n\u001b[1;32m---> 19\u001b[1;33m             \u001b[1;33m[\u001b[0m\u001b[0mfound\u001b[0m\u001b[1;33m,\u001b[0m\u001b[0mfirstOne\u001b[0m\u001b[1;33m]\u001b[0m \u001b[1;33m=\u001b[0m \u001b[0mpermutateRows\u001b[0m\u001b[1;33m(\u001b[0m\u001b[0morigMat\u001b[0m\u001b[1;33m,\u001b[0m\u001b[0mrowsToDo\u001b[0m\u001b[1;33m,\u001b[0m\u001b[0mperm\u001b[0m\u001b[1;33m,\u001b[0m\u001b[0mfound\u001b[0m\u001b[1;33m,\u001b[0m\u001b[0mfirstOne\u001b[0m\u001b[1;33m,\u001b[0m\u001b[0mw\u001b[0m\u001b[1;33m)\u001b[0m\u001b[1;33m\u001b[0m\u001b[0m\n\u001b[0m\u001b[0;32m     20\u001b[0m             \u001b[0mrowsToDo\u001b[0m\u001b[1;33m[\u001b[0m\u001b[0mi\u001b[0m\u001b[1;33m]\u001b[0m \u001b[1;33m=\u001b[0m \u001b[1;36m1\u001b[0m\u001b[1;33m\u001b[0m\u001b[0m\n\u001b[0;32m     21\u001b[0m     \u001b[1;32mreturn\u001b[0m \u001b[1;33m[\u001b[0m\u001b[0mfound\u001b[0m\u001b[1;33m,\u001b[0m\u001b[0mfirstOne\u001b[0m\u001b[1;33m]\u001b[0m\u001b[1;33m\u001b[0m\u001b[0m\n",
        "\u001b[1;32m<ipython-input-856-11fd06b917f5>\u001b[0m in \u001b[0;36mpermutateRows\u001b[1;34m(origMat, rowsToDo, perm, found, firstOne, w)\u001b[0m\n\u001b[0;32m     17\u001b[0m             \u001b[0mrowsToDo\u001b[0m\u001b[1;33m[\u001b[0m\u001b[0mi\u001b[0m\u001b[1;33m]\u001b[0m \u001b[1;33m=\u001b[0m \u001b[1;36m0\u001b[0m\u001b[1;33m\u001b[0m\u001b[0m\n\u001b[0;32m     18\u001b[0m             \u001b[0mperm\u001b[0m\u001b[1;33m[\u001b[0m\u001b[0mdoneN\u001b[0m\u001b[1;33m]\u001b[0m \u001b[1;33m=\u001b[0m \u001b[0mi\u001b[0m\u001b[1;33m\u001b[0m\u001b[0m\n\u001b[1;32m---> 19\u001b[1;33m             \u001b[1;33m[\u001b[0m\u001b[0mfound\u001b[0m\u001b[1;33m,\u001b[0m\u001b[0mfirstOne\u001b[0m\u001b[1;33m]\u001b[0m \u001b[1;33m=\u001b[0m \u001b[0mpermutateRows\u001b[0m\u001b[1;33m(\u001b[0m\u001b[0morigMat\u001b[0m\u001b[1;33m,\u001b[0m\u001b[0mrowsToDo\u001b[0m\u001b[1;33m,\u001b[0m\u001b[0mperm\u001b[0m\u001b[1;33m,\u001b[0m\u001b[0mfound\u001b[0m\u001b[1;33m,\u001b[0m\u001b[0mfirstOne\u001b[0m\u001b[1;33m,\u001b[0m\u001b[0mw\u001b[0m\u001b[1;33m)\u001b[0m\u001b[1;33m\u001b[0m\u001b[0m\n\u001b[0m\u001b[0;32m     20\u001b[0m             \u001b[0mrowsToDo\u001b[0m\u001b[1;33m[\u001b[0m\u001b[0mi\u001b[0m\u001b[1;33m]\u001b[0m \u001b[1;33m=\u001b[0m \u001b[1;36m1\u001b[0m\u001b[1;33m\u001b[0m\u001b[0m\n\u001b[0;32m     21\u001b[0m     \u001b[1;32mreturn\u001b[0m \u001b[1;33m[\u001b[0m\u001b[0mfound\u001b[0m\u001b[1;33m,\u001b[0m\u001b[0mfirstOne\u001b[0m\u001b[1;33m]\u001b[0m\u001b[1;33m\u001b[0m\u001b[0m\n",
        "\u001b[1;32m<ipython-input-856-11fd06b917f5>\u001b[0m in \u001b[0;36mpermutateRows\u001b[1;34m(origMat, rowsToDo, perm, found, firstOne, w)\u001b[0m\n\u001b[0;32m      9\u001b[0m                 \u001b[0mnewMat\u001b[0m\u001b[1;33m[\u001b[0m\u001b[0mi\u001b[0m\u001b[1;33m,\u001b[0m\u001b[0mj\u001b[0m\u001b[1;33m]\u001b[0m\u001b[1;33m=\u001b[0m\u001b[0morigMat\u001b[0m\u001b[1;33m[\u001b[0m\u001b[0mperm\u001b[0m\u001b[1;33m[\u001b[0m\u001b[0mi\u001b[0m\u001b[1;33m]\u001b[0m\u001b[1;33m,\u001b[0m\u001b[0mperm\u001b[0m\u001b[1;33m[\u001b[0m\u001b[0mj\u001b[0m\u001b[1;33m]\u001b[0m\u001b[1;33m]\u001b[0m\u001b[1;33m\u001b[0m\u001b[0m\n\u001b[0;32m     10\u001b[0m         \u001b[1;31m#print newMat\u001b[0m\u001b[1;33m\u001b[0m\u001b[1;33m\u001b[0m\u001b[0m\n\u001b[1;32m---> 11\u001b[1;33m         \u001b[1;33m[\u001b[0m\u001b[0mfound\u001b[0m\u001b[1;33m,\u001b[0m\u001b[0mfirstOne\u001b[0m\u001b[1;33m]\u001b[0m \u001b[1;33m=\u001b[0m \u001b[0mcheckMat\u001b[0m\u001b[1;33m(\u001b[0m\u001b[0mnewMat\u001b[0m\u001b[1;33m,\u001b[0m\u001b[0morigMat\u001b[0m\u001b[1;33m,\u001b[0m\u001b[0mperm\u001b[0m\u001b[1;33m,\u001b[0m\u001b[0mfound\u001b[0m\u001b[1;33m,\u001b[0m\u001b[0mfirstOne\u001b[0m\u001b[1;33m,\u001b[0m\u001b[0mw\u001b[0m\u001b[1;33m)\u001b[0m\u001b[1;33m\u001b[0m\u001b[0m\n\u001b[0m\u001b[0;32m     12\u001b[0m     \u001b[1;32melse\u001b[0m\u001b[1;33m:\u001b[0m\u001b[1;33m\u001b[0m\u001b[0m\n\u001b[0;32m     13\u001b[0m         \u001b[0mleftR\u001b[0m \u001b[1;33m=\u001b[0m \u001b[0mnp\u001b[0m\u001b[1;33m.\u001b[0m\u001b[0mwhere\u001b[0m\u001b[1;33m(\u001b[0m\u001b[0mrowsToDo\u001b[0m\u001b[1;33m==\u001b[0m\u001b[1;36m1\u001b[0m\u001b[1;33m)\u001b[0m\u001b[1;33m[\u001b[0m\u001b[1;36m0\u001b[0m\u001b[1;33m]\u001b[0m\u001b[1;33m\u001b[0m\u001b[0m\n",
        "\u001b[1;32m<ipython-input-1242-26985a8bf25d>\u001b[0m in \u001b[0;36mcheckMat\u001b[1;34m(newMat, origMat, perm, found, firstOne, w)\u001b[0m\n\u001b[0;32m     10\u001b[0m         \u001b[0ma\u001b[0m \u001b[1;33m=\u001b[0m \u001b[0mdatetime\u001b[0m\u001b[1;33m.\u001b[0m\u001b[0mdatetime\u001b[0m\u001b[1;33m.\u001b[0m\u001b[0mnow\u001b[0m\u001b[1;33m(\u001b[0m\u001b[1;33m)\u001b[0m\u001b[1;33m\u001b[0m\u001b[0m\n\u001b[0;32m     11\u001b[0m         \u001b[1;32mtry\u001b[0m\u001b[1;33m:\u001b[0m\u001b[1;33m\u001b[0m\u001b[0m\n\u001b[1;32m---> 12\u001b[1;33m             \u001b[0mreOrder\u001b[0m \u001b[1;33m=\u001b[0m \u001b[0mreorderMat\u001b[0m\u001b[1;33m(\u001b[0m\u001b[0mnewMat\u001b[0m\u001b[1;33m,\u001b[0m\u001b[0mw\u001b[0m\u001b[1;33m)\u001b[0m\u001b[1;33m\u001b[0m\u001b[0m\n\u001b[0m\u001b[0;32m     13\u001b[0m         \u001b[1;32mexcept\u001b[0m\u001b[1;33m:\u001b[0m\u001b[1;33m\u001b[0m\u001b[0m\n\u001b[0;32m     14\u001b[0m             \u001b[1;32mprint\u001b[0m \u001b[0mnewMat\u001b[0m\u001b[1;33m\u001b[0m\u001b[0m\n",
        "\u001b[1;32m<ipython-input-1449-4f513cf3e591>\u001b[0m in \u001b[0;36mreorderMat\u001b[1;34m(inMat, w)\u001b[0m\n\u001b[0;32m     40\u001b[0m             \u001b[1;31m# maxesInfo - [[old ids of node(s) that produce maximum output, the new mapping for this to work]]\u001b[0m\u001b[1;33m\u001b[0m\u001b[1;33m\u001b[0m\u001b[0m\n\u001b[0;32m     41\u001b[0m             \u001b[1;31m# colToAdd - the column of length number of connected nodes that can be added to the matrix now.\u001b[0m\u001b[1;33m\u001b[0m\u001b[1;33m\u001b[0m\u001b[0m\n\u001b[1;32m---> 42\u001b[1;33m             \u001b[0mmaxesInfo\u001b[0m \u001b[1;33m=\u001b[0m \u001b[0mgetMaxes\u001b[0m\u001b[1;33m(\u001b[0m\u001b[0minMat\u001b[0m\u001b[1;33m,\u001b[0m\u001b[0munConnNodes\u001b[0m\u001b[1;33m,\u001b[0m\u001b[0mnodesDoneNum\u001b[0m\u001b[1;33m,\u001b[0m\u001b[0mnodeMatchesNO\u001b[0m\u001b[1;33m,\u001b[0m\u001b[0mwMAT\u001b[0m\u001b[1;33m,\u001b[0m\u001b[0mambigStore\u001b[0m\u001b[1;33m)\u001b[0m\u001b[1;33m\u001b[0m\u001b[0m\n\u001b[0m\u001b[0;32m     43\u001b[0m             \u001b[1;31m# get the new mapping...\u001b[0m\u001b[1;33m\u001b[0m\u001b[1;33m\u001b[0m\u001b[0m\n\u001b[0;32m     44\u001b[0m             \u001b[0mambigStore\u001b[0m \u001b[1;33m=\u001b[0m \u001b[0mambigStore\u001b[0m\u001b[1;33m+\u001b[0m\u001b[0mmaxesInfo\u001b[0m\u001b[1;33m\u001b[0m\u001b[0m\n",
        "\u001b[1;32m<ipython-input-1455-91e735631c74>\u001b[0m in \u001b[0;36mgetMaxes\u001b[1;34m(origMat, nodesToCons, numNodesDone, nodeMatchesNO, wMAT, ambigStore)\u001b[0m\n\u001b[0;32m     21\u001b[0m         \u001b[0mnTC\u001b[0m \u001b[1;33m=\u001b[0m \u001b[0mnodesToCons\u001b[0m\u001b[1;33m[\u001b[0m\u001b[0mk\u001b[0m\u001b[1;33m]\u001b[0m\u001b[1;33m\u001b[0m\u001b[0m\n\u001b[0;32m     22\u001b[0m         \u001b[1;31m# get the maximised column if we were to add this new node and the resolutions that would be required for it to work.\u001b[0m\u001b[1;33m\u001b[0m\u001b[1;33m\u001b[0m\u001b[0m\n\u001b[1;32m---> 23\u001b[1;33m         \u001b[0mnewCol\u001b[0m\u001b[1;33m,\u001b[0m\u001b[0mnodeMatchesNONew\u001b[0m \u001b[1;33m=\u001b[0m \u001b[0mgetColToAdd\u001b[0m\u001b[1;33m(\u001b[0m\u001b[0mnumNodesDone\u001b[0m\u001b[1;33m,\u001b[0m\u001b[0mnodeMatchesNO\u001b[0m\u001b[1;33m,\u001b[0m\u001b[0mnTC\u001b[0m\u001b[1;33m,\u001b[0m\u001b[0morigMat\u001b[0m\u001b[1;33m,\u001b[0m\u001b[0mambigStore\u001b[0m\u001b[1;33m)\u001b[0m\u001b[1;33m\u001b[0m\u001b[0m\n\u001b[0m\u001b[0;32m     24\u001b[0m         \u001b[1;31m# if there are resolutions to do then make sure that we add them to the list:\u001b[0m\u001b[1;33m\u001b[0m\u001b[1;33m\u001b[0m\u001b[0m\n\u001b[0;32m     25\u001b[0m         \u001b[0mnodeMatchesNOList\u001b[0m\u001b[1;33m.\u001b[0m\u001b[0mappend\u001b[0m\u001b[1;33m(\u001b[0m\u001b[0mnodeMatchesNONew\u001b[0m\u001b[1;33m)\u001b[0m\u001b[1;33m\u001b[0m\u001b[0m\n",
        "\u001b[1;32m<ipython-input-1453-8d78ee1de9ff>\u001b[0m in \u001b[0;36mgetColToAdd\u001b[1;34m(numNodesDone, nodeMatchesNO, nTC, origMat, ambigStoreIn)\u001b[0m\n\u001b[0;32m     35\u001b[0m                 \u001b[0mnewCol\u001b[0m\u001b[1;33m[\u001b[0m\u001b[0mi\u001b[0m\u001b[1;33m+\u001b[0m\u001b[0mj\u001b[0m\u001b[1;33m]\u001b[0m \u001b[1;33m=\u001b[0m \u001b[0mtempCol\u001b[0m\u001b[1;33m[\u001b[0m\u001b[0msortedTempI\u001b[0m\u001b[1;33m[\u001b[0m\u001b[0mj\u001b[0m\u001b[1;33m]\u001b[0m\u001b[1;33m]\u001b[0m\u001b[1;33m\u001b[0m\u001b[0m\n\u001b[0;32m     36\u001b[0m             \u001b[1;31m# Update the local nodeMatchesNO for later with these assigned values from above:\u001b[0m\u001b[1;33m\u001b[0m\u001b[1;33m\u001b[0m\u001b[0m\n\u001b[1;32m---> 37\u001b[1;33m             \u001b[0mnodeMatchesNO\u001b[0m\u001b[1;33m,\u001b[0m\u001b[0mambigStore\u001b[0m \u001b[1;33m=\u001b[0m \u001b[0mresolveAmbig\u001b[0m\u001b[1;33m(\u001b[0m\u001b[0mresToApp\u001b[0m\u001b[1;33m,\u001b[0m\u001b[0mnodeMatchesNO\u001b[0m\u001b[1;33m,\u001b[0m\u001b[0mambigStoreIn\u001b[0m\u001b[1;33m,\u001b[0m\u001b[0mnumNodesDone\u001b[0m\u001b[1;33m)\u001b[0m\u001b[1;33m\u001b[0m\u001b[0m\n\u001b[0m\u001b[0;32m     38\u001b[0m         \u001b[1;31m# increment i to look at next lot.\u001b[0m\u001b[1;33m\u001b[0m\u001b[1;33m\u001b[0m\u001b[0m\n\u001b[0;32m     39\u001b[0m         \u001b[0mi\u001b[0m \u001b[1;33m+=\u001b[0m \u001b[0mlenToAdd\u001b[0m\u001b[1;33m\u001b[0m\u001b[0m\n",
        "\u001b[1;32m<ipython-input-1457-ebaae3cc01b8>\u001b[0m in \u001b[0;36mresolveAmbig\u001b[1;34m(thisResolution, nodeMatchesNOIn, ambigStore, noDoneNodes)\u001b[0m\n\u001b[0;32m    128\u001b[0m                             \u001b[0maSCheckREALChange\u001b[0m\u001b[1;33m[\u001b[0m\u001b[0mASCi\u001b[0m\u001b[1;33m]\u001b[0m\u001b[1;33m[\u001b[0m\u001b[1;36m1\u001b[0m\u001b[1;33m]\u001b[0m\u001b[1;33m[\u001b[0m\u001b[0mASCj\u001b[0m\u001b[1;33m]\u001b[0m\u001b[1;33m[\u001b[0m\u001b[0mASCk\u001b[0m\u001b[1;33m]\u001b[0m \u001b[1;33m=\u001b[0m \u001b[0mgffMAP\u001b[0m\u001b[1;33m[\u001b[0m\u001b[0maSCheckNoChange\u001b[0m\u001b[1;33m[\u001b[0m\u001b[0mASCi\u001b[0m\u001b[1;33m]\u001b[0m\u001b[1;33m[\u001b[0m\u001b[1;36m1\u001b[0m\u001b[1;33m]\u001b[0m\u001b[1;33m[\u001b[0m\u001b[0mASCj\u001b[0m\u001b[1;33m]\u001b[0m\u001b[1;33m[\u001b[0m\u001b[0mASCk\u001b[0m\u001b[1;33m]\u001b[0m\u001b[1;33m]\u001b[0m\u001b[1;33m\u001b[0m\u001b[0m\n\u001b[0;32m    129\u001b[0m             \u001b[1;31m# last checked aS column:\u001b[0m\u001b[1;33m\u001b[0m\u001b[1;33m\u001b[0m\u001b[0m\n\u001b[1;32m--> 130\u001b[1;33m             \u001b[0mtCPast\u001b[0m \u001b[1;33m=\u001b[0m \u001b[0maSCheckREALChange\u001b[0m\u001b[1;33m[\u001b[0m\u001b[0mthisSorted\u001b[0m\u001b[1;33m[\u001b[0m\u001b[1;36m0\u001b[0m\u001b[1;33m]\u001b[0m\u001b[1;33m]\u001b[0m\u001b[1;33m[\u001b[0m\u001b[1;36m1\u001b[0m\u001b[1;33m]\u001b[0m\u001b[1;33m\u001b[0m\u001b[0m\n\u001b[0m\u001b[0;32m    131\u001b[0m             \u001b[1;31m# this current node list:\u001b[0m\u001b[1;33m\u001b[0m\u001b[1;33m\u001b[0m\u001b[0m\n\u001b[0;32m    132\u001b[0m             \u001b[0mtCThis\u001b[0m \u001b[1;33m=\u001b[0m \u001b[1;33m[\u001b[0m\u001b[0maSCheckREALChange\u001b[0m\u001b[1;33m[\u001b[0m\u001b[0mthisSorted\u001b[0m\u001b[1;33m[\u001b[0m\u001b[1;36m0\u001b[0m\u001b[1;33m]\u001b[0m\u001b[1;33m]\u001b[0m\u001b[1;33m[\u001b[0m\u001b[1;36m0\u001b[0m\u001b[1;33m]\u001b[0m\u001b[1;33m]\u001b[0m\u001b[1;33m\u001b[0m\u001b[0m\n",
        "\u001b[1;31mIndexError\u001b[0m: list index out of range"
       ]
      },
      {
       "output_type": "stream",
       "stream": "stdout",
       "text": [
        "\n"
       ]
      }
     ],
     "prompt_number": 1459
    },
    {
     "cell_type": "code",
     "collapsed": false,
     "input": [
      "h = np.matrix(\"0 1 1 0 0 0 0 0;0 0 0 1 1 1 0 0;0 0 0 0 1 1 1 0;0 0 0 0 0 0 0 1;0 0 0 0 0 0 0 1;0 0 0 0 0 0 0 1;0 0 0 0 0 0 0 1;0 0 0 0 0 0 0 0\")"
     ],
     "language": "python",
     "metadata": {},
     "outputs": [],
     "prompt_number": 1250
    },
    {
     "cell_type": "code",
     "collapsed": false,
     "input": [
      "print h.shape\n",
      "permutateMat(h,2)"
     ],
     "language": "python",
     "metadata": {},
     "outputs": [
      {
       "ename": "NameError",
       "evalue": "global name 'asCheck' is not defined",
       "output_type": "pyerr",
       "traceback": [
        "\u001b[1;31m---------------------------------------------------------------------------\u001b[0m\n\u001b[1;31mNameError\u001b[0m                                 Traceback (most recent call last)",
        "\u001b[1;32m<ipython-input-1251-549d5c374118>\u001b[0m in \u001b[0;36m<module>\u001b[1;34m()\u001b[0m\n\u001b[0;32m      1\u001b[0m \u001b[1;32mprint\u001b[0m \u001b[0mh\u001b[0m\u001b[1;33m.\u001b[0m\u001b[0mshape\u001b[0m\u001b[1;33m\u001b[0m\u001b[0m\n\u001b[1;32m----> 2\u001b[1;33m \u001b[0mpermutateMat\u001b[0m\u001b[1;33m(\u001b[0m\u001b[0mh\u001b[0m\u001b[1;33m,\u001b[0m\u001b[1;36m2\u001b[0m\u001b[1;33m)\u001b[0m\u001b[1;33m\u001b[0m\u001b[0m\n\u001b[0m",
        "\u001b[1;32m<ipython-input-854-5deee260180a>\u001b[0m in \u001b[0;36mpermutateMat\u001b[1;34m(origMat, w)\u001b[0m\n\u001b[0;32m      6\u001b[0m     \u001b[0mrowsToDo\u001b[0m \u001b[1;33m=\u001b[0m \u001b[0mnp\u001b[0m\u001b[1;33m.\u001b[0m\u001b[0mones\u001b[0m\u001b[1;33m(\u001b[0m\u001b[0mn\u001b[0m\u001b[1;33m)\u001b[0m\u001b[1;33m\u001b[0m\u001b[0m\n\u001b[0;32m      7\u001b[0m     \u001b[0mperm\u001b[0m \u001b[1;33m=\u001b[0m \u001b[1;33m-\u001b[0m\u001b[0mnp\u001b[0m\u001b[1;33m.\u001b[0m\u001b[0mones\u001b[0m\u001b[1;33m(\u001b[0m\u001b[0mn\u001b[0m\u001b[1;33m)\u001b[0m\u001b[1;33m\u001b[0m\u001b[0m\n\u001b[1;32m----> 8\u001b[1;33m     \u001b[1;33m[\u001b[0m\u001b[0mfound\u001b[0m\u001b[1;33m,\u001b[0m\u001b[0mfirstOne\u001b[0m\u001b[1;33m]\u001b[0m \u001b[1;33m=\u001b[0m \u001b[0mpermutateRows\u001b[0m\u001b[1;33m(\u001b[0m\u001b[0morigMat\u001b[0m\u001b[1;33m,\u001b[0m\u001b[0mrowsToDo\u001b[0m\u001b[1;33m,\u001b[0m\u001b[0mperm\u001b[0m\u001b[1;33m,\u001b[0m\u001b[0mfound\u001b[0m\u001b[1;33m,\u001b[0m\u001b[0mfirstOne\u001b[0m\u001b[1;33m,\u001b[0m\u001b[0mw\u001b[0m\u001b[1;33m)\u001b[0m\u001b[1;33m\u001b[0m\u001b[0m\n\u001b[0m",
        "\u001b[1;32m<ipython-input-856-11fd06b917f5>\u001b[0m in \u001b[0;36mpermutateRows\u001b[1;34m(origMat, rowsToDo, perm, found, firstOne, w)\u001b[0m\n\u001b[0;32m     17\u001b[0m             \u001b[0mrowsToDo\u001b[0m\u001b[1;33m[\u001b[0m\u001b[0mi\u001b[0m\u001b[1;33m]\u001b[0m \u001b[1;33m=\u001b[0m \u001b[1;36m0\u001b[0m\u001b[1;33m\u001b[0m\u001b[0m\n\u001b[0;32m     18\u001b[0m             \u001b[0mperm\u001b[0m\u001b[1;33m[\u001b[0m\u001b[0mdoneN\u001b[0m\u001b[1;33m]\u001b[0m \u001b[1;33m=\u001b[0m \u001b[0mi\u001b[0m\u001b[1;33m\u001b[0m\u001b[0m\n\u001b[1;32m---> 19\u001b[1;33m             \u001b[1;33m[\u001b[0m\u001b[0mfound\u001b[0m\u001b[1;33m,\u001b[0m\u001b[0mfirstOne\u001b[0m\u001b[1;33m]\u001b[0m \u001b[1;33m=\u001b[0m \u001b[0mpermutateRows\u001b[0m\u001b[1;33m(\u001b[0m\u001b[0morigMat\u001b[0m\u001b[1;33m,\u001b[0m\u001b[0mrowsToDo\u001b[0m\u001b[1;33m,\u001b[0m\u001b[0mperm\u001b[0m\u001b[1;33m,\u001b[0m\u001b[0mfound\u001b[0m\u001b[1;33m,\u001b[0m\u001b[0mfirstOne\u001b[0m\u001b[1;33m,\u001b[0m\u001b[0mw\u001b[0m\u001b[1;33m)\u001b[0m\u001b[1;33m\u001b[0m\u001b[0m\n\u001b[0m\u001b[0;32m     20\u001b[0m             \u001b[0mrowsToDo\u001b[0m\u001b[1;33m[\u001b[0m\u001b[0mi\u001b[0m\u001b[1;33m]\u001b[0m \u001b[1;33m=\u001b[0m \u001b[1;36m1\u001b[0m\u001b[1;33m\u001b[0m\u001b[0m\n\u001b[0;32m     21\u001b[0m     \u001b[1;32mreturn\u001b[0m \u001b[1;33m[\u001b[0m\u001b[0mfound\u001b[0m\u001b[1;33m,\u001b[0m\u001b[0mfirstOne\u001b[0m\u001b[1;33m]\u001b[0m\u001b[1;33m\u001b[0m\u001b[0m\n",
        "\u001b[1;32m<ipython-input-856-11fd06b917f5>\u001b[0m in \u001b[0;36mpermutateRows\u001b[1;34m(origMat, rowsToDo, perm, found, firstOne, w)\u001b[0m\n\u001b[0;32m     17\u001b[0m             \u001b[0mrowsToDo\u001b[0m\u001b[1;33m[\u001b[0m\u001b[0mi\u001b[0m\u001b[1;33m]\u001b[0m \u001b[1;33m=\u001b[0m \u001b[1;36m0\u001b[0m\u001b[1;33m\u001b[0m\u001b[0m\n\u001b[0;32m     18\u001b[0m             \u001b[0mperm\u001b[0m\u001b[1;33m[\u001b[0m\u001b[0mdoneN\u001b[0m\u001b[1;33m]\u001b[0m \u001b[1;33m=\u001b[0m \u001b[0mi\u001b[0m\u001b[1;33m\u001b[0m\u001b[0m\n\u001b[1;32m---> 19\u001b[1;33m             \u001b[1;33m[\u001b[0m\u001b[0mfound\u001b[0m\u001b[1;33m,\u001b[0m\u001b[0mfirstOne\u001b[0m\u001b[1;33m]\u001b[0m \u001b[1;33m=\u001b[0m \u001b[0mpermutateRows\u001b[0m\u001b[1;33m(\u001b[0m\u001b[0morigMat\u001b[0m\u001b[1;33m,\u001b[0m\u001b[0mrowsToDo\u001b[0m\u001b[1;33m,\u001b[0m\u001b[0mperm\u001b[0m\u001b[1;33m,\u001b[0m\u001b[0mfound\u001b[0m\u001b[1;33m,\u001b[0m\u001b[0mfirstOne\u001b[0m\u001b[1;33m,\u001b[0m\u001b[0mw\u001b[0m\u001b[1;33m)\u001b[0m\u001b[1;33m\u001b[0m\u001b[0m\n\u001b[0m\u001b[0;32m     20\u001b[0m             \u001b[0mrowsToDo\u001b[0m\u001b[1;33m[\u001b[0m\u001b[0mi\u001b[0m\u001b[1;33m]\u001b[0m \u001b[1;33m=\u001b[0m \u001b[1;36m1\u001b[0m\u001b[1;33m\u001b[0m\u001b[0m\n\u001b[0;32m     21\u001b[0m     \u001b[1;32mreturn\u001b[0m \u001b[1;33m[\u001b[0m\u001b[0mfound\u001b[0m\u001b[1;33m,\u001b[0m\u001b[0mfirstOne\u001b[0m\u001b[1;33m]\u001b[0m\u001b[1;33m\u001b[0m\u001b[0m\n",
        "\u001b[1;32m<ipython-input-856-11fd06b917f5>\u001b[0m in \u001b[0;36mpermutateRows\u001b[1;34m(origMat, rowsToDo, perm, found, firstOne, w)\u001b[0m\n\u001b[0;32m     17\u001b[0m             \u001b[0mrowsToDo\u001b[0m\u001b[1;33m[\u001b[0m\u001b[0mi\u001b[0m\u001b[1;33m]\u001b[0m \u001b[1;33m=\u001b[0m \u001b[1;36m0\u001b[0m\u001b[1;33m\u001b[0m\u001b[0m\n\u001b[0;32m     18\u001b[0m             \u001b[0mperm\u001b[0m\u001b[1;33m[\u001b[0m\u001b[0mdoneN\u001b[0m\u001b[1;33m]\u001b[0m \u001b[1;33m=\u001b[0m \u001b[0mi\u001b[0m\u001b[1;33m\u001b[0m\u001b[0m\n\u001b[1;32m---> 19\u001b[1;33m             \u001b[1;33m[\u001b[0m\u001b[0mfound\u001b[0m\u001b[1;33m,\u001b[0m\u001b[0mfirstOne\u001b[0m\u001b[1;33m]\u001b[0m \u001b[1;33m=\u001b[0m \u001b[0mpermutateRows\u001b[0m\u001b[1;33m(\u001b[0m\u001b[0morigMat\u001b[0m\u001b[1;33m,\u001b[0m\u001b[0mrowsToDo\u001b[0m\u001b[1;33m,\u001b[0m\u001b[0mperm\u001b[0m\u001b[1;33m,\u001b[0m\u001b[0mfound\u001b[0m\u001b[1;33m,\u001b[0m\u001b[0mfirstOne\u001b[0m\u001b[1;33m,\u001b[0m\u001b[0mw\u001b[0m\u001b[1;33m)\u001b[0m\u001b[1;33m\u001b[0m\u001b[0m\n\u001b[0m\u001b[0;32m     20\u001b[0m             \u001b[0mrowsToDo\u001b[0m\u001b[1;33m[\u001b[0m\u001b[0mi\u001b[0m\u001b[1;33m]\u001b[0m \u001b[1;33m=\u001b[0m \u001b[1;36m1\u001b[0m\u001b[1;33m\u001b[0m\u001b[0m\n\u001b[0;32m     21\u001b[0m     \u001b[1;32mreturn\u001b[0m \u001b[1;33m[\u001b[0m\u001b[0mfound\u001b[0m\u001b[1;33m,\u001b[0m\u001b[0mfirstOne\u001b[0m\u001b[1;33m]\u001b[0m\u001b[1;33m\u001b[0m\u001b[0m\n",
        "\u001b[1;32m<ipython-input-856-11fd06b917f5>\u001b[0m in \u001b[0;36mpermutateRows\u001b[1;34m(origMat, rowsToDo, perm, found, firstOne, w)\u001b[0m\n\u001b[0;32m     17\u001b[0m             \u001b[0mrowsToDo\u001b[0m\u001b[1;33m[\u001b[0m\u001b[0mi\u001b[0m\u001b[1;33m]\u001b[0m \u001b[1;33m=\u001b[0m \u001b[1;36m0\u001b[0m\u001b[1;33m\u001b[0m\u001b[0m\n\u001b[0;32m     18\u001b[0m             \u001b[0mperm\u001b[0m\u001b[1;33m[\u001b[0m\u001b[0mdoneN\u001b[0m\u001b[1;33m]\u001b[0m \u001b[1;33m=\u001b[0m \u001b[0mi\u001b[0m\u001b[1;33m\u001b[0m\u001b[0m\n\u001b[1;32m---> 19\u001b[1;33m             \u001b[1;33m[\u001b[0m\u001b[0mfound\u001b[0m\u001b[1;33m,\u001b[0m\u001b[0mfirstOne\u001b[0m\u001b[1;33m]\u001b[0m \u001b[1;33m=\u001b[0m \u001b[0mpermutateRows\u001b[0m\u001b[1;33m(\u001b[0m\u001b[0morigMat\u001b[0m\u001b[1;33m,\u001b[0m\u001b[0mrowsToDo\u001b[0m\u001b[1;33m,\u001b[0m\u001b[0mperm\u001b[0m\u001b[1;33m,\u001b[0m\u001b[0mfound\u001b[0m\u001b[1;33m,\u001b[0m\u001b[0mfirstOne\u001b[0m\u001b[1;33m,\u001b[0m\u001b[0mw\u001b[0m\u001b[1;33m)\u001b[0m\u001b[1;33m\u001b[0m\u001b[0m\n\u001b[0m\u001b[0;32m     20\u001b[0m             \u001b[0mrowsToDo\u001b[0m\u001b[1;33m[\u001b[0m\u001b[0mi\u001b[0m\u001b[1;33m]\u001b[0m \u001b[1;33m=\u001b[0m \u001b[1;36m1\u001b[0m\u001b[1;33m\u001b[0m\u001b[0m\n\u001b[0;32m     21\u001b[0m     \u001b[1;32mreturn\u001b[0m \u001b[1;33m[\u001b[0m\u001b[0mfound\u001b[0m\u001b[1;33m,\u001b[0m\u001b[0mfirstOne\u001b[0m\u001b[1;33m]\u001b[0m\u001b[1;33m\u001b[0m\u001b[0m\n",
        "\u001b[1;32m<ipython-input-856-11fd06b917f5>\u001b[0m in \u001b[0;36mpermutateRows\u001b[1;34m(origMat, rowsToDo, perm, found, firstOne, w)\u001b[0m\n\u001b[0;32m     17\u001b[0m             \u001b[0mrowsToDo\u001b[0m\u001b[1;33m[\u001b[0m\u001b[0mi\u001b[0m\u001b[1;33m]\u001b[0m \u001b[1;33m=\u001b[0m \u001b[1;36m0\u001b[0m\u001b[1;33m\u001b[0m\u001b[0m\n\u001b[0;32m     18\u001b[0m             \u001b[0mperm\u001b[0m\u001b[1;33m[\u001b[0m\u001b[0mdoneN\u001b[0m\u001b[1;33m]\u001b[0m \u001b[1;33m=\u001b[0m \u001b[0mi\u001b[0m\u001b[1;33m\u001b[0m\u001b[0m\n\u001b[1;32m---> 19\u001b[1;33m             \u001b[1;33m[\u001b[0m\u001b[0mfound\u001b[0m\u001b[1;33m,\u001b[0m\u001b[0mfirstOne\u001b[0m\u001b[1;33m]\u001b[0m \u001b[1;33m=\u001b[0m \u001b[0mpermutateRows\u001b[0m\u001b[1;33m(\u001b[0m\u001b[0morigMat\u001b[0m\u001b[1;33m,\u001b[0m\u001b[0mrowsToDo\u001b[0m\u001b[1;33m,\u001b[0m\u001b[0mperm\u001b[0m\u001b[1;33m,\u001b[0m\u001b[0mfound\u001b[0m\u001b[1;33m,\u001b[0m\u001b[0mfirstOne\u001b[0m\u001b[1;33m,\u001b[0m\u001b[0mw\u001b[0m\u001b[1;33m)\u001b[0m\u001b[1;33m\u001b[0m\u001b[0m\n\u001b[0m\u001b[0;32m     20\u001b[0m             \u001b[0mrowsToDo\u001b[0m\u001b[1;33m[\u001b[0m\u001b[0mi\u001b[0m\u001b[1;33m]\u001b[0m \u001b[1;33m=\u001b[0m \u001b[1;36m1\u001b[0m\u001b[1;33m\u001b[0m\u001b[0m\n\u001b[0;32m     21\u001b[0m     \u001b[1;32mreturn\u001b[0m \u001b[1;33m[\u001b[0m\u001b[0mfound\u001b[0m\u001b[1;33m,\u001b[0m\u001b[0mfirstOne\u001b[0m\u001b[1;33m]\u001b[0m\u001b[1;33m\u001b[0m\u001b[0m\n",
        "\u001b[1;32m<ipython-input-856-11fd06b917f5>\u001b[0m in \u001b[0;36mpermutateRows\u001b[1;34m(origMat, rowsToDo, perm, found, firstOne, w)\u001b[0m\n\u001b[0;32m     17\u001b[0m             \u001b[0mrowsToDo\u001b[0m\u001b[1;33m[\u001b[0m\u001b[0mi\u001b[0m\u001b[1;33m]\u001b[0m \u001b[1;33m=\u001b[0m \u001b[1;36m0\u001b[0m\u001b[1;33m\u001b[0m\u001b[0m\n\u001b[0;32m     18\u001b[0m             \u001b[0mperm\u001b[0m\u001b[1;33m[\u001b[0m\u001b[0mdoneN\u001b[0m\u001b[1;33m]\u001b[0m \u001b[1;33m=\u001b[0m \u001b[0mi\u001b[0m\u001b[1;33m\u001b[0m\u001b[0m\n\u001b[1;32m---> 19\u001b[1;33m             \u001b[1;33m[\u001b[0m\u001b[0mfound\u001b[0m\u001b[1;33m,\u001b[0m\u001b[0mfirstOne\u001b[0m\u001b[1;33m]\u001b[0m \u001b[1;33m=\u001b[0m \u001b[0mpermutateRows\u001b[0m\u001b[1;33m(\u001b[0m\u001b[0morigMat\u001b[0m\u001b[1;33m,\u001b[0m\u001b[0mrowsToDo\u001b[0m\u001b[1;33m,\u001b[0m\u001b[0mperm\u001b[0m\u001b[1;33m,\u001b[0m\u001b[0mfound\u001b[0m\u001b[1;33m,\u001b[0m\u001b[0mfirstOne\u001b[0m\u001b[1;33m,\u001b[0m\u001b[0mw\u001b[0m\u001b[1;33m)\u001b[0m\u001b[1;33m\u001b[0m\u001b[0m\n\u001b[0m\u001b[0;32m     20\u001b[0m             \u001b[0mrowsToDo\u001b[0m\u001b[1;33m[\u001b[0m\u001b[0mi\u001b[0m\u001b[1;33m]\u001b[0m \u001b[1;33m=\u001b[0m \u001b[1;36m1\u001b[0m\u001b[1;33m\u001b[0m\u001b[0m\n\u001b[0;32m     21\u001b[0m     \u001b[1;32mreturn\u001b[0m \u001b[1;33m[\u001b[0m\u001b[0mfound\u001b[0m\u001b[1;33m,\u001b[0m\u001b[0mfirstOne\u001b[0m\u001b[1;33m]\u001b[0m\u001b[1;33m\u001b[0m\u001b[0m\n",
        "\u001b[1;32m<ipython-input-856-11fd06b917f5>\u001b[0m in \u001b[0;36mpermutateRows\u001b[1;34m(origMat, rowsToDo, perm, found, firstOne, w)\u001b[0m\n\u001b[0;32m     17\u001b[0m             \u001b[0mrowsToDo\u001b[0m\u001b[1;33m[\u001b[0m\u001b[0mi\u001b[0m\u001b[1;33m]\u001b[0m \u001b[1;33m=\u001b[0m \u001b[1;36m0\u001b[0m\u001b[1;33m\u001b[0m\u001b[0m\n\u001b[0;32m     18\u001b[0m             \u001b[0mperm\u001b[0m\u001b[1;33m[\u001b[0m\u001b[0mdoneN\u001b[0m\u001b[1;33m]\u001b[0m \u001b[1;33m=\u001b[0m \u001b[0mi\u001b[0m\u001b[1;33m\u001b[0m\u001b[0m\n\u001b[1;32m---> 19\u001b[1;33m             \u001b[1;33m[\u001b[0m\u001b[0mfound\u001b[0m\u001b[1;33m,\u001b[0m\u001b[0mfirstOne\u001b[0m\u001b[1;33m]\u001b[0m \u001b[1;33m=\u001b[0m \u001b[0mpermutateRows\u001b[0m\u001b[1;33m(\u001b[0m\u001b[0morigMat\u001b[0m\u001b[1;33m,\u001b[0m\u001b[0mrowsToDo\u001b[0m\u001b[1;33m,\u001b[0m\u001b[0mperm\u001b[0m\u001b[1;33m,\u001b[0m\u001b[0mfound\u001b[0m\u001b[1;33m,\u001b[0m\u001b[0mfirstOne\u001b[0m\u001b[1;33m,\u001b[0m\u001b[0mw\u001b[0m\u001b[1;33m)\u001b[0m\u001b[1;33m\u001b[0m\u001b[0m\n\u001b[0m\u001b[0;32m     20\u001b[0m             \u001b[0mrowsToDo\u001b[0m\u001b[1;33m[\u001b[0m\u001b[0mi\u001b[0m\u001b[1;33m]\u001b[0m \u001b[1;33m=\u001b[0m \u001b[1;36m1\u001b[0m\u001b[1;33m\u001b[0m\u001b[0m\n\u001b[0;32m     21\u001b[0m     \u001b[1;32mreturn\u001b[0m \u001b[1;33m[\u001b[0m\u001b[0mfound\u001b[0m\u001b[1;33m,\u001b[0m\u001b[0mfirstOne\u001b[0m\u001b[1;33m]\u001b[0m\u001b[1;33m\u001b[0m\u001b[0m\n",
        "\u001b[1;32m<ipython-input-856-11fd06b917f5>\u001b[0m in \u001b[0;36mpermutateRows\u001b[1;34m(origMat, rowsToDo, perm, found, firstOne, w)\u001b[0m\n\u001b[0;32m     17\u001b[0m             \u001b[0mrowsToDo\u001b[0m\u001b[1;33m[\u001b[0m\u001b[0mi\u001b[0m\u001b[1;33m]\u001b[0m \u001b[1;33m=\u001b[0m \u001b[1;36m0\u001b[0m\u001b[1;33m\u001b[0m\u001b[0m\n\u001b[0;32m     18\u001b[0m             \u001b[0mperm\u001b[0m\u001b[1;33m[\u001b[0m\u001b[0mdoneN\u001b[0m\u001b[1;33m]\u001b[0m \u001b[1;33m=\u001b[0m \u001b[0mi\u001b[0m\u001b[1;33m\u001b[0m\u001b[0m\n\u001b[1;32m---> 19\u001b[1;33m             \u001b[1;33m[\u001b[0m\u001b[0mfound\u001b[0m\u001b[1;33m,\u001b[0m\u001b[0mfirstOne\u001b[0m\u001b[1;33m]\u001b[0m \u001b[1;33m=\u001b[0m \u001b[0mpermutateRows\u001b[0m\u001b[1;33m(\u001b[0m\u001b[0morigMat\u001b[0m\u001b[1;33m,\u001b[0m\u001b[0mrowsToDo\u001b[0m\u001b[1;33m,\u001b[0m\u001b[0mperm\u001b[0m\u001b[1;33m,\u001b[0m\u001b[0mfound\u001b[0m\u001b[1;33m,\u001b[0m\u001b[0mfirstOne\u001b[0m\u001b[1;33m,\u001b[0m\u001b[0mw\u001b[0m\u001b[1;33m)\u001b[0m\u001b[1;33m\u001b[0m\u001b[0m\n\u001b[0m\u001b[0;32m     20\u001b[0m             \u001b[0mrowsToDo\u001b[0m\u001b[1;33m[\u001b[0m\u001b[0mi\u001b[0m\u001b[1;33m]\u001b[0m \u001b[1;33m=\u001b[0m \u001b[1;36m1\u001b[0m\u001b[1;33m\u001b[0m\u001b[0m\n\u001b[0;32m     21\u001b[0m     \u001b[1;32mreturn\u001b[0m \u001b[1;33m[\u001b[0m\u001b[0mfound\u001b[0m\u001b[1;33m,\u001b[0m\u001b[0mfirstOne\u001b[0m\u001b[1;33m]\u001b[0m\u001b[1;33m\u001b[0m\u001b[0m\n",
        "\u001b[1;32m<ipython-input-856-11fd06b917f5>\u001b[0m in \u001b[0;36mpermutateRows\u001b[1;34m(origMat, rowsToDo, perm, found, firstOne, w)\u001b[0m\n\u001b[0;32m      9\u001b[0m                 \u001b[0mnewMat\u001b[0m\u001b[1;33m[\u001b[0m\u001b[0mi\u001b[0m\u001b[1;33m,\u001b[0m\u001b[0mj\u001b[0m\u001b[1;33m]\u001b[0m\u001b[1;33m=\u001b[0m\u001b[0morigMat\u001b[0m\u001b[1;33m[\u001b[0m\u001b[0mperm\u001b[0m\u001b[1;33m[\u001b[0m\u001b[0mi\u001b[0m\u001b[1;33m]\u001b[0m\u001b[1;33m,\u001b[0m\u001b[0mperm\u001b[0m\u001b[1;33m[\u001b[0m\u001b[0mj\u001b[0m\u001b[1;33m]\u001b[0m\u001b[1;33m]\u001b[0m\u001b[1;33m\u001b[0m\u001b[0m\n\u001b[0;32m     10\u001b[0m         \u001b[1;31m#print newMat\u001b[0m\u001b[1;33m\u001b[0m\u001b[1;33m\u001b[0m\u001b[0m\n\u001b[1;32m---> 11\u001b[1;33m         \u001b[1;33m[\u001b[0m\u001b[0mfound\u001b[0m\u001b[1;33m,\u001b[0m\u001b[0mfirstOne\u001b[0m\u001b[1;33m]\u001b[0m \u001b[1;33m=\u001b[0m \u001b[0mcheckMat\u001b[0m\u001b[1;33m(\u001b[0m\u001b[0mnewMat\u001b[0m\u001b[1;33m,\u001b[0m\u001b[0morigMat\u001b[0m\u001b[1;33m,\u001b[0m\u001b[0mperm\u001b[0m\u001b[1;33m,\u001b[0m\u001b[0mfound\u001b[0m\u001b[1;33m,\u001b[0m\u001b[0mfirstOne\u001b[0m\u001b[1;33m,\u001b[0m\u001b[0mw\u001b[0m\u001b[1;33m)\u001b[0m\u001b[1;33m\u001b[0m\u001b[0m\n\u001b[0m\u001b[0;32m     12\u001b[0m     \u001b[1;32melse\u001b[0m\u001b[1;33m:\u001b[0m\u001b[1;33m\u001b[0m\u001b[0m\n\u001b[0;32m     13\u001b[0m         \u001b[0mleftR\u001b[0m \u001b[1;33m=\u001b[0m \u001b[0mnp\u001b[0m\u001b[1;33m.\u001b[0m\u001b[0mwhere\u001b[0m\u001b[1;33m(\u001b[0m\u001b[0mrowsToDo\u001b[0m\u001b[1;33m==\u001b[0m\u001b[1;36m1\u001b[0m\u001b[1;33m)\u001b[0m\u001b[1;33m[\u001b[0m\u001b[1;36m0\u001b[0m\u001b[1;33m]\u001b[0m\u001b[1;33m\u001b[0m\u001b[0m\n",
        "\u001b[1;32m<ipython-input-1242-26985a8bf25d>\u001b[0m in \u001b[0;36mcheckMat\u001b[1;34m(newMat, origMat, perm, found, firstOne, w)\u001b[0m\n\u001b[0;32m     10\u001b[0m         \u001b[0ma\u001b[0m \u001b[1;33m=\u001b[0m \u001b[0mdatetime\u001b[0m\u001b[1;33m.\u001b[0m\u001b[0mdatetime\u001b[0m\u001b[1;33m.\u001b[0m\u001b[0mnow\u001b[0m\u001b[1;33m(\u001b[0m\u001b[1;33m)\u001b[0m\u001b[1;33m\u001b[0m\u001b[0m\n\u001b[0;32m     11\u001b[0m         \u001b[1;32mtry\u001b[0m\u001b[1;33m:\u001b[0m\u001b[1;33m\u001b[0m\u001b[0m\n\u001b[1;32m---> 12\u001b[1;33m             \u001b[0mreOrder\u001b[0m \u001b[1;33m=\u001b[0m \u001b[0mreorderMat\u001b[0m\u001b[1;33m(\u001b[0m\u001b[0mnewMat\u001b[0m\u001b[1;33m,\u001b[0m\u001b[0mw\u001b[0m\u001b[1;33m)\u001b[0m\u001b[1;33m\u001b[0m\u001b[0m\n\u001b[0m\u001b[0;32m     13\u001b[0m         \u001b[1;32mexcept\u001b[0m\u001b[1;33m:\u001b[0m\u001b[1;33m\u001b[0m\u001b[0m\n\u001b[0;32m     14\u001b[0m             \u001b[1;32mprint\u001b[0m \u001b[0mnewMat\u001b[0m\u001b[1;33m\u001b[0m\u001b[0m\n",
        "\u001b[1;32m<ipython-input-1237-8d707b70ae0a>\u001b[0m in \u001b[0;36mreorderMat\u001b[1;34m(inMat, w)\u001b[0m\n\u001b[0;32m     40\u001b[0m             \u001b[1;31m# maxesInfo - [[old ids of node(s) that produce maximum output, the new mapping for this to work]]\u001b[0m\u001b[1;33m\u001b[0m\u001b[1;33m\u001b[0m\u001b[0m\n\u001b[0;32m     41\u001b[0m             \u001b[1;31m# colToAdd - the column of length number of connected nodes that can be added to the matrix now.\u001b[0m\u001b[1;33m\u001b[0m\u001b[1;33m\u001b[0m\u001b[0m\n\u001b[1;32m---> 42\u001b[1;33m             \u001b[0mmaxesInfo\u001b[0m \u001b[1;33m=\u001b[0m \u001b[0mgetMaxes\u001b[0m\u001b[1;33m(\u001b[0m\u001b[0minMat\u001b[0m\u001b[1;33m,\u001b[0m\u001b[0munConnNodes\u001b[0m\u001b[1;33m,\u001b[0m\u001b[0mnodesDoneNum\u001b[0m\u001b[1;33m,\u001b[0m\u001b[0mnodeMatchesNO\u001b[0m\u001b[1;33m,\u001b[0m\u001b[0mwMAT\u001b[0m\u001b[1;33m,\u001b[0m\u001b[0mambigStore\u001b[0m\u001b[1;33m)\u001b[0m\u001b[1;33m\u001b[0m\u001b[0m\n\u001b[0m\u001b[0;32m     43\u001b[0m             \u001b[1;31m# get the new mapping...\u001b[0m\u001b[1;33m\u001b[0m\u001b[1;33m\u001b[0m\u001b[0m\n\u001b[0;32m     44\u001b[0m             \u001b[0mambigStore\u001b[0m \u001b[1;33m=\u001b[0m \u001b[0mambigStore\u001b[0m\u001b[1;33m+\u001b[0m\u001b[0mmaxesInfo\u001b[0m\u001b[1;33m\u001b[0m\u001b[0m\n",
        "\u001b[1;32m<ipython-input-1150-29696bb69733>\u001b[0m in \u001b[0;36mgetMaxes\u001b[1;34m(origMat, nodesToCons, numNodesDone, nodeMatchesNO, wMAT, ambigStore)\u001b[0m\n\u001b[0;32m     21\u001b[0m         \u001b[0mnTC\u001b[0m \u001b[1;33m=\u001b[0m \u001b[0mnodesToCons\u001b[0m\u001b[1;33m[\u001b[0m\u001b[0mk\u001b[0m\u001b[1;33m]\u001b[0m\u001b[1;33m\u001b[0m\u001b[0m\n\u001b[0;32m     22\u001b[0m         \u001b[1;31m# get the maximised column if we were to add this new node and the resolutions that would be required for it to work.\u001b[0m\u001b[1;33m\u001b[0m\u001b[1;33m\u001b[0m\u001b[0m\n\u001b[1;32m---> 23\u001b[1;33m         \u001b[0mnewCol\u001b[0m\u001b[1;33m,\u001b[0m\u001b[0mnodeMatchesNONew\u001b[0m \u001b[1;33m=\u001b[0m \u001b[0mgetColToAdd\u001b[0m\u001b[1;33m(\u001b[0m\u001b[0mnumNodesDone\u001b[0m\u001b[1;33m,\u001b[0m\u001b[0mnodeMatchesNO\u001b[0m\u001b[1;33m,\u001b[0m\u001b[0mnTC\u001b[0m\u001b[1;33m,\u001b[0m\u001b[0morigMat\u001b[0m\u001b[1;33m,\u001b[0m\u001b[0mambigStore\u001b[0m\u001b[1;33m)\u001b[0m\u001b[1;33m\u001b[0m\u001b[0m\n\u001b[0m\u001b[0;32m     24\u001b[0m         \u001b[1;31m# if there are resolutions to do then make sure that we add them to the list:\u001b[0m\u001b[1;33m\u001b[0m\u001b[1;33m\u001b[0m\u001b[0m\n\u001b[0;32m     25\u001b[0m         \u001b[0mnodeMatchesNOList\u001b[0m\u001b[1;33m.\u001b[0m\u001b[0mappend\u001b[0m\u001b[1;33m(\u001b[0m\u001b[0mnodeMatchesNONew\u001b[0m\u001b[1;33m)\u001b[0m\u001b[1;33m\u001b[0m\u001b[0m\n",
        "\u001b[1;32m<ipython-input-1148-787b85009203>\u001b[0m in \u001b[0;36mgetColToAdd\u001b[1;34m(numNodesDone, nodeMatchesNO, nTC, origMat, ambigStoreIn)\u001b[0m\n\u001b[0;32m     35\u001b[0m                 \u001b[0mnewCol\u001b[0m\u001b[1;33m[\u001b[0m\u001b[0mi\u001b[0m\u001b[1;33m+\u001b[0m\u001b[0mj\u001b[0m\u001b[1;33m]\u001b[0m \u001b[1;33m=\u001b[0m \u001b[0mtempCol\u001b[0m\u001b[1;33m[\u001b[0m\u001b[0msortedTempI\u001b[0m\u001b[1;33m[\u001b[0m\u001b[0mj\u001b[0m\u001b[1;33m]\u001b[0m\u001b[1;33m]\u001b[0m\u001b[1;33m\u001b[0m\u001b[0m\n\u001b[0;32m     36\u001b[0m             \u001b[1;31m# Update the local nodeMatchesNO for later with these assigned values from above:\u001b[0m\u001b[1;33m\u001b[0m\u001b[1;33m\u001b[0m\u001b[0m\n\u001b[1;32m---> 37\u001b[1;33m             \u001b[0mnodeMatchesNO\u001b[0m\u001b[1;33m,\u001b[0m\u001b[0mambigStore\u001b[0m \u001b[1;33m=\u001b[0m \u001b[0mresolveAmbig\u001b[0m\u001b[1;33m(\u001b[0m\u001b[0mresToApp\u001b[0m\u001b[1;33m,\u001b[0m\u001b[0mnodeMatchesNO\u001b[0m\u001b[1;33m,\u001b[0m\u001b[0mambigStoreIn\u001b[0m\u001b[1;33m,\u001b[0m\u001b[0mnumNodesDone\u001b[0m\u001b[1;33m)\u001b[0m\u001b[1;33m\u001b[0m\u001b[0m\n\u001b[0m\u001b[0;32m     38\u001b[0m         \u001b[1;31m# increment i to look at next lot.\u001b[0m\u001b[1;33m\u001b[0m\u001b[1;33m\u001b[0m\u001b[0m\n\u001b[0;32m     39\u001b[0m         \u001b[0mi\u001b[0m \u001b[1;33m+=\u001b[0m \u001b[0mlenToAdd\u001b[0m\u001b[1;33m\u001b[0m\u001b[0m\n",
        "\u001b[1;32m<ipython-input-1194-d01864a7c292>\u001b[0m in \u001b[0;36mresolveAmbig\u001b[1;34m(thisResolution, nodeMatchesNOIn, ambigStore, noDoneNodes)\u001b[0m\n\u001b[0;32m     82\u001b[0m             \u001b[0maSCheckNoChange\u001b[0m \u001b[1;33m=\u001b[0m \u001b[0mnp\u001b[0m\u001b[1;33m.\u001b[0m\u001b[0mcopy\u001b[0m\u001b[1;33m(\u001b[0m\u001b[0maSCheck\u001b[0m\u001b[1;33m)\u001b[0m\u001b[1;33m\u001b[0m\u001b[0m\n\u001b[0;32m     83\u001b[0m             \u001b[1;31m# update the old prior by going through aSCheck and changing old to new:\u001b[0m\u001b[1;33m\u001b[0m\u001b[1;33m\u001b[0m\u001b[0m\n\u001b[1;32m---> 84\u001b[1;33m             \u001b[1;32mfor\u001b[0m \u001b[0mtC\u001b[0m \u001b[1;32min\u001b[0m \u001b[0masCheck\u001b[0m\u001b[1;33m:\u001b[0m\u001b[1;33m\u001b[0m\u001b[0m\n\u001b[0m\u001b[0;32m     85\u001b[0m                 \u001b[1;31m# go through each entry in the mapping in this ambiguous Store entry:\u001b[0m\u001b[1;33m\u001b[0m\u001b[1;33m\u001b[0m\u001b[0m\n\u001b[0;32m     86\u001b[0m                 \u001b[1;32mfor\u001b[0m \u001b[0mtCm\u001b[0m \u001b[1;32min\u001b[0m \u001b[0mtC\u001b[0m\u001b[1;33m[\u001b[0m\u001b[1;36m1\u001b[0m\u001b[1;33m]\u001b[0m\u001b[1;33m:\u001b[0m\u001b[1;33m\u001b[0m\u001b[0m\n",
        "\u001b[1;31mNameError\u001b[0m: global name 'asCheck' is not defined"
       ]
      },
      {
       "output_type": "stream",
       "stream": "stdout",
       "text": [
        "(8, 8)\n",
        "[[ 0.  1.  1.  0.  0.  0.  0.  0.]\n",
        " [ 0.  0.  0.  1.  1.  0.  1.  0.]\n",
        " [ 0.  0.  0.  0.  1.  1.  1.  0.]\n",
        " [ 0.  0.  0.  0.  0.  0.  0.  1.]\n",
        " [ 0.  0.  0.  0.  0.  0.  0.  1.]\n",
        " [ 0.  0.  0.  0.  0.  0.  0.  1.]\n",
        " [ 0.  0.  0.  0.  0.  0.  0.  1.]\n",
        " [ 0.  0.  0.  0.  0.  0.  0.  0.]]\n"
       ]
      }
     ],
     "prompt_number": 1251
    },
    {
     "cell_type": "code",
     "collapsed": false,
     "input": [
      "for i in range(200):\n",
      "    if i%100 == 0:\n",
      "        print i\n",
      "    permutateMat(genRandMat(8,3))"
     ],
     "language": "python",
     "metadata": {},
     "outputs": [
      {
       "output_type": "stream",
       "stream": "stdout",
       "text": [
        "0\n",
        "[[ 0.  1.  1.  1.  2.  2.  0.]\n",
        " [ 0.  0.  0.  2.  1.  0.  2.]\n",
        " [ 0.  0.  0.  1.  1.  1.  2.]\n",
        " [ 0.  0.  0.  0.  1.  1.  0.]\n",
        " [ 0.  0.  0.  0.  0.  0.  1.]\n",
        " [ 0.  0.  0.  0.  0.  0.  1.]\n",
        " [ 0.  0.  0.  0.  0.  0.  0.]]\n",
        "matched"
       ]
      },
      {
       "output_type": "stream",
       "stream": "stdout",
       "text": [
        "\n",
        "matched\n",
        "1"
       ]
      },
      {
       "output_type": "stream",
       "stream": "stdout",
       "text": [
        "\n",
        "2"
       ]
      },
      {
       "output_type": "stream",
       "stream": "stdout",
       "text": [
        "\n",
        "[[ 0.  1.  2.  0.  1.  1.  2.]\n",
        " [ 0.  0.  1.  1.  1.  0.  0.]\n",
        " [ 0.  0.  0.  2.  2.  0.  1.]\n",
        " [ 0.  0.  0.  0.  1.  1.  2.]\n",
        " [ 0.  0.  0.  0.  0.  0.  2.]\n",
        " [ 0.  0.  0.  0.  0.  0.  2.]\n",
        " [ 0.  0.  0.  0.  0.  0.  0.]]\n",
        "3"
       ]
      },
      {
       "output_type": "stream",
       "stream": "stdout",
       "text": [
        "\n",
        "[[ 0.  2.  0.  0.  0.  2.  1.]\n",
        " [ 0.  0.  1.  1.  1.  1.  1.]\n",
        " [ 0.  0.  0.  0.  2.  1.  1.]\n",
        " [ 0.  0.  0.  0.  1.  2.  0.]\n",
        " [ 0.  0.  0.  0.  0.  2.  2.]\n",
        " [ 0.  0.  0.  0.  0.  0.  1.]\n",
        " [ 0.  0.  0.  0.  0.  0.  0.]]\n",
        "4"
       ]
      },
      {
       "output_type": "stream",
       "stream": "stdout",
       "text": [
        "\n",
        "[[ 0.  1.  1.  2.  0.  0.  2.]\n",
        " [ 0.  0.  1.  0.  2.  1.  0.]\n",
        " [ 0.  0.  0.  2.  0.  2.  2.]\n",
        " [ 0.  0.  0.  0.  1.  0.  1.]\n",
        " [ 0.  0.  0.  0.  0.  0.  1.]\n",
        " [ 0.  0.  0.  0.  0.  0.  2.]\n",
        " [ 0.  0.  0.  0.  0.  0.  0.]]\n",
        "matched\n",
        "5"
       ]
      },
      {
       "output_type": "stream",
       "stream": "stdout",
       "text": [
        "\n",
        "[[ 0.  1.  1.  2.  2.  0.  0.]\n",
        " [ 0.  0.  0.  2.  2.  2.  0.]\n",
        " [ 0.  0.  0.  0.  0.  2.  2.]\n",
        " [ 0.  0.  0.  0.  1.  1.  0.]\n",
        " [ 0.  0.  0.  0.  0.  0.  1.]\n",
        " [ 0.  0.  0.  0.  0.  0.  2.]\n",
        " [ 0.  0.  0.  0.  0.  0.  0.]]\n",
        "matched\n",
        "matched\n",
        "matched\n",
        "matched"
       ]
      },
      {
       "output_type": "stream",
       "stream": "stdout",
       "text": [
        "\n",
        "matched\n",
        "6"
       ]
      },
      {
       "output_type": "stream",
       "stream": "stdout",
       "text": [
        "\n",
        "[[ 0.  2.  1.  2.  1.  0.  2.]\n",
        " [ 0.  0.  1.  1.  0.  1.  0.]\n",
        " [ 0.  0.  0.  2.  0.  2.  1.]\n",
        " [ 0.  0.  0.  0.  0.  2.  0.]\n",
        " [ 0.  0.  0.  0.  0.  2.  0.]\n",
        " [ 0.  0.  0.  0.  0.  0.  2.]\n",
        " [ 0.  0.  0.  0.  0.  0.  0.]]\n",
        "matched\n",
        "matched"
       ]
      },
      {
       "output_type": "stream",
       "stream": "stdout",
       "text": [
        "\n",
        "7"
       ]
      },
      {
       "output_type": "stream",
       "stream": "stdout",
       "text": [
        "\n",
        "[[ 0.  1.  1.  1.  2.  0.  1.]\n",
        " [ 0.  0.  0.  2.  0.  2.  2.]\n",
        " [ 0.  0.  0.  0.  0.  0.  1.]\n",
        " [ 0.  0.  0.  0.  2.  2.  2.]\n",
        " [ 0.  0.  0.  0.  0.  2.  2.]\n",
        " [ 0.  0.  0.  0.  0.  0.  1.]\n",
        " [ 0.  0.  0.  0.  0.  0.  0.]]\n",
        "matched\n",
        "matched\n",
        "matched"
       ]
      },
      {
       "output_type": "stream",
       "stream": "stdout",
       "text": [
        "\n",
        "8"
       ]
      },
      {
       "output_type": "stream",
       "stream": "stdout",
       "text": [
        "\n",
        "[[ 0.  1.  1.  0.  0.  0.  1.]\n",
        " [ 0.  0.  2.  2.  2.  1.  0.]\n",
        " [ 0.  0.  0.  1.  1.  2.  0.]\n",
        " [ 0.  0.  0.  0.  2.  2.  0.]\n",
        " [ 0.  0.  0.  0.  0.  0.  1.]\n",
        " [ 0.  0.  0.  0.  0.  0.  2.]\n",
        " [ 0.  0.  0.  0.  0.  0.  0.]]\n",
        "9"
       ]
      },
      {
       "output_type": "stream",
       "stream": "stdout",
       "text": [
        "\n",
        "[[ 0.  2.  1.  0.  1.  1.  0.]\n",
        " [ 0.  0.  0.  0.  2.  0.  1.]\n",
        " [ 0.  0.  0.  1.  2.  2.  2.]\n",
        " [ 0.  0.  0.  0.  2.  2.  1.]\n",
        " [ 0.  0.  0.  0.  0.  0.  1.]\n",
        " [ 0.  0.  0.  0.  0.  0.  2.]\n",
        " [ 0.  0.  0.  0.  0.  0.  0.]]\n",
        "matched\n",
        "matched\n",
        "matched\n",
        "matched"
       ]
      },
      {
       "output_type": "stream",
       "stream": "stdout",
       "text": [
        "\n",
        "matched\n",
        "10"
       ]
      },
      {
       "output_type": "stream",
       "stream": "stdout",
       "text": [
        "\n",
        "11"
       ]
      },
      {
       "output_type": "stream",
       "stream": "stdout",
       "text": [
        "\n",
        "[[ 0.  1.  1.  1.  1.  1.  0.]\n",
        " [ 0.  0.  0.  2.  2.  2.  0.]\n",
        " [ 0.  0.  0.  2.  1.  1.  0.]\n",
        " [ 0.  0.  0.  0.  1.  1.  1.]\n",
        " [ 0.  0.  0.  0.  0.  2.  2.]\n",
        " [ 0.  0.  0.  0.  0.  0.  2.]\n",
        " [ 0.  0.  0.  0.  0.  0.  0.]]"
       ]
      },
      {
       "output_type": "stream",
       "stream": "stdout",
       "text": [
        "\n",
        "12"
       ]
      },
      {
       "output_type": "stream",
       "stream": "stdout",
       "text": [
        "\n",
        "[[ 0.  2.  1.  2.  1.  2.  2.]\n",
        " [ 0.  0.  1.  1.  1.  2.  0.]\n",
        " [ 0.  0.  0.  2.  2.  2.  2.]\n",
        " [ 0.  0.  0.  0.  0.  1.  1.]\n",
        " [ 0.  0.  0.  0.  0.  1.  0.]\n",
        " [ 0.  0.  0.  0.  0.  0.  2.]\n",
        " [ 0.  0.  0.  0.  0.  0.  0.]]\n",
        "13"
       ]
      },
      {
       "output_type": "stream",
       "stream": "stdout",
       "text": [
        "\n",
        "14"
       ]
      },
      {
       "output_type": "stream",
       "stream": "stdout",
       "text": [
        "\n",
        "[[ 0.  1.  2.  1.  1.  1.  2.]\n",
        " [ 0.  0.  2.  2.  2.  1.  1.]\n",
        " [ 0.  0.  0.  0.  2.  0.  1.]\n",
        " [ 0.  0.  0.  0.  2.  2.  1.]\n",
        " [ 0.  0.  0.  0.  0.  1.  1.]\n",
        " [ 0.  0.  0.  0.  0.  0.  2.]\n",
        " [ 0.  0.  0.  0.  0.  0.  0.]]\n",
        "15"
       ]
      },
      {
       "output_type": "stream",
       "stream": "stdout",
       "text": [
        "\n",
        "16"
       ]
      },
      {
       "output_type": "stream",
       "stream": "stdout",
       "text": [
        "\n",
        "[[ 0.  2.  1.  1.  0.  0.  0.]\n",
        " [ 0.  0.  0.  0.  2.  1.  0.]\n",
        " [ 0.  0.  0.  1.  0.  2.  1.]\n",
        " [ 0.  0.  0.  0.  1.  1.  2.]\n",
        " [ 0.  0.  0.  0.  0.  2.  1.]\n",
        " [ 0.  0.  0.  0.  0.  0.  2.]\n",
        " [ 0.  0.  0.  0.  0.  0.  0.]]"
       ]
      },
      {
       "output_type": "stream",
       "stream": "stdout",
       "text": [
        "\n",
        "matched\n",
        "17"
       ]
      },
      {
       "output_type": "stream",
       "stream": "stdout",
       "text": [
        "\n",
        "18"
       ]
      },
      {
       "output_type": "stream",
       "stream": "stdout",
       "text": [
        "\n",
        "[[ 0.  1.  1.  0.  0.  0.  0.]\n",
        " [ 0.  0.  1.  0.  2.  1.  0.]\n",
        " [ 0.  0.  0.  1.  0.  0.  1.]\n",
        " [ 0.  0.  0.  0.  1.  2.  1.]\n",
        " [ 0.  0.  0.  0.  0.  0.  1.]\n",
        " [ 0.  0.  0.  0.  0.  0.  2.]\n",
        " [ 0.  0.  0.  0.  0.  0.  0.]]\n",
        "19"
       ]
      },
      {
       "output_type": "stream",
       "stream": "stdout",
       "text": [
        "\n"
       ]
      }
     ],
     "prompt_number": 831
    },
    {
     "cell_type": "markdown",
     "metadata": {},
     "source": [
      "So this seems to work (ish)"
     ]
    },
    {
     "cell_type": "code",
     "collapsed": false,
     "input": [
      "t = np.matrix(\"0  1  2  2  0  2  0  2;  0  0  0  1  0  0  1  0;  0  0  0  1  2  2  2  0;  0  0  0  0  0  1  0  0;  0  0  0  0  0  0  1  1;  0  0  0  0  0  0  1  0;  0  0  0  0  0  0  0  2;  0  0  0  0  0  0  0  0\")"
     ],
     "language": "python",
     "metadata": {},
     "outputs": [],
     "prompt_number": 895
    },
    {
     "cell_type": "code",
     "collapsed": false,
     "input": [
      "reorderMat(t,2)"
     ],
     "language": "python",
     "metadata": {},
     "outputs": [
      {
       "metadata": {},
       "output_type": "pyout",
       "prompt_number": 848,
       "text": [
        "(matrix([[ 0.,  2.,  0.,  0.,  2.,  2.,  0.,  2.],\n",
        "        [ 0.,  0.,  2.,  2.,  1.,  2.,  2.,  0.],\n",
        "        [ 0.,  0.,  0.,  0.,  1.,  0.,  1.,  0.],\n",
        "        [ 0.,  0.,  0.,  0.,  0.,  0.,  1.,  1.],\n",
        "        [ 0.,  0.,  0.,  0.,  0.,  1.,  0.,  0.],\n",
        "        [ 0.,  0.,  0.,  0.,  0.,  0.,  1.,  0.],\n",
        "        [ 0.,  0.,  0.,  0.,  0.,  0.,  0.,  2.],\n",
        "        [ 0.,  0.,  0.,  0.,  0.,  0.,  0.,  0.]]),\n",
        " array([[0], [2], [1], [4], [3], [5], [6], [7]], dtype=object))"
       ]
      }
     ],
     "prompt_number": 848
    },
    {
     "cell_type": "code",
     "collapsed": false,
     "input": [
      "reorderMat(t,3)"
     ],
     "language": "python",
     "metadata": {},
     "outputs": [
      {
       "ename": "NameError",
       "evalue": "global name 'maxes' is not defined",
       "output_type": "pyerr",
       "traceback": [
        "\u001b[1;31m---------------------------------------------------------------------------\u001b[0m\n\u001b[1;31mNameError\u001b[0m                                 Traceback (most recent call last)",
        "\u001b[1;32m<ipython-input-896-a58444524665>\u001b[0m in \u001b[0;36m<module>\u001b[1;34m()\u001b[0m\n\u001b[1;32m----> 1\u001b[1;33m \u001b[0mreorderMat\u001b[0m\u001b[1;33m(\u001b[0m\u001b[0mt\u001b[0m\u001b[1;33m,\u001b[0m\u001b[1;36m3\u001b[0m\u001b[1;33m)\u001b[0m\u001b[1;33m\u001b[0m\u001b[0m\n\u001b[0m",
        "\u001b[1;32m<ipython-input-893-44a1af5d3793>\u001b[0m in \u001b[0;36mreorderMat\u001b[1;34m(inMat, w)\u001b[0m\n\u001b[0;32m     43\u001b[0m             \u001b[0mcolToAddScores\u001b[0m \u001b[1;33m=\u001b[0m \u001b[1;33m[\u001b[0m\u001b[1;33m]\u001b[0m\u001b[1;33m\u001b[0m\u001b[0m\n\u001b[0;32m     44\u001b[0m             \u001b[0mcolToAddList\u001b[0m \u001b[1;33m=\u001b[0m \u001b[1;33m[\u001b[0m\u001b[1;33m]\u001b[0m\u001b[1;33m\u001b[0m\u001b[0m\n\u001b[1;32m---> 45\u001b[1;33m             \u001b[1;32mfor\u001b[0m \u001b[0mhh\u001b[0m \u001b[1;32min\u001b[0m \u001b[0mrange\u001b[0m\u001b[1;33m(\u001b[0m\u001b[1;36m0\u001b[0m\u001b[1;33m,\u001b[0m\u001b[0mlen\u001b[0m\u001b[1;33m(\u001b[0m\u001b[0mmaxes\u001b[0m\u001b[1;33m)\u001b[0m\u001b[1;33m)\u001b[0m\u001b[1;33m:\u001b[0m\u001b[1;33m\u001b[0m\u001b[0m\n\u001b[0m\u001b[0;32m     46\u001b[0m                 \u001b[1;31m# now manipulate colToAdd to match this:\u001b[0m\u001b[1;33m\u001b[0m\u001b[1;33m\u001b[0m\u001b[0m\n\u001b[0;32m     47\u001b[0m                 \u001b[0mcolToAdd2\u001b[0m \u001b[1;33m=\u001b[0m \u001b[1;33m-\u001b[0m\u001b[0mnp\u001b[0m\u001b[1;33m.\u001b[0m\u001b[0mones\u001b[0m\u001b[1;33m(\u001b[0m\u001b[0mlen\u001b[0m\u001b[1;33m(\u001b[0m\u001b[0mcolToAdd\u001b[0m\u001b[1;33m)\u001b[0m\u001b[1;33m)\u001b[0m\u001b[1;33m\u001b[0m\u001b[0m\n",
        "\u001b[1;31mNameError\u001b[0m: global name 'maxes' is not defined"
       ]
      }
     ],
     "prompt_number": 896
    },
    {
     "cell_type": "heading",
     "level": 2,
     "metadata": {},
     "source": [
      "Usage"
     ]
    },
    {
     "cell_type": "markdown",
     "metadata": {},
     "source": [
      "We just want it to report when this is NOT an optimal version in the actual run through, which we could do as soon as there is a re-ordering of a row (which is easy to check!)"
     ]
    },
    {
     "cell_type": "heading",
     "level": 2,
     "metadata": {},
     "source": [
      "Old Stuff"
     ]
    },
    {
     "cell_type": "code",
     "collapsed": false,
     "input": [
      "def getHighestinRow(inMat,node,level,nodeOrder):\n",
      "    noNodes = np.arange(inMat.shape[0])\n",
      "    thisRow = np.asarray(inMat[node,:])[0]\n",
      "    print thisRow\n",
      "    nodeSelect = noNodes[thisRow!=0]\n",
      "    nodeOrderSelect = nodeOrder[thisRow!=0]\n",
      "    print nodeSelect,nodeOrderSelect\n",
      "    # we need to number according to above, unless they have further node orders to come:\n",
      "    sortedOrderSelect = np.argsort(nodeOrderSelect)\n",
      "    print sortedOrderSelect\n",
      "    '''\n",
      "    for \n",
      "    tempList = noNodes[thisRow==theMax]\n",
      "    if len(tempList)==1:\n",
      "        return tempList[0]\n",
      "    else:\n",
      "        print \"will got to next level\"\n",
      "        print tempList\n",
      "        \n",
      "        for thisI in templist:\n",
      "            getHighestinRow(inMat,node,level+1)\n",
      "        '''"
     ],
     "language": "python",
     "metadata": {},
     "outputs": [],
     "prompt_number": 222
    },
    {
     "cell_type": "code",
     "collapsed": false,
     "input": [
      "%%timeit -n1 -r1\n",
      "print getHighestinRow(testMatrix,2,0,getNodeOrderOut(testMatrix))"
     ],
     "language": "python",
     "metadata": {},
     "outputs": [
      {
       "output_type": "stream",
       "stream": "stdout",
       "text": [
        "[0 0 0 0 1]\n",
        "[4] [0]\n",
        "[0]\n",
        "None\n",
        "1 loops, best of 1: 977 \u00b5s per loop\n"
       ]
      }
     ],
     "prompt_number": 184
    },
    {
     "cell_type": "code",
     "collapsed": false,
     "input": [
      "%%timeit -n1 -r1\n",
      "getHighestinRow(testMatrix,0,0,getNodeOrderOut(testMatrix))"
     ],
     "language": "python",
     "metadata": {},
     "outputs": [
      {
       "output_type": "stream",
       "stream": "stdout",
       "text": [
        "[0 1 0 1 0]\n",
        "[1 3] [1 1]\n",
        "[0 1]\n",
        "1 loops, best of 1: 1.1 ms per loop\n"
       ]
      }
     ],
     "prompt_number": 185
    },
    {
     "cell_type": "code",
     "collapsed": false,
     "input": [
      "%%timeit -n1 -r1\n",
      "reorderMat(testMatrix)"
     ],
     "language": "python",
     "metadata": {},
     "outputs": [
      {
       "output_type": "stream",
       "stream": "stdout",
       "text": [
        "\n",
        "[0 1 2 3 4]\n",
        "[0 1 0 1 0]\n",
        "[1 1]\n",
        "[0 1]\n",
        "1 loops, best of 1: 1.34 ms per loop\n"
       ]
      }
     ],
     "prompt_number": 175
    },
    {
     "cell_type": "code",
     "collapsed": false,
     "input": [],
     "language": "python",
     "metadata": {},
     "outputs": []
    }
   ],
   "metadata": {}
  }
 ]
}