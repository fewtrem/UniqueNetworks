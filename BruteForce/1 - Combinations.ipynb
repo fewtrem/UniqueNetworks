{
 "metadata": {
  "name": ""
 },
 "nbformat": 3,
 "nbformat_minor": 0,
 "worksheets": [
  {
   "cells": [
    {
     "cell_type": "code",
     "collapsed": false,
     "input": [
      "%matplotlib inline\n",
      "import numpy as np"
     ],
     "language": "python",
     "metadata": {},
     "outputs": [],
     "prompt_number": 71
    },
    {
     "cell_type": "markdown",
     "metadata": {},
     "source": [
      "How many combinations are we going to run??\n",
      "\\usepackage{amsmath}"
     ]
    },
    {
     "cell_type": "heading",
     "level": 2,
     "metadata": {},
     "source": [
      "Variables"
     ]
    },
    {
     "cell_type": "code",
     "collapsed": false,
     "input": [
      "# number of neurons\n",
      "n = 4\n",
      "# number of weights\n",
      "w = 5"
     ],
     "language": "python",
     "metadata": {},
     "outputs": [],
     "prompt_number": 2
    },
    {
     "cell_type": "heading",
     "level": 2,
     "metadata": {},
     "source": [
      "Constraints"
     ]
    },
    {
     "cell_type": "markdown",
     "metadata": {},
     "source": [
      "We will have a network with initially just one input pulse in neuron $1$ and output in neuron $n$.  We can represent connection weights in a matrix with row number being FROM neuron and column number being TO neuron.  One value of the weights is zero."
     ]
    },
    {
     "cell_type": "markdown",
     "metadata": {},
     "source": [
      "> We can only have feedforward paths initially (as we are going to look at how recurrence affects the system).  Thus the allowed form of the connection matrix will be like:\n",
      "      \\begin{bmatrix}\n",
      "        0 & 1 & 1 & 1 \\\\\n",
      "        0 & 0 & 1 & 1 \\\\\n",
      "        0 & 0 & 0 & 1 \\\\\n",
      "        0 & 0 & 0 & 0 \\\\\n",
      "      \\end{bmatrix}"
     ]
    },
    {
     "cell_type": "markdown",
     "metadata": {},
     "source": [
      "> We do not want to waste time studying networks with inputs that do not come from anywhere, or go out to nowhere, thus we cannot have any rows which are all zero or any columns that are all zero"
     ]
    },
    {
     "cell_type": "markdown",
     "metadata": {},
     "source": [
      "> We do not want any networks that are just rearrangements of others. E.g. a network with paths 1>2>3>5 and 1>4>5 can be rerepresented as 1>3>4>5 and 1>2>5 among other ways."
     ]
    },
    {
     "cell_type": "heading",
     "level": 2,
     "metadata": {},
     "source": [
      "Counting"
     ]
    },
    {
     "cell_type": "markdown",
     "metadata": {},
     "source": [
      "Upper limit is $w^{\\frac{n^2-n}{2}}$, which for $n=4, w=5$ is $5^6=15625$.  Other values are:"
     ]
    },
    {
     "cell_type": "code",
     "collapsed": false,
     "input": [
      "for i in range(1,11):\n",
      "    print \"w=5,n=\",i,\": \",pow(5,(i*i-i)/2)"
     ],
     "language": "python",
     "metadata": {},
     "outputs": [
      {
       "output_type": "stream",
       "stream": "stdout",
       "text": [
        "w=5,n= 1 :  1\n",
        "w=5,n= 2 :  5\n",
        "w=5,n= 3 :  125\n",
        "w=5,n= 4 :  15625\n",
        "w=5,n= 5 :  9765625\n",
        "w=5,n= 6 :  30517578125\n",
        "w=5,n= 7 :  476837158203125\n",
        "w=5,n= 8 :  37252902984619140625\n",
        "w=5,n= 9 :  14551915228366851806640625\n",
        "w=5,n= 10 :  28421709430404007434844970703125\n"
       ]
      }
     ],
     "prompt_number": 9
    },
    {
     "cell_type": "markdown",
     "metadata": {},
     "source": [
      "Let's also go through and remove how many zeros there would be. The more $w$ values we have, the less this is significant, unfortunately...  but anyway, we can estimate it, first as all with penultimate neuron being zero can be removed, so that is $w^{\\frac{n^2-n}{2}-1}$, and to this we can add all those with 2nd neuron not being there that do have a value in this i.e. $w^{\\frac{n^2-n}{2}-2}*(w-1)$, so a pattern should be doable...:"
     ]
    },
    {
     "cell_type": "markdown",
     "metadata": {},
     "source": [
      "The number of combinations per row is:\n",
      "$w^i$\n",
      "So the total is:\n",
      "$\\prod^{n-1}_{i=1}w^i$\n",
      "We need to be careful not to count rows with zeros we have already counted, so do not count those elsewhere that are fully zero.  We thus have the combinations in all other rows, apart from the fully zero one for that row:"
     ]
    },
    {
     "cell_type": "code",
     "collapsed": false,
     "input": [
      "def zeroRem(n,w):\n",
      "    tot = 0\n",
      "    for i in range(1,n):\n",
      "        numToAdd = 1\n",
      "        for j in range(1,n):\n",
      "            # do not count the all zeros!\n",
      "            if j != i:\n",
      "                numToAdd = (numToAdd*pow(w,j)-1)\n",
      "        print numToAdd\n",
      "        tot += numToAdd\n",
      "    print \"total:\",tot\n",
      "    print \"as a percentage:\",float(tot)/pow(w,(n*n-n)/2)*100"
     ],
     "language": "python",
     "metadata": {},
     "outputs": [],
     "prompt_number": 2
    },
    {
     "cell_type": "code",
     "collapsed": false,
     "input": [
      "zeroRem(n,w)"
     ],
     "language": "python",
     "metadata": {},
     "outputs": [
      {
       "output_type": "stream",
       "stream": "stdout",
       "text": [
        "2999\n",
        "499\n",
        "99\n",
        "total: 3597\n",
        "as a percentage: 23.0208\n"
       ]
      }
     ],
     "prompt_number": 3
    },
    {
     "cell_type": "markdown",
     "metadata": {},
     "source": [
      "This will not make a huge difference, c.f. for $w=2$:"
     ]
    },
    {
     "cell_type": "code",
     "collapsed": false,
     "input": [
      "zeroRem(4,2)"
     ],
     "language": "python",
     "metadata": {},
     "outputs": [
      {
       "output_type": "stream",
       "stream": "stdout",
       "text": [
        "23\n",
        "7\n",
        "3\n",
        "total: 33\n",
        "as a percentage: 51.5625\n"
       ]
      }
     ],
     "prompt_number": 4
    },
    {
     "cell_type": "markdown",
     "metadata": {},
     "source": [
      "What about for columns too?  There will be some overcounting, again.  We need to subtract, for each one, the number of row zeros if this column is entirely zero... this gets complicated so let's check the above theory by generating matrices and finding out if they are satisfactory or not."
     ]
    },
    {
     "cell_type": "code",
     "collapsed": false,
     "input": [
      "def doCheck(testM):\n",
      "    return 1"
     ],
     "language": "python",
     "metadata": {},
     "outputs": [],
     "prompt_number": 106
    },
    {
     "cell_type": "code",
     "collapsed": false,
     "input": [
      "def runthrough(addP,thisI,w,testM,listPTC):\n",
      "    addPrior = addP\n",
      "    for tW in range(0,w):\n",
      "        testM[listPTC[thisI][0],listPTC[thisI][1]]=tW\n",
      "        if thisI == len(listPTC)-1:\n",
      "            addP += doCheck(testM)\n",
      "        else:\n",
      "            newvar = thisI+1\n",
      "            addP += runthrough(addPrior,newvar,w,testM,listPTC)\n",
      "    return addP"
     ],
     "language": "python",
     "metadata": {},
     "outputs": [],
     "prompt_number": 107
    },
    {
     "cell_type": "code",
     "collapsed": false,
     "input": [
      "def testM(n,w):\n",
      "    testM = np.zeros((n,n))\n",
      "    listPTC = []\n",
      "    for i in range(0,n):\n",
      "        for j in range(0,n-i-1):\n",
      "            listPTC.append([i,n-j-1])\n",
      "    print pow(w,(n*n-n)/2), \" to do\"\n",
      "    totalM = runthrough(0,0,w,testM,listPTC)\n",
      "    print totalM, \"possible i.e. \",float(totalM)/pow(w,(n*n-n)/2)*100,\" percent\"\n",
      "    \n",
      "        "
     ],
     "language": "python",
     "metadata": {},
     "outputs": [],
     "prompt_number": 136
    },
    {
     "cell_type": "code",
     "collapsed": false,
     "input": [
      "def doCheck(testM):\n",
      "    # sum rows:\n",
      "    dontRet = False\n",
      "    tMS = np.sum(testM,1)\n",
      "    if sum(tMS[:-1]==0)!=0:\n",
      "        dontRet = True\n",
      "    # sum cols:\n",
      "    tMS = np.sum(testM,0)\n",
      "    if sum(tMS[1:]==0)!=0:\n",
      "        dontRet = True\n",
      "    if dontRet==False:\n",
      "        return 1\n",
      "        \n",
      "    else:\n",
      "        return 0"
     ],
     "language": "python",
     "metadata": {},
     "outputs": [],
     "prompt_number": 128
    },
    {
     "cell_type": "code",
     "collapsed": false,
     "input": [
      "testM(6,2)"
     ],
     "language": "python",
     "metadata": {},
     "outputs": [
      {
       "output_type": "stream",
       "stream": "stdout",
       "text": [
        "32768  to do\n",
        "3346"
       ]
      },
      {
       "output_type": "stream",
       "stream": "stdout",
       "text": [
        " possible i.e.  10.2111816406  percent\n"
       ]
      }
     ],
     "prompt_number": 143
    },
    {
     "cell_type": "code",
     "collapsed": false,
     "input": [
      "testM(4,3)"
     ],
     "language": "python",
     "metadata": {},
     "outputs": [
      {
       "output_type": "stream",
       "stream": "stdout",
       "text": [
        "729  to do\n",
        "264 possible i.e.  36.2139917695  percent\n"
       ]
      }
     ],
     "prompt_number": 144
    },
    {
     "cell_type": "code",
     "collapsed": false,
     "input": [
      "testM(5,3)"
     ],
     "language": "python",
     "metadata": {},
     "outputs": [
      {
       "output_type": "stream",
       "stream": "stdout",
       "text": [
        "59049  to do\n",
        "19632"
       ]
      },
      {
       "output_type": "stream",
       "stream": "stdout",
       "text": [
        " possible i.e.  33.2469643855  percent\n"
       ]
      }
     ],
     "prompt_number": 145
    },
    {
     "cell_type": "code",
     "collapsed": false,
     "input": [
      "testM(4,5)"
     ],
     "language": "python",
     "metadata": {},
     "outputs": [
      {
       "output_type": "stream",
       "stream": "stdout",
       "text": [
        "15625  to do\n",
        "9280"
       ]
      },
      {
       "output_type": "stream",
       "stream": "stdout",
       "text": [
        " possible i.e.  59.392  percent\n"
       ]
      }
     ],
     "prompt_number": 147
    },
    {
     "cell_type": "markdown",
     "metadata": {},
     "source": [
      "So this doesn't have a HUGE effect... things scale up VERY quickly.  What about repeated motifs?  It will take a long time tosearch through a database... we need to see for each one if it can be represented optimally / uniquely and somehow grade the one we will store..."
     ]
    },
    {
     "cell_type": "code",
     "collapsed": false,
     "input": [],
     "language": "python",
     "metadata": {},
     "outputs": []
    }
   ],
   "metadata": {}
  }
 ]
}